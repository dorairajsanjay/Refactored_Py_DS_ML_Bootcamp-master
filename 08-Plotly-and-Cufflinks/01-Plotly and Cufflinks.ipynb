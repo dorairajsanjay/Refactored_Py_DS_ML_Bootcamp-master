{
 "cells": [
  {
   "cell_type": "markdown",
   "metadata": {},
   "source": [
    "___\n",
    "\n",
    "<a href='http://www.pieriandata.com'> <img src='../Pierian_Data_Logo.png' /></a>\n",
    "___\n",
    "# Plotly and Cufflinks"
   ]
  },
  {
   "cell_type": "markdown",
   "metadata": {},
   "source": [
    "Plotly is a library that allows you to create interactive plots that you can use in dashboards or websites (you can save them as html files or static images).\n",
    "\n",
    "## Installation\n",
    "\n",
    "In order for this all to work, you'll need to install plotly and cufflinks to call plots directly off of a pandas dataframe. These libraries are not currently available through **conda** but are available through **pip**. Install the libraries at your command line/terminal using:\n",
    "\n",
    "    pip install plotly\n",
    "    pip install cufflinks\n",
    "\n",
    "** NOTE: Make sure you only have one installation of Python on your computer when you do this, otherwise the installation may not work. **\n",
    "\n",
    "## Imports and Set-up"
   ]
  },
  {
   "cell_type": "code",
   "execution_count": 9,
   "metadata": {},
   "outputs": [
    {
     "name": "stdout",
     "output_type": "stream",
     "text": [
      "Collecting cufflinks\n",
      "\u001b[?25l  Downloading https://files.pythonhosted.org/packages/e3/79/1b8673b2723e02919307d558896dbcedcb46807c4e29acd25cfe43a36c8b/cufflinks-0.17.0.tar.gz (81kB)\n",
      "\u001b[K     |████████████████████████████████| 81kB 1.6MB/s eta 0:00:01\n",
      "\u001b[?25hRequirement already satisfied: numpy>=1.9.2 in /Users/sanjaydorairaj/opt/anaconda3/lib/python3.7/site-packages (from cufflinks) (1.17.2)\n",
      "Requirement already satisfied: pandas>=0.19.2 in /Users/sanjaydorairaj/opt/anaconda3/lib/python3.7/site-packages (from cufflinks) (0.25.1)\n",
      "Requirement already satisfied: plotly>=4.1.1 in /Users/sanjaydorairaj/opt/anaconda3/lib/python3.7/site-packages (from cufflinks) (4.4.1)\n",
      "Collecting chart-studio>=1.0.0 (from cufflinks)\n",
      "\u001b[?25l  Downloading https://files.pythonhosted.org/packages/b9/3f/d2f3f506ba1aaf109f549f8b01d1483cd3e324c5ebe6b206acee66efdf46/chart_studio-1.0.0-py3-none-any.whl (76kB)\n",
      "\u001b[K     |████████████████████████████████| 81kB 4.2MB/s eta 0:00:011\n",
      "\u001b[?25hRequirement already satisfied: six>=1.9.0 in /Users/sanjaydorairaj/opt/anaconda3/lib/python3.7/site-packages (from cufflinks) (1.12.0)\n",
      "Collecting colorlover>=0.2.1 (from cufflinks)\n",
      "  Downloading https://files.pythonhosted.org/packages/9a/53/f696e4480b1d1de3b1523991dea71cf417c8b19fe70c704da164f3f90972/colorlover-0.3.0-py3-none-any.whl\n",
      "Requirement already satisfied: setuptools>=34.4.1 in /Users/sanjaydorairaj/opt/anaconda3/lib/python3.7/site-packages (from cufflinks) (41.4.0)\n",
      "Requirement already satisfied: ipython>=5.3.0 in /Users/sanjaydorairaj/opt/anaconda3/lib/python3.7/site-packages (from cufflinks) (7.8.0)\n",
      "Requirement already satisfied: ipywidgets>=7.0.0 in /Users/sanjaydorairaj/opt/anaconda3/lib/python3.7/site-packages (from cufflinks) (7.5.1)\n",
      "Requirement already satisfied: python-dateutil>=2.6.1 in /Users/sanjaydorairaj/opt/anaconda3/lib/python3.7/site-packages (from pandas>=0.19.2->cufflinks) (2.8.0)\n",
      "Requirement already satisfied: pytz>=2017.2 in /Users/sanjaydorairaj/opt/anaconda3/lib/python3.7/site-packages (from pandas>=0.19.2->cufflinks) (2019.3)\n",
      "Requirement already satisfied: retrying>=1.3.3 in /Users/sanjaydorairaj/opt/anaconda3/lib/python3.7/site-packages (from plotly>=4.1.1->cufflinks) (1.3.3)\n",
      "Requirement already satisfied: requests in /Users/sanjaydorairaj/opt/anaconda3/lib/python3.7/site-packages (from chart-studio>=1.0.0->cufflinks) (2.22.0)\n",
      "Requirement already satisfied: pexpect; sys_platform != \"win32\" in /Users/sanjaydorairaj/opt/anaconda3/lib/python3.7/site-packages (from ipython>=5.3.0->cufflinks) (4.7.0)\n",
      "Requirement already satisfied: traitlets>=4.2 in /Users/sanjaydorairaj/opt/anaconda3/lib/python3.7/site-packages (from ipython>=5.3.0->cufflinks) (4.3.3)\n",
      "Requirement already satisfied: prompt-toolkit<2.1.0,>=2.0.0 in /Users/sanjaydorairaj/opt/anaconda3/lib/python3.7/site-packages (from ipython>=5.3.0->cufflinks) (2.0.10)\n",
      "Requirement already satisfied: pickleshare in /Users/sanjaydorairaj/opt/anaconda3/lib/python3.7/site-packages (from ipython>=5.3.0->cufflinks) (0.7.5)\n",
      "Requirement already satisfied: jedi>=0.10 in /Users/sanjaydorairaj/opt/anaconda3/lib/python3.7/site-packages (from ipython>=5.3.0->cufflinks) (0.15.1)\n",
      "Requirement already satisfied: appnope; sys_platform == \"darwin\" in /Users/sanjaydorairaj/opt/anaconda3/lib/python3.7/site-packages (from ipython>=5.3.0->cufflinks) (0.1.0)\n",
      "Requirement already satisfied: backcall in /Users/sanjaydorairaj/opt/anaconda3/lib/python3.7/site-packages (from ipython>=5.3.0->cufflinks) (0.1.0)\n",
      "Requirement already satisfied: decorator in /Users/sanjaydorairaj/opt/anaconda3/lib/python3.7/site-packages (from ipython>=5.3.0->cufflinks) (4.4.0)\n",
      "Requirement already satisfied: pygments in /Users/sanjaydorairaj/opt/anaconda3/lib/python3.7/site-packages (from ipython>=5.3.0->cufflinks) (2.4.2)\n",
      "Requirement already satisfied: nbformat>=4.2.0 in /Users/sanjaydorairaj/opt/anaconda3/lib/python3.7/site-packages (from ipywidgets>=7.0.0->cufflinks) (4.4.0)\n",
      "Requirement already satisfied: widgetsnbextension~=3.5.0 in /Users/sanjaydorairaj/opt/anaconda3/lib/python3.7/site-packages (from ipywidgets>=7.0.0->cufflinks) (3.5.1)\n",
      "Requirement already satisfied: ipykernel>=4.5.1 in /Users/sanjaydorairaj/opt/anaconda3/lib/python3.7/site-packages (from ipywidgets>=7.0.0->cufflinks) (5.1.2)\n",
      "Requirement already satisfied: urllib3!=1.25.0,!=1.25.1,<1.26,>=1.21.1 in /Users/sanjaydorairaj/opt/anaconda3/lib/python3.7/site-packages (from requests->chart-studio>=1.0.0->cufflinks) (1.24.2)\n",
      "Requirement already satisfied: certifi>=2017.4.17 in /Users/sanjaydorairaj/opt/anaconda3/lib/python3.7/site-packages (from requests->chart-studio>=1.0.0->cufflinks) (2019.9.11)\n",
      "Requirement already satisfied: idna<2.9,>=2.5 in /Users/sanjaydorairaj/opt/anaconda3/lib/python3.7/site-packages (from requests->chart-studio>=1.0.0->cufflinks) (2.8)\n",
      "Requirement already satisfied: chardet<3.1.0,>=3.0.2 in /Users/sanjaydorairaj/opt/anaconda3/lib/python3.7/site-packages (from requests->chart-studio>=1.0.0->cufflinks) (3.0.4)\n",
      "Requirement already satisfied: ptyprocess>=0.5 in /Users/sanjaydorairaj/opt/anaconda3/lib/python3.7/site-packages (from pexpect; sys_platform != \"win32\"->ipython>=5.3.0->cufflinks) (0.6.0)\n",
      "Requirement already satisfied: ipython-genutils in /Users/sanjaydorairaj/opt/anaconda3/lib/python3.7/site-packages (from traitlets>=4.2->ipython>=5.3.0->cufflinks) (0.2.0)\n",
      "Requirement already satisfied: wcwidth in /Users/sanjaydorairaj/opt/anaconda3/lib/python3.7/site-packages (from prompt-toolkit<2.1.0,>=2.0.0->ipython>=5.3.0->cufflinks) (0.1.7)\n",
      "Requirement already satisfied: parso>=0.5.0 in /Users/sanjaydorairaj/opt/anaconda3/lib/python3.7/site-packages (from jedi>=0.10->ipython>=5.3.0->cufflinks) (0.5.1)\n",
      "Requirement already satisfied: jsonschema!=2.5.0,>=2.4 in /Users/sanjaydorairaj/opt/anaconda3/lib/python3.7/site-packages (from nbformat>=4.2.0->ipywidgets>=7.0.0->cufflinks) (3.0.2)\n",
      "Requirement already satisfied: jupyter-core in /Users/sanjaydorairaj/opt/anaconda3/lib/python3.7/site-packages (from nbformat>=4.2.0->ipywidgets>=7.0.0->cufflinks) (4.5.0)\n",
      "Requirement already satisfied: notebook>=4.4.1 in /Users/sanjaydorairaj/opt/anaconda3/lib/python3.7/site-packages (from widgetsnbextension~=3.5.0->ipywidgets>=7.0.0->cufflinks) (6.0.1)\n",
      "Requirement already satisfied: jupyter-client in /Users/sanjaydorairaj/opt/anaconda3/lib/python3.7/site-packages (from ipykernel>=4.5.1->ipywidgets>=7.0.0->cufflinks) (5.3.3)\n",
      "Requirement already satisfied: tornado>=4.2 in /Users/sanjaydorairaj/opt/anaconda3/lib/python3.7/site-packages (from ipykernel>=4.5.1->ipywidgets>=7.0.0->cufflinks) (6.0.3)\n",
      "Requirement already satisfied: pyrsistent>=0.14.0 in /Users/sanjaydorairaj/opt/anaconda3/lib/python3.7/site-packages (from jsonschema!=2.5.0,>=2.4->nbformat>=4.2.0->ipywidgets>=7.0.0->cufflinks) (0.15.4)\n",
      "Requirement already satisfied: attrs>=17.4.0 in /Users/sanjaydorairaj/opt/anaconda3/lib/python3.7/site-packages (from jsonschema!=2.5.0,>=2.4->nbformat>=4.2.0->ipywidgets>=7.0.0->cufflinks) (19.2.0)\n",
      "Requirement already satisfied: pyzmq>=17 in /Users/sanjaydorairaj/opt/anaconda3/lib/python3.7/site-packages (from notebook>=4.4.1->widgetsnbextension~=3.5.0->ipywidgets>=7.0.0->cufflinks) (18.1.0)\n",
      "Requirement already satisfied: nbconvert in /Users/sanjaydorairaj/opt/anaconda3/lib/python3.7/site-packages (from notebook>=4.4.1->widgetsnbextension~=3.5.0->ipywidgets>=7.0.0->cufflinks) (5.6.0)\n",
      "Requirement already satisfied: terminado>=0.8.1 in /Users/sanjaydorairaj/opt/anaconda3/lib/python3.7/site-packages (from notebook>=4.4.1->widgetsnbextension~=3.5.0->ipywidgets>=7.0.0->cufflinks) (0.8.2)\n",
      "Requirement already satisfied: prometheus-client in /Users/sanjaydorairaj/opt/anaconda3/lib/python3.7/site-packages (from notebook>=4.4.1->widgetsnbextension~=3.5.0->ipywidgets>=7.0.0->cufflinks) (0.7.1)\n",
      "Requirement already satisfied: Send2Trash in /Users/sanjaydorairaj/opt/anaconda3/lib/python3.7/site-packages (from notebook>=4.4.1->widgetsnbextension~=3.5.0->ipywidgets>=7.0.0->cufflinks) (1.5.0)\n",
      "Requirement already satisfied: jinja2 in /Users/sanjaydorairaj/opt/anaconda3/lib/python3.7/site-packages (from notebook>=4.4.1->widgetsnbextension~=3.5.0->ipywidgets>=7.0.0->cufflinks) (2.10.3)\n",
      "Requirement already satisfied: bleach in /Users/sanjaydorairaj/opt/anaconda3/lib/python3.7/site-packages (from nbconvert->notebook>=4.4.1->widgetsnbextension~=3.5.0->ipywidgets>=7.0.0->cufflinks) (3.1.0)\n",
      "Requirement already satisfied: defusedxml in /Users/sanjaydorairaj/opt/anaconda3/lib/python3.7/site-packages (from nbconvert->notebook>=4.4.1->widgetsnbextension~=3.5.0->ipywidgets>=7.0.0->cufflinks) (0.6.0)\n"
     ]
    },
    {
     "name": "stdout",
     "output_type": "stream",
     "text": [
      "Requirement already satisfied: testpath in /Users/sanjaydorairaj/opt/anaconda3/lib/python3.7/site-packages (from nbconvert->notebook>=4.4.1->widgetsnbextension~=3.5.0->ipywidgets>=7.0.0->cufflinks) (0.4.2)\n",
      "Requirement already satisfied: pandocfilters>=1.4.1 in /Users/sanjaydorairaj/opt/anaconda3/lib/python3.7/site-packages (from nbconvert->notebook>=4.4.1->widgetsnbextension~=3.5.0->ipywidgets>=7.0.0->cufflinks) (1.4.2)\n",
      "Requirement already satisfied: entrypoints>=0.2.2 in /Users/sanjaydorairaj/opt/anaconda3/lib/python3.7/site-packages (from nbconvert->notebook>=4.4.1->widgetsnbextension~=3.5.0->ipywidgets>=7.0.0->cufflinks) (0.3)\n",
      "Requirement already satisfied: mistune<2,>=0.8.1 in /Users/sanjaydorairaj/opt/anaconda3/lib/python3.7/site-packages (from nbconvert->notebook>=4.4.1->widgetsnbextension~=3.5.0->ipywidgets>=7.0.0->cufflinks) (0.8.4)\n",
      "Requirement already satisfied: MarkupSafe>=0.23 in /Users/sanjaydorairaj/opt/anaconda3/lib/python3.7/site-packages (from jinja2->notebook>=4.4.1->widgetsnbextension~=3.5.0->ipywidgets>=7.0.0->cufflinks) (1.1.1)\n",
      "Requirement already satisfied: webencodings in /Users/sanjaydorairaj/opt/anaconda3/lib/python3.7/site-packages (from bleach->nbconvert->notebook>=4.4.1->widgetsnbextension~=3.5.0->ipywidgets>=7.0.0->cufflinks) (0.5.1)\n",
      "Building wheels for collected packages: cufflinks\n",
      "  Building wheel for cufflinks (setup.py) ... \u001b[?25ldone\n",
      "\u001b[?25h  Created wheel for cufflinks: filename=cufflinks-0.17.0-cp37-none-any.whl size=67744 sha256=5d34e977bf4d2542d6be5cc806423d347bc5f6988cd3ed090dbb611a536526d9\n",
      "  Stored in directory: /Users/sanjaydorairaj/Library/Caches/pip/wheels/44/d7/dc/e830ab00bc2dd3b2731295103baa070f8cbdda8891f71a7a8d\n",
      "Successfully built cufflinks\n",
      "Installing collected packages: chart-studio, colorlover, cufflinks\n",
      "Successfully installed chart-studio-1.0.0 colorlover-0.3.0 cufflinks-0.17.0\n"
     ]
    }
   ],
   "source": [
    "!pip install cufflinks"
   ]
  },
  {
   "cell_type": "code",
   "execution_count": 10,
   "metadata": {},
   "outputs": [],
   "source": [
    "import pandas as pd\n",
    "import numpy as np\n",
    "%matplotlib inline"
   ]
  },
  {
   "cell_type": "code",
   "execution_count": 11,
   "metadata": {},
   "outputs": [
    {
     "name": "stdout",
     "output_type": "stream",
     "text": [
      "4.4.1\n"
     ]
    }
   ],
   "source": [
    "from plotly import __version__\n",
    "from plotly.offline import download_plotlyjs, init_notebook_mode, plot, iplot\n",
    "\n",
    "print(__version__) # requires version >= 1.9.0"
   ]
  },
  {
   "cell_type": "code",
   "execution_count": 12,
   "metadata": {},
   "outputs": [],
   "source": [
    "import cufflinks as cf"
   ]
  },
  {
   "cell_type": "code",
   "execution_count": 13,
   "metadata": {},
   "outputs": [
    {
     "data": {
      "text/html": [
       "        <script type=\"text/javascript\">\n",
       "        window.PlotlyConfig = {MathJaxConfig: 'local'};\n",
       "        if (window.MathJax) {MathJax.Hub.Config({SVG: {font: \"STIX-Web\"}});}\n",
       "        if (typeof require !== 'undefined') {\n",
       "        require.undef(\"plotly\");\n",
       "        requirejs.config({\n",
       "            paths: {\n",
       "                'plotly': ['https://cdn.plot.ly/plotly-latest.min']\n",
       "            }\n",
       "        });\n",
       "        require(['plotly'], function(Plotly) {\n",
       "            window._Plotly = Plotly;\n",
       "        });\n",
       "        }\n",
       "        </script>\n",
       "        "
      ]
     },
     "metadata": {},
     "output_type": "display_data"
    }
   ],
   "source": [
    "# For Notebooks\n",
    "init_notebook_mode(connected=True)"
   ]
  },
  {
   "cell_type": "code",
   "execution_count": 14,
   "metadata": {},
   "outputs": [
    {
     "data": {
      "text/html": [
       "        <script type=\"text/javascript\">\n",
       "        window.PlotlyConfig = {MathJaxConfig: 'local'};\n",
       "        if (window.MathJax) {MathJax.Hub.Config({SVG: {font: \"STIX-Web\"}});}\n",
       "        if (typeof require !== 'undefined') {\n",
       "        require.undef(\"plotly\");\n",
       "        requirejs.config({\n",
       "            paths: {\n",
       "                'plotly': ['https://cdn.plot.ly/plotly-latest.min']\n",
       "            }\n",
       "        });\n",
       "        require(['plotly'], function(Plotly) {\n",
       "            window._Plotly = Plotly;\n",
       "        });\n",
       "        }\n",
       "        </script>\n",
       "        "
      ]
     },
     "metadata": {},
     "output_type": "display_data"
    }
   ],
   "source": [
    "# For offline use\n",
    "cf.go_offline()"
   ]
  },
  {
   "cell_type": "markdown",
   "metadata": {},
   "source": [
    "### Fake Data"
   ]
  },
  {
   "cell_type": "code",
   "execution_count": 19,
   "metadata": {},
   "outputs": [],
   "source": [
    "df = pd.DataFrame(np.random.randn(100,4),columns='A B C D'.split())"
   ]
  },
  {
   "cell_type": "code",
   "execution_count": 20,
   "metadata": {},
   "outputs": [
    {
     "data": {
      "text/html": [
       "<div>\n",
       "<style scoped>\n",
       "    .dataframe tbody tr th:only-of-type {\n",
       "        vertical-align: middle;\n",
       "    }\n",
       "\n",
       "    .dataframe tbody tr th {\n",
       "        vertical-align: top;\n",
       "    }\n",
       "\n",
       "    .dataframe thead th {\n",
       "        text-align: right;\n",
       "    }\n",
       "</style>\n",
       "<table border=\"1\" class=\"dataframe\">\n",
       "  <thead>\n",
       "    <tr style=\"text-align: right;\">\n",
       "      <th></th>\n",
       "      <th>A</th>\n",
       "      <th>B</th>\n",
       "      <th>C</th>\n",
       "      <th>D</th>\n",
       "    </tr>\n",
       "  </thead>\n",
       "  <tbody>\n",
       "    <tr>\n",
       "      <td>0</td>\n",
       "      <td>-1.274456</td>\n",
       "      <td>-0.584807</td>\n",
       "      <td>-1.240308</td>\n",
       "      <td>0.415276</td>\n",
       "    </tr>\n",
       "    <tr>\n",
       "      <td>1</td>\n",
       "      <td>1.034510</td>\n",
       "      <td>1.459741</td>\n",
       "      <td>-1.059238</td>\n",
       "      <td>-0.276344</td>\n",
       "    </tr>\n",
       "    <tr>\n",
       "      <td>2</td>\n",
       "      <td>-0.085856</td>\n",
       "      <td>1.083762</td>\n",
       "      <td>0.610905</td>\n",
       "      <td>-1.532162</td>\n",
       "    </tr>\n",
       "    <tr>\n",
       "      <td>3</td>\n",
       "      <td>0.712464</td>\n",
       "      <td>0.246350</td>\n",
       "      <td>-0.165508</td>\n",
       "      <td>-0.917305</td>\n",
       "    </tr>\n",
       "    <tr>\n",
       "      <td>4</td>\n",
       "      <td>0.030711</td>\n",
       "      <td>1.451620</td>\n",
       "      <td>-0.322853</td>\n",
       "      <td>2.420436</td>\n",
       "    </tr>\n",
       "  </tbody>\n",
       "</table>\n",
       "</div>"
      ],
      "text/plain": [
       "          A         B         C         D\n",
       "0 -1.274456 -0.584807 -1.240308  0.415276\n",
       "1  1.034510  1.459741 -1.059238 -0.276344\n",
       "2 -0.085856  1.083762  0.610905 -1.532162\n",
       "3  0.712464  0.246350 -0.165508 -0.917305\n",
       "4  0.030711  1.451620 -0.322853  2.420436"
      ]
     },
     "execution_count": 20,
     "metadata": {},
     "output_type": "execute_result"
    }
   ],
   "source": [
    "df.head()"
   ]
  },
  {
   "cell_type": "code",
   "execution_count": 21,
   "metadata": {},
   "outputs": [],
   "source": [
    "df2 = pd.DataFrame({'Category':['A','B','C'],'Values':[32,43,50]})"
   ]
  },
  {
   "cell_type": "code",
   "execution_count": 22,
   "metadata": {},
   "outputs": [
    {
     "data": {
      "text/html": [
       "<div>\n",
       "<style scoped>\n",
       "    .dataframe tbody tr th:only-of-type {\n",
       "        vertical-align: middle;\n",
       "    }\n",
       "\n",
       "    .dataframe tbody tr th {\n",
       "        vertical-align: top;\n",
       "    }\n",
       "\n",
       "    .dataframe thead th {\n",
       "        text-align: right;\n",
       "    }\n",
       "</style>\n",
       "<table border=\"1\" class=\"dataframe\">\n",
       "  <thead>\n",
       "    <tr style=\"text-align: right;\">\n",
       "      <th></th>\n",
       "      <th>Category</th>\n",
       "      <th>Values</th>\n",
       "    </tr>\n",
       "  </thead>\n",
       "  <tbody>\n",
       "    <tr>\n",
       "      <td>0</td>\n",
       "      <td>A</td>\n",
       "      <td>32</td>\n",
       "    </tr>\n",
       "    <tr>\n",
       "      <td>1</td>\n",
       "      <td>B</td>\n",
       "      <td>43</td>\n",
       "    </tr>\n",
       "    <tr>\n",
       "      <td>2</td>\n",
       "      <td>C</td>\n",
       "      <td>50</td>\n",
       "    </tr>\n",
       "  </tbody>\n",
       "</table>\n",
       "</div>"
      ],
      "text/plain": [
       "  Category  Values\n",
       "0        A      32\n",
       "1        B      43\n",
       "2        C      50"
      ]
     },
     "execution_count": 22,
     "metadata": {},
     "output_type": "execute_result"
    }
   ],
   "source": [
    "df2.head()"
   ]
  },
  {
   "cell_type": "markdown",
   "metadata": {},
   "source": [
    "## Using Cufflinks and iplot()\n",
    "\n",
    "* scatter\n",
    "* bar\n",
    "* box\n",
    "* spread\n",
    "* ratio\n",
    "* heatmap\n",
    "* surface\n",
    "* histogram\n",
    "* bubble"
   ]
  },
  {
   "cell_type": "markdown",
   "metadata": {},
   "source": [
    "## Scatter"
   ]
  },
  {
   "cell_type": "code",
   "execution_count": 23,
   "metadata": {},
   "outputs": [
    {
     "data": {
      "application/vnd.plotly.v1+json": {
       "config": {
        "linkText": "Export to plot.ly",
        "plotlyServerURL": "https://plot.ly",
        "showLink": true
       },
       "data": [
        {
         "line": {
          "color": "rgba(255, 153, 51, 1.0)",
          "dash": "solid",
          "shape": "linear",
          "width": 1.3
         },
         "marker": {
          "size": 10,
          "symbol": "circle"
         },
         "mode": "markers",
         "name": "B",
         "text": "",
         "type": "scatter",
         "x": [
          -1.2744560710459063,
          1.0345097557812275,
          -0.0858557957104208,
          0.7124638343680232,
          0.030710780873017502,
          0.25650667540049515,
          1.7769607422853047,
          -1.0243016429890404,
          0.3029030094338463,
          -1.089446128649376,
          0.09697497721610517,
          2.1441270386996076,
          -1.6574342132473536,
          -0.9165115761309744,
          -0.536680001337075,
          -0.28200527723543817,
          1.0759641279862004,
          -0.17321446153127554,
          -0.4244431369077387,
          0.7723997929122726,
          -0.10080433359951892,
          -2.681283932413429,
          -1.8058803573337534,
          0.8202904777903105,
          0.7039436401654917,
          -0.0020254684466850903,
          -2.098664175526965,
          -0.25867702267476395,
          -0.4464367010850101,
          -1.2194781514831203,
          -1.0180882432410192,
          2.05354925741928,
          -0.9734449264572443,
          -1.1437721258427667,
          1.4579135785951245,
          1.8403420203283056,
          0.56912035385227,
          0.6927335046313107,
          -0.21435028161550412,
          0.036420014250634694,
          -1.29701096555679,
          1.1279206813290428,
          -0.01485938165713414,
          0.5093681933524076,
          -1.9209193608786554,
          -0.5100133790573932,
          0.21552669582695919,
          -1.0716840036102773,
          0.6965935262606338,
          -0.7457940216327399,
          0.07240317776732096,
          1.7495748062501302,
          -1.523590434290767,
          1.4560039306295465,
          1.681911164723624,
          1.2092967973555209,
          -0.2760971791881547,
          -1.3024059404726516,
          0.6718060453963691,
          1.3095281413756388,
          -1.2756059973042513,
          1.0698684088390504,
          -0.7944538745943244,
          -0.3506535666949463,
          0.2980662129081344,
          0.3436597316431872,
          0.22255080013377612,
          -0.3449169698928896,
          -0.06138815334441075,
          0.4603149187638036,
          0.9053628101156558,
          -0.8532851382502801,
          0.2362345386792309,
          1.1001990068985208,
          1.391918465907503,
          0.5340066593830533,
          -0.06199299543504126,
          0.5081302744107299,
          -0.2744718366002772,
          -0.08982378428391093,
          0.01510171325448493,
          0.3647256172559018,
          -0.6931227191217474,
          -0.1205694809723414,
          0.38924192668413987,
          -0.16332403166755946,
          0.8575436038628643,
          -0.305983027870405,
          0.9499701521577819,
          -0.7428311713238067,
          -0.18953360575119682,
          -1.3883266638980687,
          -0.16665051082377336,
          -0.822353075951748,
          -0.0521978719533328,
          0.7887933265132842,
          -1.0433745762547268,
          1.2766298949390347,
          -1.1746356359669283,
          -0.051895727779265544
         ],
         "y": [
          -0.584807353080615,
          1.4597412123940112,
          1.0837618562828417,
          0.2463496237868239,
          1.451620231418006,
          -2.8278146244458244,
          0.07683512915273868,
          0.5816921310188211,
          0.29841915520339024,
          -1.0145530060239405,
          0.48980776176650714,
          -1.6314312229980366,
          0.8289998730916865,
          -0.14899442735530072,
          0.17650639032583598,
          0.7493758117833842,
          -1.151979730319025,
          0.46791339735905235,
          0.728322128325888,
          -1.1226644059328885,
          -0.8912456853085504,
          -0.4861512085857235,
          -0.3813518183673126,
          0.01419876602325207,
          1.2833191623353555,
          1.6643247283400167,
          0.35401868473424963,
          -0.2836155179807977,
          0.28641942424345085,
          1.2486829731550069,
          -0.464825339815991,
          -0.06785704156018067,
          0.6987855288616254,
          0.9440192129745769,
          -0.017355463733385396,
          -0.8157858549030684,
          0.3947306442903761,
          0.8555282913907285,
          2.150655837092729,
          -0.8611370788271434,
          0.36250799471176726,
          0.2710168667158374,
          -0.9568543233244796,
          0.3058490189538469,
          1.0904596840082081,
          1.4265772823410479,
          -0.0056924529564067235,
          1.6484820755542586,
          -2.168710068705485,
          1.308133038865942,
          0.19682815745115395,
          0.7318750370210076,
          0.2637847882778685,
          -2.115757561025143,
          -1.2286768969286335,
          -0.39698639335434627,
          1.7722927989246136,
          -1.5802242839997072,
          -0.8639682374380696,
          -0.21199659980785107,
          -0.9961806716840438,
          -0.7640410842182492,
          -1.2512943633704592,
          0.30858207106264673,
          -2.211425125646569,
          -0.5228061908893123,
          0.5564628525889065,
          0.6540466044871721,
          0.1698041798048904,
          0.6515574550034816,
          -0.9027198875356434,
          0.13386959092097572,
          -1.65286993252949,
          0.23924370314710705,
          1.07440124431865,
          -0.021918371125034045,
          -0.9341823639842277,
          -0.9308760063916482,
          -1.3647676569495486,
          1.8339210751533754,
          -0.562520996515998,
          -0.8187596224412631,
          1.2984279681261266,
          0.1251797636210204,
          0.9731915045229532,
          -1.1035549215449503,
          -0.13758309693287465,
          0.34980976147201126,
          -1.0184171353342997,
          0.11885721684491302,
          1.8864257612107787,
          -0.8144061562154692,
          0.28844260704290137,
          -0.32147004594162,
          2.3108748414316445,
          0.062193329932923626,
          -0.6865889145654146,
          -0.5435564150635714,
          0.33158708601636644,
          0.43189823861701937
         ]
        }
       ],
       "layout": {
        "legend": {
         "bgcolor": "#F5F6F9",
         "font": {
          "color": "#4D5663"
         }
        },
        "paper_bgcolor": "#F5F6F9",
        "plot_bgcolor": "#F5F6F9",
        "template": {
         "data": {
          "bar": [
           {
            "error_x": {
             "color": "#2a3f5f"
            },
            "error_y": {
             "color": "#2a3f5f"
            },
            "marker": {
             "line": {
              "color": "#E5ECF6",
              "width": 0.5
             }
            },
            "type": "bar"
           }
          ],
          "barpolar": [
           {
            "marker": {
             "line": {
              "color": "#E5ECF6",
              "width": 0.5
             }
            },
            "type": "barpolar"
           }
          ],
          "carpet": [
           {
            "aaxis": {
             "endlinecolor": "#2a3f5f",
             "gridcolor": "white",
             "linecolor": "white",
             "minorgridcolor": "white",
             "startlinecolor": "#2a3f5f"
            },
            "baxis": {
             "endlinecolor": "#2a3f5f",
             "gridcolor": "white",
             "linecolor": "white",
             "minorgridcolor": "white",
             "startlinecolor": "#2a3f5f"
            },
            "type": "carpet"
           }
          ],
          "choropleth": [
           {
            "colorbar": {
             "outlinewidth": 0,
             "ticks": ""
            },
            "type": "choropleth"
           }
          ],
          "contour": [
           {
            "colorbar": {
             "outlinewidth": 0,
             "ticks": ""
            },
            "colorscale": [
             [
              0,
              "#0d0887"
             ],
             [
              0.1111111111111111,
              "#46039f"
             ],
             [
              0.2222222222222222,
              "#7201a8"
             ],
             [
              0.3333333333333333,
              "#9c179e"
             ],
             [
              0.4444444444444444,
              "#bd3786"
             ],
             [
              0.5555555555555556,
              "#d8576b"
             ],
             [
              0.6666666666666666,
              "#ed7953"
             ],
             [
              0.7777777777777778,
              "#fb9f3a"
             ],
             [
              0.8888888888888888,
              "#fdca26"
             ],
             [
              1,
              "#f0f921"
             ]
            ],
            "type": "contour"
           }
          ],
          "contourcarpet": [
           {
            "colorbar": {
             "outlinewidth": 0,
             "ticks": ""
            },
            "type": "contourcarpet"
           }
          ],
          "heatmap": [
           {
            "colorbar": {
             "outlinewidth": 0,
             "ticks": ""
            },
            "colorscale": [
             [
              0,
              "#0d0887"
             ],
             [
              0.1111111111111111,
              "#46039f"
             ],
             [
              0.2222222222222222,
              "#7201a8"
             ],
             [
              0.3333333333333333,
              "#9c179e"
             ],
             [
              0.4444444444444444,
              "#bd3786"
             ],
             [
              0.5555555555555556,
              "#d8576b"
             ],
             [
              0.6666666666666666,
              "#ed7953"
             ],
             [
              0.7777777777777778,
              "#fb9f3a"
             ],
             [
              0.8888888888888888,
              "#fdca26"
             ],
             [
              1,
              "#f0f921"
             ]
            ],
            "type": "heatmap"
           }
          ],
          "heatmapgl": [
           {
            "colorbar": {
             "outlinewidth": 0,
             "ticks": ""
            },
            "colorscale": [
             [
              0,
              "#0d0887"
             ],
             [
              0.1111111111111111,
              "#46039f"
             ],
             [
              0.2222222222222222,
              "#7201a8"
             ],
             [
              0.3333333333333333,
              "#9c179e"
             ],
             [
              0.4444444444444444,
              "#bd3786"
             ],
             [
              0.5555555555555556,
              "#d8576b"
             ],
             [
              0.6666666666666666,
              "#ed7953"
             ],
             [
              0.7777777777777778,
              "#fb9f3a"
             ],
             [
              0.8888888888888888,
              "#fdca26"
             ],
             [
              1,
              "#f0f921"
             ]
            ],
            "type": "heatmapgl"
           }
          ],
          "histogram": [
           {
            "marker": {
             "colorbar": {
              "outlinewidth": 0,
              "ticks": ""
             }
            },
            "type": "histogram"
           }
          ],
          "histogram2d": [
           {
            "colorbar": {
             "outlinewidth": 0,
             "ticks": ""
            },
            "colorscale": [
             [
              0,
              "#0d0887"
             ],
             [
              0.1111111111111111,
              "#46039f"
             ],
             [
              0.2222222222222222,
              "#7201a8"
             ],
             [
              0.3333333333333333,
              "#9c179e"
             ],
             [
              0.4444444444444444,
              "#bd3786"
             ],
             [
              0.5555555555555556,
              "#d8576b"
             ],
             [
              0.6666666666666666,
              "#ed7953"
             ],
             [
              0.7777777777777778,
              "#fb9f3a"
             ],
             [
              0.8888888888888888,
              "#fdca26"
             ],
             [
              1,
              "#f0f921"
             ]
            ],
            "type": "histogram2d"
           }
          ],
          "histogram2dcontour": [
           {
            "colorbar": {
             "outlinewidth": 0,
             "ticks": ""
            },
            "colorscale": [
             [
              0,
              "#0d0887"
             ],
             [
              0.1111111111111111,
              "#46039f"
             ],
             [
              0.2222222222222222,
              "#7201a8"
             ],
             [
              0.3333333333333333,
              "#9c179e"
             ],
             [
              0.4444444444444444,
              "#bd3786"
             ],
             [
              0.5555555555555556,
              "#d8576b"
             ],
             [
              0.6666666666666666,
              "#ed7953"
             ],
             [
              0.7777777777777778,
              "#fb9f3a"
             ],
             [
              0.8888888888888888,
              "#fdca26"
             ],
             [
              1,
              "#f0f921"
             ]
            ],
            "type": "histogram2dcontour"
           }
          ],
          "mesh3d": [
           {
            "colorbar": {
             "outlinewidth": 0,
             "ticks": ""
            },
            "type": "mesh3d"
           }
          ],
          "parcoords": [
           {
            "line": {
             "colorbar": {
              "outlinewidth": 0,
              "ticks": ""
             }
            },
            "type": "parcoords"
           }
          ],
          "pie": [
           {
            "automargin": true,
            "type": "pie"
           }
          ],
          "scatter": [
           {
            "marker": {
             "colorbar": {
              "outlinewidth": 0,
              "ticks": ""
             }
            },
            "type": "scatter"
           }
          ],
          "scatter3d": [
           {
            "line": {
             "colorbar": {
              "outlinewidth": 0,
              "ticks": ""
             }
            },
            "marker": {
             "colorbar": {
              "outlinewidth": 0,
              "ticks": ""
             }
            },
            "type": "scatter3d"
           }
          ],
          "scattercarpet": [
           {
            "marker": {
             "colorbar": {
              "outlinewidth": 0,
              "ticks": ""
             }
            },
            "type": "scattercarpet"
           }
          ],
          "scattergeo": [
           {
            "marker": {
             "colorbar": {
              "outlinewidth": 0,
              "ticks": ""
             }
            },
            "type": "scattergeo"
           }
          ],
          "scattergl": [
           {
            "marker": {
             "colorbar": {
              "outlinewidth": 0,
              "ticks": ""
             }
            },
            "type": "scattergl"
           }
          ],
          "scattermapbox": [
           {
            "marker": {
             "colorbar": {
              "outlinewidth": 0,
              "ticks": ""
             }
            },
            "type": "scattermapbox"
           }
          ],
          "scatterpolar": [
           {
            "marker": {
             "colorbar": {
              "outlinewidth": 0,
              "ticks": ""
             }
            },
            "type": "scatterpolar"
           }
          ],
          "scatterpolargl": [
           {
            "marker": {
             "colorbar": {
              "outlinewidth": 0,
              "ticks": ""
             }
            },
            "type": "scatterpolargl"
           }
          ],
          "scatterternary": [
           {
            "marker": {
             "colorbar": {
              "outlinewidth": 0,
              "ticks": ""
             }
            },
            "type": "scatterternary"
           }
          ],
          "surface": [
           {
            "colorbar": {
             "outlinewidth": 0,
             "ticks": ""
            },
            "colorscale": [
             [
              0,
              "#0d0887"
             ],
             [
              0.1111111111111111,
              "#46039f"
             ],
             [
              0.2222222222222222,
              "#7201a8"
             ],
             [
              0.3333333333333333,
              "#9c179e"
             ],
             [
              0.4444444444444444,
              "#bd3786"
             ],
             [
              0.5555555555555556,
              "#d8576b"
             ],
             [
              0.6666666666666666,
              "#ed7953"
             ],
             [
              0.7777777777777778,
              "#fb9f3a"
             ],
             [
              0.8888888888888888,
              "#fdca26"
             ],
             [
              1,
              "#f0f921"
             ]
            ],
            "type": "surface"
           }
          ],
          "table": [
           {
            "cells": {
             "fill": {
              "color": "#EBF0F8"
             },
             "line": {
              "color": "white"
             }
            },
            "header": {
             "fill": {
              "color": "#C8D4E3"
             },
             "line": {
              "color": "white"
             }
            },
            "type": "table"
           }
          ]
         },
         "layout": {
          "annotationdefaults": {
           "arrowcolor": "#2a3f5f",
           "arrowhead": 0,
           "arrowwidth": 1
          },
          "coloraxis": {
           "colorbar": {
            "outlinewidth": 0,
            "ticks": ""
           }
          },
          "colorscale": {
           "diverging": [
            [
             0,
             "#8e0152"
            ],
            [
             0.1,
             "#c51b7d"
            ],
            [
             0.2,
             "#de77ae"
            ],
            [
             0.3,
             "#f1b6da"
            ],
            [
             0.4,
             "#fde0ef"
            ],
            [
             0.5,
             "#f7f7f7"
            ],
            [
             0.6,
             "#e6f5d0"
            ],
            [
             0.7,
             "#b8e186"
            ],
            [
             0.8,
             "#7fbc41"
            ],
            [
             0.9,
             "#4d9221"
            ],
            [
             1,
             "#276419"
            ]
           ],
           "sequential": [
            [
             0,
             "#0d0887"
            ],
            [
             0.1111111111111111,
             "#46039f"
            ],
            [
             0.2222222222222222,
             "#7201a8"
            ],
            [
             0.3333333333333333,
             "#9c179e"
            ],
            [
             0.4444444444444444,
             "#bd3786"
            ],
            [
             0.5555555555555556,
             "#d8576b"
            ],
            [
             0.6666666666666666,
             "#ed7953"
            ],
            [
             0.7777777777777778,
             "#fb9f3a"
            ],
            [
             0.8888888888888888,
             "#fdca26"
            ],
            [
             1,
             "#f0f921"
            ]
           ],
           "sequentialminus": [
            [
             0,
             "#0d0887"
            ],
            [
             0.1111111111111111,
             "#46039f"
            ],
            [
             0.2222222222222222,
             "#7201a8"
            ],
            [
             0.3333333333333333,
             "#9c179e"
            ],
            [
             0.4444444444444444,
             "#bd3786"
            ],
            [
             0.5555555555555556,
             "#d8576b"
            ],
            [
             0.6666666666666666,
             "#ed7953"
            ],
            [
             0.7777777777777778,
             "#fb9f3a"
            ],
            [
             0.8888888888888888,
             "#fdca26"
            ],
            [
             1,
             "#f0f921"
            ]
           ]
          },
          "colorway": [
           "#636efa",
           "#EF553B",
           "#00cc96",
           "#ab63fa",
           "#FFA15A",
           "#19d3f3",
           "#FF6692",
           "#B6E880",
           "#FF97FF",
           "#FECB52"
          ],
          "font": {
           "color": "#2a3f5f"
          },
          "geo": {
           "bgcolor": "white",
           "lakecolor": "white",
           "landcolor": "#E5ECF6",
           "showlakes": true,
           "showland": true,
           "subunitcolor": "white"
          },
          "hoverlabel": {
           "align": "left"
          },
          "hovermode": "closest",
          "mapbox": {
           "style": "light"
          },
          "paper_bgcolor": "white",
          "plot_bgcolor": "#E5ECF6",
          "polar": {
           "angularaxis": {
            "gridcolor": "white",
            "linecolor": "white",
            "ticks": ""
           },
           "bgcolor": "#E5ECF6",
           "radialaxis": {
            "gridcolor": "white",
            "linecolor": "white",
            "ticks": ""
           }
          },
          "scene": {
           "xaxis": {
            "backgroundcolor": "#E5ECF6",
            "gridcolor": "white",
            "gridwidth": 2,
            "linecolor": "white",
            "showbackground": true,
            "ticks": "",
            "zerolinecolor": "white"
           },
           "yaxis": {
            "backgroundcolor": "#E5ECF6",
            "gridcolor": "white",
            "gridwidth": 2,
            "linecolor": "white",
            "showbackground": true,
            "ticks": "",
            "zerolinecolor": "white"
           },
           "zaxis": {
            "backgroundcolor": "#E5ECF6",
            "gridcolor": "white",
            "gridwidth": 2,
            "linecolor": "white",
            "showbackground": true,
            "ticks": "",
            "zerolinecolor": "white"
           }
          },
          "shapedefaults": {
           "line": {
            "color": "#2a3f5f"
           }
          },
          "ternary": {
           "aaxis": {
            "gridcolor": "white",
            "linecolor": "white",
            "ticks": ""
           },
           "baxis": {
            "gridcolor": "white",
            "linecolor": "white",
            "ticks": ""
           },
           "bgcolor": "#E5ECF6",
           "caxis": {
            "gridcolor": "white",
            "linecolor": "white",
            "ticks": ""
           }
          },
          "title": {
           "x": 0.05
          },
          "xaxis": {
           "automargin": true,
           "gridcolor": "white",
           "linecolor": "white",
           "ticks": "",
           "title": {
            "standoff": 15
           },
           "zerolinecolor": "white",
           "zerolinewidth": 2
          },
          "yaxis": {
           "automargin": true,
           "gridcolor": "white",
           "linecolor": "white",
           "ticks": "",
           "title": {
            "standoff": 15
           },
           "zerolinecolor": "white",
           "zerolinewidth": 2
          }
         }
        },
        "title": {
         "font": {
          "color": "#4D5663"
         }
        },
        "xaxis": {
         "gridcolor": "#E1E5ED",
         "showgrid": true,
         "tickfont": {
          "color": "#4D5663"
         },
         "title": {
          "font": {
           "color": "#4D5663"
          },
          "text": ""
         },
         "zerolinecolor": "#E1E5ED"
        },
        "yaxis": {
         "gridcolor": "#E1E5ED",
         "showgrid": true,
         "tickfont": {
          "color": "#4D5663"
         },
         "title": {
          "font": {
           "color": "#4D5663"
          },
          "text": ""
         },
         "zerolinecolor": "#E1E5ED"
        }
       }
      },
      "text/html": [
       "<div>\n",
       "        \n",
       "        \n",
       "            <div id=\"8dd46223-8c07-471f-9c1e-dd68fba8cb3f\" class=\"plotly-graph-div\" style=\"height:525px; width:100%;\"></div>\n",
       "            <script type=\"text/javascript\">\n",
       "                require([\"plotly\"], function(Plotly) {\n",
       "                    window.PLOTLYENV=window.PLOTLYENV || {};\n",
       "                    window.PLOTLYENV.BASE_URL='https://plot.ly';\n",
       "                    \n",
       "                if (document.getElementById(\"8dd46223-8c07-471f-9c1e-dd68fba8cb3f\")) {\n",
       "                    Plotly.newPlot(\n",
       "                        '8dd46223-8c07-471f-9c1e-dd68fba8cb3f',\n",
       "                        [{\"line\": {\"color\": \"rgba(255, 153, 51, 1.0)\", \"dash\": \"solid\", \"shape\": \"linear\", \"width\": 1.3}, \"marker\": {\"size\": 10, \"symbol\": \"circle\"}, \"mode\": \"markers\", \"name\": \"B\", \"text\": \"\", \"type\": \"scatter\", \"x\": [-1.2744560710459063, 1.0345097557812275, -0.0858557957104208, 0.7124638343680232, 0.030710780873017502, 0.25650667540049515, 1.7769607422853047, -1.0243016429890404, 0.3029030094338463, -1.089446128649376, 0.09697497721610517, 2.1441270386996076, -1.6574342132473536, -0.9165115761309744, -0.536680001337075, -0.28200527723543817, 1.0759641279862004, -0.17321446153127554, -0.4244431369077387, 0.7723997929122726, -0.10080433359951892, -2.681283932413429, -1.8058803573337534, 0.8202904777903105, 0.7039436401654917, -0.0020254684466850903, -2.098664175526965, -0.25867702267476395, -0.4464367010850101, -1.2194781514831203, -1.0180882432410192, 2.05354925741928, -0.9734449264572443, -1.1437721258427667, 1.4579135785951245, 1.8403420203283056, 0.56912035385227, 0.6927335046313107, -0.21435028161550412, 0.036420014250634694, -1.29701096555679, 1.1279206813290428, -0.01485938165713414, 0.5093681933524076, -1.9209193608786554, -0.5100133790573932, 0.21552669582695919, -1.0716840036102773, 0.6965935262606338, -0.7457940216327399, 0.07240317776732096, 1.7495748062501302, -1.523590434290767, 1.4560039306295465, 1.681911164723624, 1.2092967973555209, -0.2760971791881547, -1.3024059404726516, 0.6718060453963691, 1.3095281413756388, -1.2756059973042513, 1.0698684088390504, -0.7944538745943244, -0.3506535666949463, 0.2980662129081344, 0.3436597316431872, 0.22255080013377612, -0.3449169698928896, -0.06138815334441075, 0.4603149187638036, 0.9053628101156558, -0.8532851382502801, 0.2362345386792309, 1.1001990068985208, 1.391918465907503, 0.5340066593830533, -0.06199299543504126, 0.5081302744107299, -0.2744718366002772, -0.08982378428391093, 0.01510171325448493, 0.3647256172559018, -0.6931227191217474, -0.1205694809723414, 0.38924192668413987, -0.16332403166755946, 0.8575436038628643, -0.305983027870405, 0.9499701521577819, -0.7428311713238067, -0.18953360575119682, -1.3883266638980687, -0.16665051082377336, -0.822353075951748, -0.0521978719533328, 0.7887933265132842, -1.0433745762547268, 1.2766298949390347, -1.1746356359669283, -0.051895727779265544], \"y\": [-0.584807353080615, 1.4597412123940112, 1.0837618562828417, 0.2463496237868239, 1.451620231418006, -2.8278146244458244, 0.07683512915273868, 0.5816921310188211, 0.29841915520339024, -1.0145530060239405, 0.48980776176650714, -1.6314312229980366, 0.8289998730916865, -0.14899442735530072, 0.17650639032583598, 0.7493758117833842, -1.151979730319025, 0.46791339735905235, 0.728322128325888, -1.1226644059328885, -0.8912456853085504, -0.4861512085857235, -0.3813518183673126, 0.01419876602325207, 1.2833191623353555, 1.6643247283400167, 0.35401868473424963, -0.2836155179807977, 0.28641942424345085, 1.2486829731550069, -0.464825339815991, -0.06785704156018067, 0.6987855288616254, 0.9440192129745769, -0.017355463733385396, -0.8157858549030684, 0.3947306442903761, 0.8555282913907285, 2.150655837092729, -0.8611370788271434, 0.36250799471176726, 0.2710168667158374, -0.9568543233244796, 0.3058490189538469, 1.0904596840082081, 1.4265772823410479, -0.0056924529564067235, 1.6484820755542586, -2.168710068705485, 1.308133038865942, 0.19682815745115395, 0.7318750370210076, 0.2637847882778685, -2.115757561025143, -1.2286768969286335, -0.39698639335434627, 1.7722927989246136, -1.5802242839997072, -0.8639682374380696, -0.21199659980785107, -0.9961806716840438, -0.7640410842182492, -1.2512943633704592, 0.30858207106264673, -2.211425125646569, -0.5228061908893123, 0.5564628525889065, 0.6540466044871721, 0.1698041798048904, 0.6515574550034816, -0.9027198875356434, 0.13386959092097572, -1.65286993252949, 0.23924370314710705, 1.07440124431865, -0.021918371125034045, -0.9341823639842277, -0.9308760063916482, -1.3647676569495486, 1.8339210751533754, -0.562520996515998, -0.8187596224412631, 1.2984279681261266, 0.1251797636210204, 0.9731915045229532, -1.1035549215449503, -0.13758309693287465, 0.34980976147201126, -1.0184171353342997, 0.11885721684491302, 1.8864257612107787, -0.8144061562154692, 0.28844260704290137, -0.32147004594162, 2.3108748414316445, 0.062193329932923626, -0.6865889145654146, -0.5435564150635714, 0.33158708601636644, 0.43189823861701937]}],\n",
       "                        {\"legend\": {\"bgcolor\": \"#F5F6F9\", \"font\": {\"color\": \"#4D5663\"}}, \"paper_bgcolor\": \"#F5F6F9\", \"plot_bgcolor\": \"#F5F6F9\", \"template\": {\"data\": {\"bar\": [{\"error_x\": {\"color\": \"#2a3f5f\"}, \"error_y\": {\"color\": \"#2a3f5f\"}, \"marker\": {\"line\": {\"color\": \"#E5ECF6\", \"width\": 0.5}}, \"type\": \"bar\"}], \"barpolar\": [{\"marker\": {\"line\": {\"color\": \"#E5ECF6\", \"width\": 0.5}}, \"type\": \"barpolar\"}], \"carpet\": [{\"aaxis\": {\"endlinecolor\": \"#2a3f5f\", \"gridcolor\": \"white\", \"linecolor\": \"white\", \"minorgridcolor\": \"white\", \"startlinecolor\": \"#2a3f5f\"}, \"baxis\": {\"endlinecolor\": \"#2a3f5f\", \"gridcolor\": \"white\", \"linecolor\": \"white\", \"minorgridcolor\": \"white\", \"startlinecolor\": \"#2a3f5f\"}, \"type\": \"carpet\"}], \"choropleth\": [{\"colorbar\": {\"outlinewidth\": 0, \"ticks\": \"\"}, \"type\": \"choropleth\"}], \"contour\": [{\"colorbar\": {\"outlinewidth\": 0, \"ticks\": \"\"}, \"colorscale\": [[0.0, \"#0d0887\"], [0.1111111111111111, \"#46039f\"], [0.2222222222222222, \"#7201a8\"], [0.3333333333333333, \"#9c179e\"], [0.4444444444444444, \"#bd3786\"], [0.5555555555555556, \"#d8576b\"], [0.6666666666666666, \"#ed7953\"], [0.7777777777777778, \"#fb9f3a\"], [0.8888888888888888, \"#fdca26\"], [1.0, \"#f0f921\"]], \"type\": \"contour\"}], \"contourcarpet\": [{\"colorbar\": {\"outlinewidth\": 0, \"ticks\": \"\"}, \"type\": \"contourcarpet\"}], \"heatmap\": [{\"colorbar\": {\"outlinewidth\": 0, \"ticks\": \"\"}, \"colorscale\": [[0.0, \"#0d0887\"], [0.1111111111111111, \"#46039f\"], [0.2222222222222222, \"#7201a8\"], [0.3333333333333333, \"#9c179e\"], [0.4444444444444444, \"#bd3786\"], [0.5555555555555556, \"#d8576b\"], [0.6666666666666666, \"#ed7953\"], [0.7777777777777778, \"#fb9f3a\"], [0.8888888888888888, \"#fdca26\"], [1.0, \"#f0f921\"]], \"type\": \"heatmap\"}], \"heatmapgl\": [{\"colorbar\": {\"outlinewidth\": 0, \"ticks\": \"\"}, \"colorscale\": [[0.0, \"#0d0887\"], [0.1111111111111111, \"#46039f\"], [0.2222222222222222, \"#7201a8\"], [0.3333333333333333, \"#9c179e\"], [0.4444444444444444, \"#bd3786\"], [0.5555555555555556, \"#d8576b\"], [0.6666666666666666, \"#ed7953\"], [0.7777777777777778, \"#fb9f3a\"], [0.8888888888888888, \"#fdca26\"], [1.0, \"#f0f921\"]], \"type\": \"heatmapgl\"}], \"histogram\": [{\"marker\": {\"colorbar\": {\"outlinewidth\": 0, \"ticks\": \"\"}}, \"type\": \"histogram\"}], \"histogram2d\": [{\"colorbar\": {\"outlinewidth\": 0, \"ticks\": \"\"}, \"colorscale\": [[0.0, \"#0d0887\"], [0.1111111111111111, \"#46039f\"], [0.2222222222222222, \"#7201a8\"], [0.3333333333333333, \"#9c179e\"], [0.4444444444444444, \"#bd3786\"], [0.5555555555555556, \"#d8576b\"], [0.6666666666666666, \"#ed7953\"], [0.7777777777777778, \"#fb9f3a\"], [0.8888888888888888, \"#fdca26\"], [1.0, \"#f0f921\"]], \"type\": \"histogram2d\"}], \"histogram2dcontour\": [{\"colorbar\": {\"outlinewidth\": 0, \"ticks\": \"\"}, \"colorscale\": [[0.0, \"#0d0887\"], [0.1111111111111111, \"#46039f\"], [0.2222222222222222, \"#7201a8\"], [0.3333333333333333, \"#9c179e\"], [0.4444444444444444, \"#bd3786\"], [0.5555555555555556, \"#d8576b\"], [0.6666666666666666, \"#ed7953\"], [0.7777777777777778, \"#fb9f3a\"], [0.8888888888888888, \"#fdca26\"], [1.0, \"#f0f921\"]], \"type\": \"histogram2dcontour\"}], \"mesh3d\": [{\"colorbar\": {\"outlinewidth\": 0, \"ticks\": \"\"}, \"type\": \"mesh3d\"}], \"parcoords\": [{\"line\": {\"colorbar\": {\"outlinewidth\": 0, \"ticks\": \"\"}}, \"type\": \"parcoords\"}], \"pie\": [{\"automargin\": true, \"type\": \"pie\"}], \"scatter\": [{\"marker\": {\"colorbar\": {\"outlinewidth\": 0, \"ticks\": \"\"}}, \"type\": \"scatter\"}], \"scatter3d\": [{\"line\": {\"colorbar\": {\"outlinewidth\": 0, \"ticks\": \"\"}}, \"marker\": {\"colorbar\": {\"outlinewidth\": 0, \"ticks\": \"\"}}, \"type\": \"scatter3d\"}], \"scattercarpet\": [{\"marker\": {\"colorbar\": {\"outlinewidth\": 0, \"ticks\": \"\"}}, \"type\": \"scattercarpet\"}], \"scattergeo\": [{\"marker\": {\"colorbar\": {\"outlinewidth\": 0, \"ticks\": \"\"}}, \"type\": \"scattergeo\"}], \"scattergl\": [{\"marker\": {\"colorbar\": {\"outlinewidth\": 0, \"ticks\": \"\"}}, \"type\": \"scattergl\"}], \"scattermapbox\": [{\"marker\": {\"colorbar\": {\"outlinewidth\": 0, \"ticks\": \"\"}}, \"type\": \"scattermapbox\"}], \"scatterpolar\": [{\"marker\": {\"colorbar\": {\"outlinewidth\": 0, \"ticks\": \"\"}}, \"type\": \"scatterpolar\"}], \"scatterpolargl\": [{\"marker\": {\"colorbar\": {\"outlinewidth\": 0, \"ticks\": \"\"}}, \"type\": \"scatterpolargl\"}], \"scatterternary\": [{\"marker\": {\"colorbar\": {\"outlinewidth\": 0, \"ticks\": \"\"}}, \"type\": \"scatterternary\"}], \"surface\": [{\"colorbar\": {\"outlinewidth\": 0, \"ticks\": \"\"}, \"colorscale\": [[0.0, \"#0d0887\"], [0.1111111111111111, \"#46039f\"], [0.2222222222222222, \"#7201a8\"], [0.3333333333333333, \"#9c179e\"], [0.4444444444444444, \"#bd3786\"], [0.5555555555555556, \"#d8576b\"], [0.6666666666666666, \"#ed7953\"], [0.7777777777777778, \"#fb9f3a\"], [0.8888888888888888, \"#fdca26\"], [1.0, \"#f0f921\"]], \"type\": \"surface\"}], \"table\": [{\"cells\": {\"fill\": {\"color\": \"#EBF0F8\"}, \"line\": {\"color\": \"white\"}}, \"header\": {\"fill\": {\"color\": \"#C8D4E3\"}, \"line\": {\"color\": \"white\"}}, \"type\": \"table\"}]}, \"layout\": {\"annotationdefaults\": {\"arrowcolor\": \"#2a3f5f\", \"arrowhead\": 0, \"arrowwidth\": 1}, \"coloraxis\": {\"colorbar\": {\"outlinewidth\": 0, \"ticks\": \"\"}}, \"colorscale\": {\"diverging\": [[0, \"#8e0152\"], [0.1, \"#c51b7d\"], [0.2, \"#de77ae\"], [0.3, \"#f1b6da\"], [0.4, \"#fde0ef\"], [0.5, \"#f7f7f7\"], [0.6, \"#e6f5d0\"], [0.7, \"#b8e186\"], [0.8, \"#7fbc41\"], [0.9, \"#4d9221\"], [1, \"#276419\"]], \"sequential\": [[0.0, \"#0d0887\"], [0.1111111111111111, \"#46039f\"], [0.2222222222222222, \"#7201a8\"], [0.3333333333333333, \"#9c179e\"], [0.4444444444444444, \"#bd3786\"], [0.5555555555555556, \"#d8576b\"], [0.6666666666666666, \"#ed7953\"], [0.7777777777777778, \"#fb9f3a\"], [0.8888888888888888, \"#fdca26\"], [1.0, \"#f0f921\"]], \"sequentialminus\": [[0.0, \"#0d0887\"], [0.1111111111111111, \"#46039f\"], [0.2222222222222222, \"#7201a8\"], [0.3333333333333333, \"#9c179e\"], [0.4444444444444444, \"#bd3786\"], [0.5555555555555556, \"#d8576b\"], [0.6666666666666666, \"#ed7953\"], [0.7777777777777778, \"#fb9f3a\"], [0.8888888888888888, \"#fdca26\"], [1.0, \"#f0f921\"]]}, \"colorway\": [\"#636efa\", \"#EF553B\", \"#00cc96\", \"#ab63fa\", \"#FFA15A\", \"#19d3f3\", \"#FF6692\", \"#B6E880\", \"#FF97FF\", \"#FECB52\"], \"font\": {\"color\": \"#2a3f5f\"}, \"geo\": {\"bgcolor\": \"white\", \"lakecolor\": \"white\", \"landcolor\": \"#E5ECF6\", \"showlakes\": true, \"showland\": true, \"subunitcolor\": \"white\"}, \"hoverlabel\": {\"align\": \"left\"}, \"hovermode\": \"closest\", \"mapbox\": {\"style\": \"light\"}, \"paper_bgcolor\": \"white\", \"plot_bgcolor\": \"#E5ECF6\", \"polar\": {\"angularaxis\": {\"gridcolor\": \"white\", \"linecolor\": \"white\", \"ticks\": \"\"}, \"bgcolor\": \"#E5ECF6\", \"radialaxis\": {\"gridcolor\": \"white\", \"linecolor\": \"white\", \"ticks\": \"\"}}, \"scene\": {\"xaxis\": {\"backgroundcolor\": \"#E5ECF6\", \"gridcolor\": \"white\", \"gridwidth\": 2, \"linecolor\": \"white\", \"showbackground\": true, \"ticks\": \"\", \"zerolinecolor\": \"white\"}, \"yaxis\": {\"backgroundcolor\": \"#E5ECF6\", \"gridcolor\": \"white\", \"gridwidth\": 2, \"linecolor\": \"white\", \"showbackground\": true, \"ticks\": \"\", \"zerolinecolor\": \"white\"}, \"zaxis\": {\"backgroundcolor\": \"#E5ECF6\", \"gridcolor\": \"white\", \"gridwidth\": 2, \"linecolor\": \"white\", \"showbackground\": true, \"ticks\": \"\", \"zerolinecolor\": \"white\"}}, \"shapedefaults\": {\"line\": {\"color\": \"#2a3f5f\"}}, \"ternary\": {\"aaxis\": {\"gridcolor\": \"white\", \"linecolor\": \"white\", \"ticks\": \"\"}, \"baxis\": {\"gridcolor\": \"white\", \"linecolor\": \"white\", \"ticks\": \"\"}, \"bgcolor\": \"#E5ECF6\", \"caxis\": {\"gridcolor\": \"white\", \"linecolor\": \"white\", \"ticks\": \"\"}}, \"title\": {\"x\": 0.05}, \"xaxis\": {\"automargin\": true, \"gridcolor\": \"white\", \"linecolor\": \"white\", \"ticks\": \"\", \"title\": {\"standoff\": 15}, \"zerolinecolor\": \"white\", \"zerolinewidth\": 2}, \"yaxis\": {\"automargin\": true, \"gridcolor\": \"white\", \"linecolor\": \"white\", \"ticks\": \"\", \"title\": {\"standoff\": 15}, \"zerolinecolor\": \"white\", \"zerolinewidth\": 2}}}, \"title\": {\"font\": {\"color\": \"#4D5663\"}}, \"xaxis\": {\"gridcolor\": \"#E1E5ED\", \"showgrid\": true, \"tickfont\": {\"color\": \"#4D5663\"}, \"title\": {\"font\": {\"color\": \"#4D5663\"}, \"text\": \"\"}, \"zerolinecolor\": \"#E1E5ED\"}, \"yaxis\": {\"gridcolor\": \"#E1E5ED\", \"showgrid\": true, \"tickfont\": {\"color\": \"#4D5663\"}, \"title\": {\"font\": {\"color\": \"#4D5663\"}, \"text\": \"\"}, \"zerolinecolor\": \"#E1E5ED\"}},\n",
       "                        {\"showLink\": true, \"linkText\": \"Export to plot.ly\", \"plotlyServerURL\": \"https://plot.ly\", \"responsive\": true}\n",
       "                    ).then(function(){\n",
       "                            \n",
       "var gd = document.getElementById('8dd46223-8c07-471f-9c1e-dd68fba8cb3f');\n",
       "var x = new MutationObserver(function (mutations, observer) {{\n",
       "        var display = window.getComputedStyle(gd).display;\n",
       "        if (!display || display === 'none') {{\n",
       "            console.log([gd, 'removed!']);\n",
       "            Plotly.purge(gd);\n",
       "            observer.disconnect();\n",
       "        }}\n",
       "}});\n",
       "\n",
       "// Listen for the removal of the full notebook cells\n",
       "var notebookContainer = gd.closest('#notebook-container');\n",
       "if (notebookContainer) {{\n",
       "    x.observe(notebookContainer, {childList: true});\n",
       "}}\n",
       "\n",
       "// Listen for the clearing of the current output cell\n",
       "var outputEl = gd.closest('.output');\n",
       "if (outputEl) {{\n",
       "    x.observe(outputEl, {childList: true});\n",
       "}}\n",
       "\n",
       "                        })\n",
       "                };\n",
       "                });\n",
       "            </script>\n",
       "        </div>"
      ]
     },
     "metadata": {},
     "output_type": "display_data"
    }
   ],
   "source": [
    "df.iplot(kind='scatter',x='A',y='B',mode='markers',size=10)"
   ]
  },
  {
   "cell_type": "markdown",
   "metadata": {},
   "source": [
    "## Bar Plots"
   ]
  },
  {
   "cell_type": "code",
   "execution_count": 24,
   "metadata": {},
   "outputs": [
    {
     "data": {
      "application/vnd.plotly.v1+json": {
       "config": {
        "linkText": "Export to plot.ly",
        "plotlyServerURL": "https://plot.ly",
        "showLink": true
       },
       "data": [
        {
         "marker": {
          "color": "rgba(255, 153, 51, 0.6)",
          "line": {
           "color": "rgba(255, 153, 51, 1.0)",
           "width": 1
          }
         },
         "name": "Values",
         "orientation": "v",
         "text": "",
         "type": "bar",
         "x": [
          "A",
          "B",
          "C"
         ],
         "y": [
          32,
          43,
          50
         ]
        }
       ],
       "layout": {
        "legend": {
         "bgcolor": "#F5F6F9",
         "font": {
          "color": "#4D5663"
         }
        },
        "paper_bgcolor": "#F5F6F9",
        "plot_bgcolor": "#F5F6F9",
        "template": {
         "data": {
          "bar": [
           {
            "error_x": {
             "color": "#2a3f5f"
            },
            "error_y": {
             "color": "#2a3f5f"
            },
            "marker": {
             "line": {
              "color": "#E5ECF6",
              "width": 0.5
             }
            },
            "type": "bar"
           }
          ],
          "barpolar": [
           {
            "marker": {
             "line": {
              "color": "#E5ECF6",
              "width": 0.5
             }
            },
            "type": "barpolar"
           }
          ],
          "carpet": [
           {
            "aaxis": {
             "endlinecolor": "#2a3f5f",
             "gridcolor": "white",
             "linecolor": "white",
             "minorgridcolor": "white",
             "startlinecolor": "#2a3f5f"
            },
            "baxis": {
             "endlinecolor": "#2a3f5f",
             "gridcolor": "white",
             "linecolor": "white",
             "minorgridcolor": "white",
             "startlinecolor": "#2a3f5f"
            },
            "type": "carpet"
           }
          ],
          "choropleth": [
           {
            "colorbar": {
             "outlinewidth": 0,
             "ticks": ""
            },
            "type": "choropleth"
           }
          ],
          "contour": [
           {
            "colorbar": {
             "outlinewidth": 0,
             "ticks": ""
            },
            "colorscale": [
             [
              0,
              "#0d0887"
             ],
             [
              0.1111111111111111,
              "#46039f"
             ],
             [
              0.2222222222222222,
              "#7201a8"
             ],
             [
              0.3333333333333333,
              "#9c179e"
             ],
             [
              0.4444444444444444,
              "#bd3786"
             ],
             [
              0.5555555555555556,
              "#d8576b"
             ],
             [
              0.6666666666666666,
              "#ed7953"
             ],
             [
              0.7777777777777778,
              "#fb9f3a"
             ],
             [
              0.8888888888888888,
              "#fdca26"
             ],
             [
              1,
              "#f0f921"
             ]
            ],
            "type": "contour"
           }
          ],
          "contourcarpet": [
           {
            "colorbar": {
             "outlinewidth": 0,
             "ticks": ""
            },
            "type": "contourcarpet"
           }
          ],
          "heatmap": [
           {
            "colorbar": {
             "outlinewidth": 0,
             "ticks": ""
            },
            "colorscale": [
             [
              0,
              "#0d0887"
             ],
             [
              0.1111111111111111,
              "#46039f"
             ],
             [
              0.2222222222222222,
              "#7201a8"
             ],
             [
              0.3333333333333333,
              "#9c179e"
             ],
             [
              0.4444444444444444,
              "#bd3786"
             ],
             [
              0.5555555555555556,
              "#d8576b"
             ],
             [
              0.6666666666666666,
              "#ed7953"
             ],
             [
              0.7777777777777778,
              "#fb9f3a"
             ],
             [
              0.8888888888888888,
              "#fdca26"
             ],
             [
              1,
              "#f0f921"
             ]
            ],
            "type": "heatmap"
           }
          ],
          "heatmapgl": [
           {
            "colorbar": {
             "outlinewidth": 0,
             "ticks": ""
            },
            "colorscale": [
             [
              0,
              "#0d0887"
             ],
             [
              0.1111111111111111,
              "#46039f"
             ],
             [
              0.2222222222222222,
              "#7201a8"
             ],
             [
              0.3333333333333333,
              "#9c179e"
             ],
             [
              0.4444444444444444,
              "#bd3786"
             ],
             [
              0.5555555555555556,
              "#d8576b"
             ],
             [
              0.6666666666666666,
              "#ed7953"
             ],
             [
              0.7777777777777778,
              "#fb9f3a"
             ],
             [
              0.8888888888888888,
              "#fdca26"
             ],
             [
              1,
              "#f0f921"
             ]
            ],
            "type": "heatmapgl"
           }
          ],
          "histogram": [
           {
            "marker": {
             "colorbar": {
              "outlinewidth": 0,
              "ticks": ""
             }
            },
            "type": "histogram"
           }
          ],
          "histogram2d": [
           {
            "colorbar": {
             "outlinewidth": 0,
             "ticks": ""
            },
            "colorscale": [
             [
              0,
              "#0d0887"
             ],
             [
              0.1111111111111111,
              "#46039f"
             ],
             [
              0.2222222222222222,
              "#7201a8"
             ],
             [
              0.3333333333333333,
              "#9c179e"
             ],
             [
              0.4444444444444444,
              "#bd3786"
             ],
             [
              0.5555555555555556,
              "#d8576b"
             ],
             [
              0.6666666666666666,
              "#ed7953"
             ],
             [
              0.7777777777777778,
              "#fb9f3a"
             ],
             [
              0.8888888888888888,
              "#fdca26"
             ],
             [
              1,
              "#f0f921"
             ]
            ],
            "type": "histogram2d"
           }
          ],
          "histogram2dcontour": [
           {
            "colorbar": {
             "outlinewidth": 0,
             "ticks": ""
            },
            "colorscale": [
             [
              0,
              "#0d0887"
             ],
             [
              0.1111111111111111,
              "#46039f"
             ],
             [
              0.2222222222222222,
              "#7201a8"
             ],
             [
              0.3333333333333333,
              "#9c179e"
             ],
             [
              0.4444444444444444,
              "#bd3786"
             ],
             [
              0.5555555555555556,
              "#d8576b"
             ],
             [
              0.6666666666666666,
              "#ed7953"
             ],
             [
              0.7777777777777778,
              "#fb9f3a"
             ],
             [
              0.8888888888888888,
              "#fdca26"
             ],
             [
              1,
              "#f0f921"
             ]
            ],
            "type": "histogram2dcontour"
           }
          ],
          "mesh3d": [
           {
            "colorbar": {
             "outlinewidth": 0,
             "ticks": ""
            },
            "type": "mesh3d"
           }
          ],
          "parcoords": [
           {
            "line": {
             "colorbar": {
              "outlinewidth": 0,
              "ticks": ""
             }
            },
            "type": "parcoords"
           }
          ],
          "pie": [
           {
            "automargin": true,
            "type": "pie"
           }
          ],
          "scatter": [
           {
            "marker": {
             "colorbar": {
              "outlinewidth": 0,
              "ticks": ""
             }
            },
            "type": "scatter"
           }
          ],
          "scatter3d": [
           {
            "line": {
             "colorbar": {
              "outlinewidth": 0,
              "ticks": ""
             }
            },
            "marker": {
             "colorbar": {
              "outlinewidth": 0,
              "ticks": ""
             }
            },
            "type": "scatter3d"
           }
          ],
          "scattercarpet": [
           {
            "marker": {
             "colorbar": {
              "outlinewidth": 0,
              "ticks": ""
             }
            },
            "type": "scattercarpet"
           }
          ],
          "scattergeo": [
           {
            "marker": {
             "colorbar": {
              "outlinewidth": 0,
              "ticks": ""
             }
            },
            "type": "scattergeo"
           }
          ],
          "scattergl": [
           {
            "marker": {
             "colorbar": {
              "outlinewidth": 0,
              "ticks": ""
             }
            },
            "type": "scattergl"
           }
          ],
          "scattermapbox": [
           {
            "marker": {
             "colorbar": {
              "outlinewidth": 0,
              "ticks": ""
             }
            },
            "type": "scattermapbox"
           }
          ],
          "scatterpolar": [
           {
            "marker": {
             "colorbar": {
              "outlinewidth": 0,
              "ticks": ""
             }
            },
            "type": "scatterpolar"
           }
          ],
          "scatterpolargl": [
           {
            "marker": {
             "colorbar": {
              "outlinewidth": 0,
              "ticks": ""
             }
            },
            "type": "scatterpolargl"
           }
          ],
          "scatterternary": [
           {
            "marker": {
             "colorbar": {
              "outlinewidth": 0,
              "ticks": ""
             }
            },
            "type": "scatterternary"
           }
          ],
          "surface": [
           {
            "colorbar": {
             "outlinewidth": 0,
             "ticks": ""
            },
            "colorscale": [
             [
              0,
              "#0d0887"
             ],
             [
              0.1111111111111111,
              "#46039f"
             ],
             [
              0.2222222222222222,
              "#7201a8"
             ],
             [
              0.3333333333333333,
              "#9c179e"
             ],
             [
              0.4444444444444444,
              "#bd3786"
             ],
             [
              0.5555555555555556,
              "#d8576b"
             ],
             [
              0.6666666666666666,
              "#ed7953"
             ],
             [
              0.7777777777777778,
              "#fb9f3a"
             ],
             [
              0.8888888888888888,
              "#fdca26"
             ],
             [
              1,
              "#f0f921"
             ]
            ],
            "type": "surface"
           }
          ],
          "table": [
           {
            "cells": {
             "fill": {
              "color": "#EBF0F8"
             },
             "line": {
              "color": "white"
             }
            },
            "header": {
             "fill": {
              "color": "#C8D4E3"
             },
             "line": {
              "color": "white"
             }
            },
            "type": "table"
           }
          ]
         },
         "layout": {
          "annotationdefaults": {
           "arrowcolor": "#2a3f5f",
           "arrowhead": 0,
           "arrowwidth": 1
          },
          "coloraxis": {
           "colorbar": {
            "outlinewidth": 0,
            "ticks": ""
           }
          },
          "colorscale": {
           "diverging": [
            [
             0,
             "#8e0152"
            ],
            [
             0.1,
             "#c51b7d"
            ],
            [
             0.2,
             "#de77ae"
            ],
            [
             0.3,
             "#f1b6da"
            ],
            [
             0.4,
             "#fde0ef"
            ],
            [
             0.5,
             "#f7f7f7"
            ],
            [
             0.6,
             "#e6f5d0"
            ],
            [
             0.7,
             "#b8e186"
            ],
            [
             0.8,
             "#7fbc41"
            ],
            [
             0.9,
             "#4d9221"
            ],
            [
             1,
             "#276419"
            ]
           ],
           "sequential": [
            [
             0,
             "#0d0887"
            ],
            [
             0.1111111111111111,
             "#46039f"
            ],
            [
             0.2222222222222222,
             "#7201a8"
            ],
            [
             0.3333333333333333,
             "#9c179e"
            ],
            [
             0.4444444444444444,
             "#bd3786"
            ],
            [
             0.5555555555555556,
             "#d8576b"
            ],
            [
             0.6666666666666666,
             "#ed7953"
            ],
            [
             0.7777777777777778,
             "#fb9f3a"
            ],
            [
             0.8888888888888888,
             "#fdca26"
            ],
            [
             1,
             "#f0f921"
            ]
           ],
           "sequentialminus": [
            [
             0,
             "#0d0887"
            ],
            [
             0.1111111111111111,
             "#46039f"
            ],
            [
             0.2222222222222222,
             "#7201a8"
            ],
            [
             0.3333333333333333,
             "#9c179e"
            ],
            [
             0.4444444444444444,
             "#bd3786"
            ],
            [
             0.5555555555555556,
             "#d8576b"
            ],
            [
             0.6666666666666666,
             "#ed7953"
            ],
            [
             0.7777777777777778,
             "#fb9f3a"
            ],
            [
             0.8888888888888888,
             "#fdca26"
            ],
            [
             1,
             "#f0f921"
            ]
           ]
          },
          "colorway": [
           "#636efa",
           "#EF553B",
           "#00cc96",
           "#ab63fa",
           "#FFA15A",
           "#19d3f3",
           "#FF6692",
           "#B6E880",
           "#FF97FF",
           "#FECB52"
          ],
          "font": {
           "color": "#2a3f5f"
          },
          "geo": {
           "bgcolor": "white",
           "lakecolor": "white",
           "landcolor": "#E5ECF6",
           "showlakes": true,
           "showland": true,
           "subunitcolor": "white"
          },
          "hoverlabel": {
           "align": "left"
          },
          "hovermode": "closest",
          "mapbox": {
           "style": "light"
          },
          "paper_bgcolor": "white",
          "plot_bgcolor": "#E5ECF6",
          "polar": {
           "angularaxis": {
            "gridcolor": "white",
            "linecolor": "white",
            "ticks": ""
           },
           "bgcolor": "#E5ECF6",
           "radialaxis": {
            "gridcolor": "white",
            "linecolor": "white",
            "ticks": ""
           }
          },
          "scene": {
           "xaxis": {
            "backgroundcolor": "#E5ECF6",
            "gridcolor": "white",
            "gridwidth": 2,
            "linecolor": "white",
            "showbackground": true,
            "ticks": "",
            "zerolinecolor": "white"
           },
           "yaxis": {
            "backgroundcolor": "#E5ECF6",
            "gridcolor": "white",
            "gridwidth": 2,
            "linecolor": "white",
            "showbackground": true,
            "ticks": "",
            "zerolinecolor": "white"
           },
           "zaxis": {
            "backgroundcolor": "#E5ECF6",
            "gridcolor": "white",
            "gridwidth": 2,
            "linecolor": "white",
            "showbackground": true,
            "ticks": "",
            "zerolinecolor": "white"
           }
          },
          "shapedefaults": {
           "line": {
            "color": "#2a3f5f"
           }
          },
          "ternary": {
           "aaxis": {
            "gridcolor": "white",
            "linecolor": "white",
            "ticks": ""
           },
           "baxis": {
            "gridcolor": "white",
            "linecolor": "white",
            "ticks": ""
           },
           "bgcolor": "#E5ECF6",
           "caxis": {
            "gridcolor": "white",
            "linecolor": "white",
            "ticks": ""
           }
          },
          "title": {
           "x": 0.05
          },
          "xaxis": {
           "automargin": true,
           "gridcolor": "white",
           "linecolor": "white",
           "ticks": "",
           "title": {
            "standoff": 15
           },
           "zerolinecolor": "white",
           "zerolinewidth": 2
          },
          "yaxis": {
           "automargin": true,
           "gridcolor": "white",
           "linecolor": "white",
           "ticks": "",
           "title": {
            "standoff": 15
           },
           "zerolinecolor": "white",
           "zerolinewidth": 2
          }
         }
        },
        "title": {
         "font": {
          "color": "#4D5663"
         }
        },
        "xaxis": {
         "gridcolor": "#E1E5ED",
         "showgrid": true,
         "tickfont": {
          "color": "#4D5663"
         },
         "title": {
          "font": {
           "color": "#4D5663"
          },
          "text": ""
         },
         "zerolinecolor": "#E1E5ED"
        },
        "yaxis": {
         "gridcolor": "#E1E5ED",
         "showgrid": true,
         "tickfont": {
          "color": "#4D5663"
         },
         "title": {
          "font": {
           "color": "#4D5663"
          },
          "text": ""
         },
         "zerolinecolor": "#E1E5ED"
        }
       }
      },
      "text/html": [
       "<div>\n",
       "        \n",
       "        \n",
       "            <div id=\"3e4b52fe-24b2-4718-8345-954cb9cab3ad\" class=\"plotly-graph-div\" style=\"height:525px; width:100%;\"></div>\n",
       "            <script type=\"text/javascript\">\n",
       "                require([\"plotly\"], function(Plotly) {\n",
       "                    window.PLOTLYENV=window.PLOTLYENV || {};\n",
       "                    window.PLOTLYENV.BASE_URL='https://plot.ly';\n",
       "                    \n",
       "                if (document.getElementById(\"3e4b52fe-24b2-4718-8345-954cb9cab3ad\")) {\n",
       "                    Plotly.newPlot(\n",
       "                        '3e4b52fe-24b2-4718-8345-954cb9cab3ad',\n",
       "                        [{\"marker\": {\"color\": \"rgba(255, 153, 51, 0.6)\", \"line\": {\"color\": \"rgba(255, 153, 51, 1.0)\", \"width\": 1}}, \"name\": \"Values\", \"orientation\": \"v\", \"text\": \"\", \"type\": \"bar\", \"x\": [\"A\", \"B\", \"C\"], \"y\": [32, 43, 50]}],\n",
       "                        {\"legend\": {\"bgcolor\": \"#F5F6F9\", \"font\": {\"color\": \"#4D5663\"}}, \"paper_bgcolor\": \"#F5F6F9\", \"plot_bgcolor\": \"#F5F6F9\", \"template\": {\"data\": {\"bar\": [{\"error_x\": {\"color\": \"#2a3f5f\"}, \"error_y\": {\"color\": \"#2a3f5f\"}, \"marker\": {\"line\": {\"color\": \"#E5ECF6\", \"width\": 0.5}}, \"type\": \"bar\"}], \"barpolar\": [{\"marker\": {\"line\": {\"color\": \"#E5ECF6\", \"width\": 0.5}}, \"type\": \"barpolar\"}], \"carpet\": [{\"aaxis\": {\"endlinecolor\": \"#2a3f5f\", \"gridcolor\": \"white\", \"linecolor\": \"white\", \"minorgridcolor\": \"white\", \"startlinecolor\": \"#2a3f5f\"}, \"baxis\": {\"endlinecolor\": \"#2a3f5f\", \"gridcolor\": \"white\", \"linecolor\": \"white\", \"minorgridcolor\": \"white\", \"startlinecolor\": \"#2a3f5f\"}, \"type\": \"carpet\"}], \"choropleth\": [{\"colorbar\": {\"outlinewidth\": 0, \"ticks\": \"\"}, \"type\": \"choropleth\"}], \"contour\": [{\"colorbar\": {\"outlinewidth\": 0, \"ticks\": \"\"}, \"colorscale\": [[0.0, \"#0d0887\"], [0.1111111111111111, \"#46039f\"], [0.2222222222222222, \"#7201a8\"], [0.3333333333333333, \"#9c179e\"], [0.4444444444444444, \"#bd3786\"], [0.5555555555555556, \"#d8576b\"], [0.6666666666666666, \"#ed7953\"], [0.7777777777777778, \"#fb9f3a\"], [0.8888888888888888, \"#fdca26\"], [1.0, \"#f0f921\"]], \"type\": \"contour\"}], \"contourcarpet\": [{\"colorbar\": {\"outlinewidth\": 0, \"ticks\": \"\"}, \"type\": \"contourcarpet\"}], \"heatmap\": [{\"colorbar\": {\"outlinewidth\": 0, \"ticks\": \"\"}, \"colorscale\": [[0.0, \"#0d0887\"], [0.1111111111111111, \"#46039f\"], [0.2222222222222222, \"#7201a8\"], [0.3333333333333333, \"#9c179e\"], [0.4444444444444444, \"#bd3786\"], [0.5555555555555556, \"#d8576b\"], [0.6666666666666666, \"#ed7953\"], [0.7777777777777778, \"#fb9f3a\"], [0.8888888888888888, \"#fdca26\"], [1.0, \"#f0f921\"]], \"type\": \"heatmap\"}], \"heatmapgl\": [{\"colorbar\": {\"outlinewidth\": 0, \"ticks\": \"\"}, \"colorscale\": [[0.0, \"#0d0887\"], [0.1111111111111111, \"#46039f\"], [0.2222222222222222, \"#7201a8\"], [0.3333333333333333, \"#9c179e\"], [0.4444444444444444, \"#bd3786\"], [0.5555555555555556, \"#d8576b\"], [0.6666666666666666, \"#ed7953\"], [0.7777777777777778, \"#fb9f3a\"], [0.8888888888888888, \"#fdca26\"], [1.0, \"#f0f921\"]], \"type\": \"heatmapgl\"}], \"histogram\": [{\"marker\": {\"colorbar\": {\"outlinewidth\": 0, \"ticks\": \"\"}}, \"type\": \"histogram\"}], \"histogram2d\": [{\"colorbar\": {\"outlinewidth\": 0, \"ticks\": \"\"}, \"colorscale\": [[0.0, \"#0d0887\"], [0.1111111111111111, \"#46039f\"], [0.2222222222222222, \"#7201a8\"], [0.3333333333333333, \"#9c179e\"], [0.4444444444444444, \"#bd3786\"], [0.5555555555555556, \"#d8576b\"], [0.6666666666666666, \"#ed7953\"], [0.7777777777777778, \"#fb9f3a\"], [0.8888888888888888, \"#fdca26\"], [1.0, \"#f0f921\"]], \"type\": \"histogram2d\"}], \"histogram2dcontour\": [{\"colorbar\": {\"outlinewidth\": 0, \"ticks\": \"\"}, \"colorscale\": [[0.0, \"#0d0887\"], [0.1111111111111111, \"#46039f\"], [0.2222222222222222, \"#7201a8\"], [0.3333333333333333, \"#9c179e\"], [0.4444444444444444, \"#bd3786\"], [0.5555555555555556, \"#d8576b\"], [0.6666666666666666, \"#ed7953\"], [0.7777777777777778, \"#fb9f3a\"], [0.8888888888888888, \"#fdca26\"], [1.0, \"#f0f921\"]], \"type\": \"histogram2dcontour\"}], \"mesh3d\": [{\"colorbar\": {\"outlinewidth\": 0, \"ticks\": \"\"}, \"type\": \"mesh3d\"}], \"parcoords\": [{\"line\": {\"colorbar\": {\"outlinewidth\": 0, \"ticks\": \"\"}}, \"type\": \"parcoords\"}], \"pie\": [{\"automargin\": true, \"type\": \"pie\"}], \"scatter\": [{\"marker\": {\"colorbar\": {\"outlinewidth\": 0, \"ticks\": \"\"}}, \"type\": \"scatter\"}], \"scatter3d\": [{\"line\": {\"colorbar\": {\"outlinewidth\": 0, \"ticks\": \"\"}}, \"marker\": {\"colorbar\": {\"outlinewidth\": 0, \"ticks\": \"\"}}, \"type\": \"scatter3d\"}], \"scattercarpet\": [{\"marker\": {\"colorbar\": {\"outlinewidth\": 0, \"ticks\": \"\"}}, \"type\": \"scattercarpet\"}], \"scattergeo\": [{\"marker\": {\"colorbar\": {\"outlinewidth\": 0, \"ticks\": \"\"}}, \"type\": \"scattergeo\"}], \"scattergl\": [{\"marker\": {\"colorbar\": {\"outlinewidth\": 0, \"ticks\": \"\"}}, \"type\": \"scattergl\"}], \"scattermapbox\": [{\"marker\": {\"colorbar\": {\"outlinewidth\": 0, \"ticks\": \"\"}}, \"type\": \"scattermapbox\"}], \"scatterpolar\": [{\"marker\": {\"colorbar\": {\"outlinewidth\": 0, \"ticks\": \"\"}}, \"type\": \"scatterpolar\"}], \"scatterpolargl\": [{\"marker\": {\"colorbar\": {\"outlinewidth\": 0, \"ticks\": \"\"}}, \"type\": \"scatterpolargl\"}], \"scatterternary\": [{\"marker\": {\"colorbar\": {\"outlinewidth\": 0, \"ticks\": \"\"}}, \"type\": \"scatterternary\"}], \"surface\": [{\"colorbar\": {\"outlinewidth\": 0, \"ticks\": \"\"}, \"colorscale\": [[0.0, \"#0d0887\"], [0.1111111111111111, \"#46039f\"], [0.2222222222222222, \"#7201a8\"], [0.3333333333333333, \"#9c179e\"], [0.4444444444444444, \"#bd3786\"], [0.5555555555555556, \"#d8576b\"], [0.6666666666666666, \"#ed7953\"], [0.7777777777777778, \"#fb9f3a\"], [0.8888888888888888, \"#fdca26\"], [1.0, \"#f0f921\"]], \"type\": \"surface\"}], \"table\": [{\"cells\": {\"fill\": {\"color\": \"#EBF0F8\"}, \"line\": {\"color\": \"white\"}}, \"header\": {\"fill\": {\"color\": \"#C8D4E3\"}, \"line\": {\"color\": \"white\"}}, \"type\": \"table\"}]}, \"layout\": {\"annotationdefaults\": {\"arrowcolor\": \"#2a3f5f\", \"arrowhead\": 0, \"arrowwidth\": 1}, \"coloraxis\": {\"colorbar\": {\"outlinewidth\": 0, \"ticks\": \"\"}}, \"colorscale\": {\"diverging\": [[0, \"#8e0152\"], [0.1, \"#c51b7d\"], [0.2, \"#de77ae\"], [0.3, \"#f1b6da\"], [0.4, \"#fde0ef\"], [0.5, \"#f7f7f7\"], [0.6, \"#e6f5d0\"], [0.7, \"#b8e186\"], [0.8, \"#7fbc41\"], [0.9, \"#4d9221\"], [1, \"#276419\"]], \"sequential\": [[0.0, \"#0d0887\"], [0.1111111111111111, \"#46039f\"], [0.2222222222222222, \"#7201a8\"], [0.3333333333333333, \"#9c179e\"], [0.4444444444444444, \"#bd3786\"], [0.5555555555555556, \"#d8576b\"], [0.6666666666666666, \"#ed7953\"], [0.7777777777777778, \"#fb9f3a\"], [0.8888888888888888, \"#fdca26\"], [1.0, \"#f0f921\"]], \"sequentialminus\": [[0.0, \"#0d0887\"], [0.1111111111111111, \"#46039f\"], [0.2222222222222222, \"#7201a8\"], [0.3333333333333333, \"#9c179e\"], [0.4444444444444444, \"#bd3786\"], [0.5555555555555556, \"#d8576b\"], [0.6666666666666666, \"#ed7953\"], [0.7777777777777778, \"#fb9f3a\"], [0.8888888888888888, \"#fdca26\"], [1.0, \"#f0f921\"]]}, \"colorway\": [\"#636efa\", \"#EF553B\", \"#00cc96\", \"#ab63fa\", \"#FFA15A\", \"#19d3f3\", \"#FF6692\", \"#B6E880\", \"#FF97FF\", \"#FECB52\"], \"font\": {\"color\": \"#2a3f5f\"}, \"geo\": {\"bgcolor\": \"white\", \"lakecolor\": \"white\", \"landcolor\": \"#E5ECF6\", \"showlakes\": true, \"showland\": true, \"subunitcolor\": \"white\"}, \"hoverlabel\": {\"align\": \"left\"}, \"hovermode\": \"closest\", \"mapbox\": {\"style\": \"light\"}, \"paper_bgcolor\": \"white\", \"plot_bgcolor\": \"#E5ECF6\", \"polar\": {\"angularaxis\": {\"gridcolor\": \"white\", \"linecolor\": \"white\", \"ticks\": \"\"}, \"bgcolor\": \"#E5ECF6\", \"radialaxis\": {\"gridcolor\": \"white\", \"linecolor\": \"white\", \"ticks\": \"\"}}, \"scene\": {\"xaxis\": {\"backgroundcolor\": \"#E5ECF6\", \"gridcolor\": \"white\", \"gridwidth\": 2, \"linecolor\": \"white\", \"showbackground\": true, \"ticks\": \"\", \"zerolinecolor\": \"white\"}, \"yaxis\": {\"backgroundcolor\": \"#E5ECF6\", \"gridcolor\": \"white\", \"gridwidth\": 2, \"linecolor\": \"white\", \"showbackground\": true, \"ticks\": \"\", \"zerolinecolor\": \"white\"}, \"zaxis\": {\"backgroundcolor\": \"#E5ECF6\", \"gridcolor\": \"white\", \"gridwidth\": 2, \"linecolor\": \"white\", \"showbackground\": true, \"ticks\": \"\", \"zerolinecolor\": \"white\"}}, \"shapedefaults\": {\"line\": {\"color\": \"#2a3f5f\"}}, \"ternary\": {\"aaxis\": {\"gridcolor\": \"white\", \"linecolor\": \"white\", \"ticks\": \"\"}, \"baxis\": {\"gridcolor\": \"white\", \"linecolor\": \"white\", \"ticks\": \"\"}, \"bgcolor\": \"#E5ECF6\", \"caxis\": {\"gridcolor\": \"white\", \"linecolor\": \"white\", \"ticks\": \"\"}}, \"title\": {\"x\": 0.05}, \"xaxis\": {\"automargin\": true, \"gridcolor\": \"white\", \"linecolor\": \"white\", \"ticks\": \"\", \"title\": {\"standoff\": 15}, \"zerolinecolor\": \"white\", \"zerolinewidth\": 2}, \"yaxis\": {\"automargin\": true, \"gridcolor\": \"white\", \"linecolor\": \"white\", \"ticks\": \"\", \"title\": {\"standoff\": 15}, \"zerolinecolor\": \"white\", \"zerolinewidth\": 2}}}, \"title\": {\"font\": {\"color\": \"#4D5663\"}}, \"xaxis\": {\"gridcolor\": \"#E1E5ED\", \"showgrid\": true, \"tickfont\": {\"color\": \"#4D5663\"}, \"title\": {\"font\": {\"color\": \"#4D5663\"}, \"text\": \"\"}, \"zerolinecolor\": \"#E1E5ED\"}, \"yaxis\": {\"gridcolor\": \"#E1E5ED\", \"showgrid\": true, \"tickfont\": {\"color\": \"#4D5663\"}, \"title\": {\"font\": {\"color\": \"#4D5663\"}, \"text\": \"\"}, \"zerolinecolor\": \"#E1E5ED\"}},\n",
       "                        {\"showLink\": true, \"linkText\": \"Export to plot.ly\", \"plotlyServerURL\": \"https://plot.ly\", \"responsive\": true}\n",
       "                    ).then(function(){\n",
       "                            \n",
       "var gd = document.getElementById('3e4b52fe-24b2-4718-8345-954cb9cab3ad');\n",
       "var x = new MutationObserver(function (mutations, observer) {{\n",
       "        var display = window.getComputedStyle(gd).display;\n",
       "        if (!display || display === 'none') {{\n",
       "            console.log([gd, 'removed!']);\n",
       "            Plotly.purge(gd);\n",
       "            observer.disconnect();\n",
       "        }}\n",
       "}});\n",
       "\n",
       "// Listen for the removal of the full notebook cells\n",
       "var notebookContainer = gd.closest('#notebook-container');\n",
       "if (notebookContainer) {{\n",
       "    x.observe(notebookContainer, {childList: true});\n",
       "}}\n",
       "\n",
       "// Listen for the clearing of the current output cell\n",
       "var outputEl = gd.closest('.output');\n",
       "if (outputEl) {{\n",
       "    x.observe(outputEl, {childList: true});\n",
       "}}\n",
       "\n",
       "                        })\n",
       "                };\n",
       "                });\n",
       "            </script>\n",
       "        </div>"
      ]
     },
     "metadata": {},
     "output_type": "display_data"
    }
   ],
   "source": [
    "df2.iplot(kind='bar',x='Category',y='Values')"
   ]
  },
  {
   "cell_type": "code",
   "execution_count": 25,
   "metadata": {},
   "outputs": [
    {
     "data": {
      "application/vnd.plotly.v1+json": {
       "config": {
        "linkText": "Export to plot.ly",
        "plotlyServerURL": "https://plot.ly",
        "showLink": true
       },
       "data": [
        {
         "marker": {
          "color": "rgba(255, 153, 51, 0.6)",
          "line": {
           "color": "rgba(255, 153, 51, 1.0)",
           "width": 1
          }
         },
         "name": "None",
         "orientation": "v",
         "text": "",
         "type": "bar",
         "x": [
          "A",
          "B",
          "C",
          "D"
         ],
         "y": [
          100,
          100,
          100,
          100
         ]
        }
       ],
       "layout": {
        "legend": {
         "bgcolor": "#F5F6F9",
         "font": {
          "color": "#4D5663"
         }
        },
        "paper_bgcolor": "#F5F6F9",
        "plot_bgcolor": "#F5F6F9",
        "template": {
         "data": {
          "bar": [
           {
            "error_x": {
             "color": "#2a3f5f"
            },
            "error_y": {
             "color": "#2a3f5f"
            },
            "marker": {
             "line": {
              "color": "#E5ECF6",
              "width": 0.5
             }
            },
            "type": "bar"
           }
          ],
          "barpolar": [
           {
            "marker": {
             "line": {
              "color": "#E5ECF6",
              "width": 0.5
             }
            },
            "type": "barpolar"
           }
          ],
          "carpet": [
           {
            "aaxis": {
             "endlinecolor": "#2a3f5f",
             "gridcolor": "white",
             "linecolor": "white",
             "minorgridcolor": "white",
             "startlinecolor": "#2a3f5f"
            },
            "baxis": {
             "endlinecolor": "#2a3f5f",
             "gridcolor": "white",
             "linecolor": "white",
             "minorgridcolor": "white",
             "startlinecolor": "#2a3f5f"
            },
            "type": "carpet"
           }
          ],
          "choropleth": [
           {
            "colorbar": {
             "outlinewidth": 0,
             "ticks": ""
            },
            "type": "choropleth"
           }
          ],
          "contour": [
           {
            "colorbar": {
             "outlinewidth": 0,
             "ticks": ""
            },
            "colorscale": [
             [
              0,
              "#0d0887"
             ],
             [
              0.1111111111111111,
              "#46039f"
             ],
             [
              0.2222222222222222,
              "#7201a8"
             ],
             [
              0.3333333333333333,
              "#9c179e"
             ],
             [
              0.4444444444444444,
              "#bd3786"
             ],
             [
              0.5555555555555556,
              "#d8576b"
             ],
             [
              0.6666666666666666,
              "#ed7953"
             ],
             [
              0.7777777777777778,
              "#fb9f3a"
             ],
             [
              0.8888888888888888,
              "#fdca26"
             ],
             [
              1,
              "#f0f921"
             ]
            ],
            "type": "contour"
           }
          ],
          "contourcarpet": [
           {
            "colorbar": {
             "outlinewidth": 0,
             "ticks": ""
            },
            "type": "contourcarpet"
           }
          ],
          "heatmap": [
           {
            "colorbar": {
             "outlinewidth": 0,
             "ticks": ""
            },
            "colorscale": [
             [
              0,
              "#0d0887"
             ],
             [
              0.1111111111111111,
              "#46039f"
             ],
             [
              0.2222222222222222,
              "#7201a8"
             ],
             [
              0.3333333333333333,
              "#9c179e"
             ],
             [
              0.4444444444444444,
              "#bd3786"
             ],
             [
              0.5555555555555556,
              "#d8576b"
             ],
             [
              0.6666666666666666,
              "#ed7953"
             ],
             [
              0.7777777777777778,
              "#fb9f3a"
             ],
             [
              0.8888888888888888,
              "#fdca26"
             ],
             [
              1,
              "#f0f921"
             ]
            ],
            "type": "heatmap"
           }
          ],
          "heatmapgl": [
           {
            "colorbar": {
             "outlinewidth": 0,
             "ticks": ""
            },
            "colorscale": [
             [
              0,
              "#0d0887"
             ],
             [
              0.1111111111111111,
              "#46039f"
             ],
             [
              0.2222222222222222,
              "#7201a8"
             ],
             [
              0.3333333333333333,
              "#9c179e"
             ],
             [
              0.4444444444444444,
              "#bd3786"
             ],
             [
              0.5555555555555556,
              "#d8576b"
             ],
             [
              0.6666666666666666,
              "#ed7953"
             ],
             [
              0.7777777777777778,
              "#fb9f3a"
             ],
             [
              0.8888888888888888,
              "#fdca26"
             ],
             [
              1,
              "#f0f921"
             ]
            ],
            "type": "heatmapgl"
           }
          ],
          "histogram": [
           {
            "marker": {
             "colorbar": {
              "outlinewidth": 0,
              "ticks": ""
             }
            },
            "type": "histogram"
           }
          ],
          "histogram2d": [
           {
            "colorbar": {
             "outlinewidth": 0,
             "ticks": ""
            },
            "colorscale": [
             [
              0,
              "#0d0887"
             ],
             [
              0.1111111111111111,
              "#46039f"
             ],
             [
              0.2222222222222222,
              "#7201a8"
             ],
             [
              0.3333333333333333,
              "#9c179e"
             ],
             [
              0.4444444444444444,
              "#bd3786"
             ],
             [
              0.5555555555555556,
              "#d8576b"
             ],
             [
              0.6666666666666666,
              "#ed7953"
             ],
             [
              0.7777777777777778,
              "#fb9f3a"
             ],
             [
              0.8888888888888888,
              "#fdca26"
             ],
             [
              1,
              "#f0f921"
             ]
            ],
            "type": "histogram2d"
           }
          ],
          "histogram2dcontour": [
           {
            "colorbar": {
             "outlinewidth": 0,
             "ticks": ""
            },
            "colorscale": [
             [
              0,
              "#0d0887"
             ],
             [
              0.1111111111111111,
              "#46039f"
             ],
             [
              0.2222222222222222,
              "#7201a8"
             ],
             [
              0.3333333333333333,
              "#9c179e"
             ],
             [
              0.4444444444444444,
              "#bd3786"
             ],
             [
              0.5555555555555556,
              "#d8576b"
             ],
             [
              0.6666666666666666,
              "#ed7953"
             ],
             [
              0.7777777777777778,
              "#fb9f3a"
             ],
             [
              0.8888888888888888,
              "#fdca26"
             ],
             [
              1,
              "#f0f921"
             ]
            ],
            "type": "histogram2dcontour"
           }
          ],
          "mesh3d": [
           {
            "colorbar": {
             "outlinewidth": 0,
             "ticks": ""
            },
            "type": "mesh3d"
           }
          ],
          "parcoords": [
           {
            "line": {
             "colorbar": {
              "outlinewidth": 0,
              "ticks": ""
             }
            },
            "type": "parcoords"
           }
          ],
          "pie": [
           {
            "automargin": true,
            "type": "pie"
           }
          ],
          "scatter": [
           {
            "marker": {
             "colorbar": {
              "outlinewidth": 0,
              "ticks": ""
             }
            },
            "type": "scatter"
           }
          ],
          "scatter3d": [
           {
            "line": {
             "colorbar": {
              "outlinewidth": 0,
              "ticks": ""
             }
            },
            "marker": {
             "colorbar": {
              "outlinewidth": 0,
              "ticks": ""
             }
            },
            "type": "scatter3d"
           }
          ],
          "scattercarpet": [
           {
            "marker": {
             "colorbar": {
              "outlinewidth": 0,
              "ticks": ""
             }
            },
            "type": "scattercarpet"
           }
          ],
          "scattergeo": [
           {
            "marker": {
             "colorbar": {
              "outlinewidth": 0,
              "ticks": ""
             }
            },
            "type": "scattergeo"
           }
          ],
          "scattergl": [
           {
            "marker": {
             "colorbar": {
              "outlinewidth": 0,
              "ticks": ""
             }
            },
            "type": "scattergl"
           }
          ],
          "scattermapbox": [
           {
            "marker": {
             "colorbar": {
              "outlinewidth": 0,
              "ticks": ""
             }
            },
            "type": "scattermapbox"
           }
          ],
          "scatterpolar": [
           {
            "marker": {
             "colorbar": {
              "outlinewidth": 0,
              "ticks": ""
             }
            },
            "type": "scatterpolar"
           }
          ],
          "scatterpolargl": [
           {
            "marker": {
             "colorbar": {
              "outlinewidth": 0,
              "ticks": ""
             }
            },
            "type": "scatterpolargl"
           }
          ],
          "scatterternary": [
           {
            "marker": {
             "colorbar": {
              "outlinewidth": 0,
              "ticks": ""
             }
            },
            "type": "scatterternary"
           }
          ],
          "surface": [
           {
            "colorbar": {
             "outlinewidth": 0,
             "ticks": ""
            },
            "colorscale": [
             [
              0,
              "#0d0887"
             ],
             [
              0.1111111111111111,
              "#46039f"
             ],
             [
              0.2222222222222222,
              "#7201a8"
             ],
             [
              0.3333333333333333,
              "#9c179e"
             ],
             [
              0.4444444444444444,
              "#bd3786"
             ],
             [
              0.5555555555555556,
              "#d8576b"
             ],
             [
              0.6666666666666666,
              "#ed7953"
             ],
             [
              0.7777777777777778,
              "#fb9f3a"
             ],
             [
              0.8888888888888888,
              "#fdca26"
             ],
             [
              1,
              "#f0f921"
             ]
            ],
            "type": "surface"
           }
          ],
          "table": [
           {
            "cells": {
             "fill": {
              "color": "#EBF0F8"
             },
             "line": {
              "color": "white"
             }
            },
            "header": {
             "fill": {
              "color": "#C8D4E3"
             },
             "line": {
              "color": "white"
             }
            },
            "type": "table"
           }
          ]
         },
         "layout": {
          "annotationdefaults": {
           "arrowcolor": "#2a3f5f",
           "arrowhead": 0,
           "arrowwidth": 1
          },
          "coloraxis": {
           "colorbar": {
            "outlinewidth": 0,
            "ticks": ""
           }
          },
          "colorscale": {
           "diverging": [
            [
             0,
             "#8e0152"
            ],
            [
             0.1,
             "#c51b7d"
            ],
            [
             0.2,
             "#de77ae"
            ],
            [
             0.3,
             "#f1b6da"
            ],
            [
             0.4,
             "#fde0ef"
            ],
            [
             0.5,
             "#f7f7f7"
            ],
            [
             0.6,
             "#e6f5d0"
            ],
            [
             0.7,
             "#b8e186"
            ],
            [
             0.8,
             "#7fbc41"
            ],
            [
             0.9,
             "#4d9221"
            ],
            [
             1,
             "#276419"
            ]
           ],
           "sequential": [
            [
             0,
             "#0d0887"
            ],
            [
             0.1111111111111111,
             "#46039f"
            ],
            [
             0.2222222222222222,
             "#7201a8"
            ],
            [
             0.3333333333333333,
             "#9c179e"
            ],
            [
             0.4444444444444444,
             "#bd3786"
            ],
            [
             0.5555555555555556,
             "#d8576b"
            ],
            [
             0.6666666666666666,
             "#ed7953"
            ],
            [
             0.7777777777777778,
             "#fb9f3a"
            ],
            [
             0.8888888888888888,
             "#fdca26"
            ],
            [
             1,
             "#f0f921"
            ]
           ],
           "sequentialminus": [
            [
             0,
             "#0d0887"
            ],
            [
             0.1111111111111111,
             "#46039f"
            ],
            [
             0.2222222222222222,
             "#7201a8"
            ],
            [
             0.3333333333333333,
             "#9c179e"
            ],
            [
             0.4444444444444444,
             "#bd3786"
            ],
            [
             0.5555555555555556,
             "#d8576b"
            ],
            [
             0.6666666666666666,
             "#ed7953"
            ],
            [
             0.7777777777777778,
             "#fb9f3a"
            ],
            [
             0.8888888888888888,
             "#fdca26"
            ],
            [
             1,
             "#f0f921"
            ]
           ]
          },
          "colorway": [
           "#636efa",
           "#EF553B",
           "#00cc96",
           "#ab63fa",
           "#FFA15A",
           "#19d3f3",
           "#FF6692",
           "#B6E880",
           "#FF97FF",
           "#FECB52"
          ],
          "font": {
           "color": "#2a3f5f"
          },
          "geo": {
           "bgcolor": "white",
           "lakecolor": "white",
           "landcolor": "#E5ECF6",
           "showlakes": true,
           "showland": true,
           "subunitcolor": "white"
          },
          "hoverlabel": {
           "align": "left"
          },
          "hovermode": "closest",
          "mapbox": {
           "style": "light"
          },
          "paper_bgcolor": "white",
          "plot_bgcolor": "#E5ECF6",
          "polar": {
           "angularaxis": {
            "gridcolor": "white",
            "linecolor": "white",
            "ticks": ""
           },
           "bgcolor": "#E5ECF6",
           "radialaxis": {
            "gridcolor": "white",
            "linecolor": "white",
            "ticks": ""
           }
          },
          "scene": {
           "xaxis": {
            "backgroundcolor": "#E5ECF6",
            "gridcolor": "white",
            "gridwidth": 2,
            "linecolor": "white",
            "showbackground": true,
            "ticks": "",
            "zerolinecolor": "white"
           },
           "yaxis": {
            "backgroundcolor": "#E5ECF6",
            "gridcolor": "white",
            "gridwidth": 2,
            "linecolor": "white",
            "showbackground": true,
            "ticks": "",
            "zerolinecolor": "white"
           },
           "zaxis": {
            "backgroundcolor": "#E5ECF6",
            "gridcolor": "white",
            "gridwidth": 2,
            "linecolor": "white",
            "showbackground": true,
            "ticks": "",
            "zerolinecolor": "white"
           }
          },
          "shapedefaults": {
           "line": {
            "color": "#2a3f5f"
           }
          },
          "ternary": {
           "aaxis": {
            "gridcolor": "white",
            "linecolor": "white",
            "ticks": ""
           },
           "baxis": {
            "gridcolor": "white",
            "linecolor": "white",
            "ticks": ""
           },
           "bgcolor": "#E5ECF6",
           "caxis": {
            "gridcolor": "white",
            "linecolor": "white",
            "ticks": ""
           }
          },
          "title": {
           "x": 0.05
          },
          "xaxis": {
           "automargin": true,
           "gridcolor": "white",
           "linecolor": "white",
           "ticks": "",
           "title": {
            "standoff": 15
           },
           "zerolinecolor": "white",
           "zerolinewidth": 2
          },
          "yaxis": {
           "automargin": true,
           "gridcolor": "white",
           "linecolor": "white",
           "ticks": "",
           "title": {
            "standoff": 15
           },
           "zerolinecolor": "white",
           "zerolinewidth": 2
          }
         }
        },
        "title": {
         "font": {
          "color": "#4D5663"
         }
        },
        "xaxis": {
         "gridcolor": "#E1E5ED",
         "showgrid": true,
         "tickfont": {
          "color": "#4D5663"
         },
         "title": {
          "font": {
           "color": "#4D5663"
          },
          "text": ""
         },
         "zerolinecolor": "#E1E5ED"
        },
        "yaxis": {
         "gridcolor": "#E1E5ED",
         "showgrid": true,
         "tickfont": {
          "color": "#4D5663"
         },
         "title": {
          "font": {
           "color": "#4D5663"
          },
          "text": ""
         },
         "zerolinecolor": "#E1E5ED"
        }
       }
      },
      "text/html": [
       "<div>\n",
       "        \n",
       "        \n",
       "            <div id=\"502875a7-c024-420f-846b-b2918b9f4c6c\" class=\"plotly-graph-div\" style=\"height:525px; width:100%;\"></div>\n",
       "            <script type=\"text/javascript\">\n",
       "                require([\"plotly\"], function(Plotly) {\n",
       "                    window.PLOTLYENV=window.PLOTLYENV || {};\n",
       "                    window.PLOTLYENV.BASE_URL='https://plot.ly';\n",
       "                    \n",
       "                if (document.getElementById(\"502875a7-c024-420f-846b-b2918b9f4c6c\")) {\n",
       "                    Plotly.newPlot(\n",
       "                        '502875a7-c024-420f-846b-b2918b9f4c6c',\n",
       "                        [{\"marker\": {\"color\": \"rgba(255, 153, 51, 0.6)\", \"line\": {\"color\": \"rgba(255, 153, 51, 1.0)\", \"width\": 1}}, \"name\": \"None\", \"orientation\": \"v\", \"text\": \"\", \"type\": \"bar\", \"x\": [\"A\", \"B\", \"C\", \"D\"], \"y\": [100, 100, 100, 100]}],\n",
       "                        {\"legend\": {\"bgcolor\": \"#F5F6F9\", \"font\": {\"color\": \"#4D5663\"}}, \"paper_bgcolor\": \"#F5F6F9\", \"plot_bgcolor\": \"#F5F6F9\", \"template\": {\"data\": {\"bar\": [{\"error_x\": {\"color\": \"#2a3f5f\"}, \"error_y\": {\"color\": \"#2a3f5f\"}, \"marker\": {\"line\": {\"color\": \"#E5ECF6\", \"width\": 0.5}}, \"type\": \"bar\"}], \"barpolar\": [{\"marker\": {\"line\": {\"color\": \"#E5ECF6\", \"width\": 0.5}}, \"type\": \"barpolar\"}], \"carpet\": [{\"aaxis\": {\"endlinecolor\": \"#2a3f5f\", \"gridcolor\": \"white\", \"linecolor\": \"white\", \"minorgridcolor\": \"white\", \"startlinecolor\": \"#2a3f5f\"}, \"baxis\": {\"endlinecolor\": \"#2a3f5f\", \"gridcolor\": \"white\", \"linecolor\": \"white\", \"minorgridcolor\": \"white\", \"startlinecolor\": \"#2a3f5f\"}, \"type\": \"carpet\"}], \"choropleth\": [{\"colorbar\": {\"outlinewidth\": 0, \"ticks\": \"\"}, \"type\": \"choropleth\"}], \"contour\": [{\"colorbar\": {\"outlinewidth\": 0, \"ticks\": \"\"}, \"colorscale\": [[0.0, \"#0d0887\"], [0.1111111111111111, \"#46039f\"], [0.2222222222222222, \"#7201a8\"], [0.3333333333333333, \"#9c179e\"], [0.4444444444444444, \"#bd3786\"], [0.5555555555555556, \"#d8576b\"], [0.6666666666666666, \"#ed7953\"], [0.7777777777777778, \"#fb9f3a\"], [0.8888888888888888, \"#fdca26\"], [1.0, \"#f0f921\"]], \"type\": \"contour\"}], \"contourcarpet\": [{\"colorbar\": {\"outlinewidth\": 0, \"ticks\": \"\"}, \"type\": \"contourcarpet\"}], \"heatmap\": [{\"colorbar\": {\"outlinewidth\": 0, \"ticks\": \"\"}, \"colorscale\": [[0.0, \"#0d0887\"], [0.1111111111111111, \"#46039f\"], [0.2222222222222222, \"#7201a8\"], [0.3333333333333333, \"#9c179e\"], [0.4444444444444444, \"#bd3786\"], [0.5555555555555556, \"#d8576b\"], [0.6666666666666666, \"#ed7953\"], [0.7777777777777778, \"#fb9f3a\"], [0.8888888888888888, \"#fdca26\"], [1.0, \"#f0f921\"]], \"type\": \"heatmap\"}], \"heatmapgl\": [{\"colorbar\": {\"outlinewidth\": 0, \"ticks\": \"\"}, \"colorscale\": [[0.0, \"#0d0887\"], [0.1111111111111111, \"#46039f\"], [0.2222222222222222, \"#7201a8\"], [0.3333333333333333, \"#9c179e\"], [0.4444444444444444, \"#bd3786\"], [0.5555555555555556, \"#d8576b\"], [0.6666666666666666, \"#ed7953\"], [0.7777777777777778, \"#fb9f3a\"], [0.8888888888888888, \"#fdca26\"], [1.0, \"#f0f921\"]], \"type\": \"heatmapgl\"}], \"histogram\": [{\"marker\": {\"colorbar\": {\"outlinewidth\": 0, \"ticks\": \"\"}}, \"type\": \"histogram\"}], \"histogram2d\": [{\"colorbar\": {\"outlinewidth\": 0, \"ticks\": \"\"}, \"colorscale\": [[0.0, \"#0d0887\"], [0.1111111111111111, \"#46039f\"], [0.2222222222222222, \"#7201a8\"], [0.3333333333333333, \"#9c179e\"], [0.4444444444444444, \"#bd3786\"], [0.5555555555555556, \"#d8576b\"], [0.6666666666666666, \"#ed7953\"], [0.7777777777777778, \"#fb9f3a\"], [0.8888888888888888, \"#fdca26\"], [1.0, \"#f0f921\"]], \"type\": \"histogram2d\"}], \"histogram2dcontour\": [{\"colorbar\": {\"outlinewidth\": 0, \"ticks\": \"\"}, \"colorscale\": [[0.0, \"#0d0887\"], [0.1111111111111111, \"#46039f\"], [0.2222222222222222, \"#7201a8\"], [0.3333333333333333, \"#9c179e\"], [0.4444444444444444, \"#bd3786\"], [0.5555555555555556, \"#d8576b\"], [0.6666666666666666, \"#ed7953\"], [0.7777777777777778, \"#fb9f3a\"], [0.8888888888888888, \"#fdca26\"], [1.0, \"#f0f921\"]], \"type\": \"histogram2dcontour\"}], \"mesh3d\": [{\"colorbar\": {\"outlinewidth\": 0, \"ticks\": \"\"}, \"type\": \"mesh3d\"}], \"parcoords\": [{\"line\": {\"colorbar\": {\"outlinewidth\": 0, \"ticks\": \"\"}}, \"type\": \"parcoords\"}], \"pie\": [{\"automargin\": true, \"type\": \"pie\"}], \"scatter\": [{\"marker\": {\"colorbar\": {\"outlinewidth\": 0, \"ticks\": \"\"}}, \"type\": \"scatter\"}], \"scatter3d\": [{\"line\": {\"colorbar\": {\"outlinewidth\": 0, \"ticks\": \"\"}}, \"marker\": {\"colorbar\": {\"outlinewidth\": 0, \"ticks\": \"\"}}, \"type\": \"scatter3d\"}], \"scattercarpet\": [{\"marker\": {\"colorbar\": {\"outlinewidth\": 0, \"ticks\": \"\"}}, \"type\": \"scattercarpet\"}], \"scattergeo\": [{\"marker\": {\"colorbar\": {\"outlinewidth\": 0, \"ticks\": \"\"}}, \"type\": \"scattergeo\"}], \"scattergl\": [{\"marker\": {\"colorbar\": {\"outlinewidth\": 0, \"ticks\": \"\"}}, \"type\": \"scattergl\"}], \"scattermapbox\": [{\"marker\": {\"colorbar\": {\"outlinewidth\": 0, \"ticks\": \"\"}}, \"type\": \"scattermapbox\"}], \"scatterpolar\": [{\"marker\": {\"colorbar\": {\"outlinewidth\": 0, \"ticks\": \"\"}}, \"type\": \"scatterpolar\"}], \"scatterpolargl\": [{\"marker\": {\"colorbar\": {\"outlinewidth\": 0, \"ticks\": \"\"}}, \"type\": \"scatterpolargl\"}], \"scatterternary\": [{\"marker\": {\"colorbar\": {\"outlinewidth\": 0, \"ticks\": \"\"}}, \"type\": \"scatterternary\"}], \"surface\": [{\"colorbar\": {\"outlinewidth\": 0, \"ticks\": \"\"}, \"colorscale\": [[0.0, \"#0d0887\"], [0.1111111111111111, \"#46039f\"], [0.2222222222222222, \"#7201a8\"], [0.3333333333333333, \"#9c179e\"], [0.4444444444444444, \"#bd3786\"], [0.5555555555555556, \"#d8576b\"], [0.6666666666666666, \"#ed7953\"], [0.7777777777777778, \"#fb9f3a\"], [0.8888888888888888, \"#fdca26\"], [1.0, \"#f0f921\"]], \"type\": \"surface\"}], \"table\": [{\"cells\": {\"fill\": {\"color\": \"#EBF0F8\"}, \"line\": {\"color\": \"white\"}}, \"header\": {\"fill\": {\"color\": \"#C8D4E3\"}, \"line\": {\"color\": \"white\"}}, \"type\": \"table\"}]}, \"layout\": {\"annotationdefaults\": {\"arrowcolor\": \"#2a3f5f\", \"arrowhead\": 0, \"arrowwidth\": 1}, \"coloraxis\": {\"colorbar\": {\"outlinewidth\": 0, \"ticks\": \"\"}}, \"colorscale\": {\"diverging\": [[0, \"#8e0152\"], [0.1, \"#c51b7d\"], [0.2, \"#de77ae\"], [0.3, \"#f1b6da\"], [0.4, \"#fde0ef\"], [0.5, \"#f7f7f7\"], [0.6, \"#e6f5d0\"], [0.7, \"#b8e186\"], [0.8, \"#7fbc41\"], [0.9, \"#4d9221\"], [1, \"#276419\"]], \"sequential\": [[0.0, \"#0d0887\"], [0.1111111111111111, \"#46039f\"], [0.2222222222222222, \"#7201a8\"], [0.3333333333333333, \"#9c179e\"], [0.4444444444444444, \"#bd3786\"], [0.5555555555555556, \"#d8576b\"], [0.6666666666666666, \"#ed7953\"], [0.7777777777777778, \"#fb9f3a\"], [0.8888888888888888, \"#fdca26\"], [1.0, \"#f0f921\"]], \"sequentialminus\": [[0.0, \"#0d0887\"], [0.1111111111111111, \"#46039f\"], [0.2222222222222222, \"#7201a8\"], [0.3333333333333333, \"#9c179e\"], [0.4444444444444444, \"#bd3786\"], [0.5555555555555556, \"#d8576b\"], [0.6666666666666666, \"#ed7953\"], [0.7777777777777778, \"#fb9f3a\"], [0.8888888888888888, \"#fdca26\"], [1.0, \"#f0f921\"]]}, \"colorway\": [\"#636efa\", \"#EF553B\", \"#00cc96\", \"#ab63fa\", \"#FFA15A\", \"#19d3f3\", \"#FF6692\", \"#B6E880\", \"#FF97FF\", \"#FECB52\"], \"font\": {\"color\": \"#2a3f5f\"}, \"geo\": {\"bgcolor\": \"white\", \"lakecolor\": \"white\", \"landcolor\": \"#E5ECF6\", \"showlakes\": true, \"showland\": true, \"subunitcolor\": \"white\"}, \"hoverlabel\": {\"align\": \"left\"}, \"hovermode\": \"closest\", \"mapbox\": {\"style\": \"light\"}, \"paper_bgcolor\": \"white\", \"plot_bgcolor\": \"#E5ECF6\", \"polar\": {\"angularaxis\": {\"gridcolor\": \"white\", \"linecolor\": \"white\", \"ticks\": \"\"}, \"bgcolor\": \"#E5ECF6\", \"radialaxis\": {\"gridcolor\": \"white\", \"linecolor\": \"white\", \"ticks\": \"\"}}, \"scene\": {\"xaxis\": {\"backgroundcolor\": \"#E5ECF6\", \"gridcolor\": \"white\", \"gridwidth\": 2, \"linecolor\": \"white\", \"showbackground\": true, \"ticks\": \"\", \"zerolinecolor\": \"white\"}, \"yaxis\": {\"backgroundcolor\": \"#E5ECF6\", \"gridcolor\": \"white\", \"gridwidth\": 2, \"linecolor\": \"white\", \"showbackground\": true, \"ticks\": \"\", \"zerolinecolor\": \"white\"}, \"zaxis\": {\"backgroundcolor\": \"#E5ECF6\", \"gridcolor\": \"white\", \"gridwidth\": 2, \"linecolor\": \"white\", \"showbackground\": true, \"ticks\": \"\", \"zerolinecolor\": \"white\"}}, \"shapedefaults\": {\"line\": {\"color\": \"#2a3f5f\"}}, \"ternary\": {\"aaxis\": {\"gridcolor\": \"white\", \"linecolor\": \"white\", \"ticks\": \"\"}, \"baxis\": {\"gridcolor\": \"white\", \"linecolor\": \"white\", \"ticks\": \"\"}, \"bgcolor\": \"#E5ECF6\", \"caxis\": {\"gridcolor\": \"white\", \"linecolor\": \"white\", \"ticks\": \"\"}}, \"title\": {\"x\": 0.05}, \"xaxis\": {\"automargin\": true, \"gridcolor\": \"white\", \"linecolor\": \"white\", \"ticks\": \"\", \"title\": {\"standoff\": 15}, \"zerolinecolor\": \"white\", \"zerolinewidth\": 2}, \"yaxis\": {\"automargin\": true, \"gridcolor\": \"white\", \"linecolor\": \"white\", \"ticks\": \"\", \"title\": {\"standoff\": 15}, \"zerolinecolor\": \"white\", \"zerolinewidth\": 2}}}, \"title\": {\"font\": {\"color\": \"#4D5663\"}}, \"xaxis\": {\"gridcolor\": \"#E1E5ED\", \"showgrid\": true, \"tickfont\": {\"color\": \"#4D5663\"}, \"title\": {\"font\": {\"color\": \"#4D5663\"}, \"text\": \"\"}, \"zerolinecolor\": \"#E1E5ED\"}, \"yaxis\": {\"gridcolor\": \"#E1E5ED\", \"showgrid\": true, \"tickfont\": {\"color\": \"#4D5663\"}, \"title\": {\"font\": {\"color\": \"#4D5663\"}, \"text\": \"\"}, \"zerolinecolor\": \"#E1E5ED\"}},\n",
       "                        {\"showLink\": true, \"linkText\": \"Export to plot.ly\", \"plotlyServerURL\": \"https://plot.ly\", \"responsive\": true}\n",
       "                    ).then(function(){\n",
       "                            \n",
       "var gd = document.getElementById('502875a7-c024-420f-846b-b2918b9f4c6c');\n",
       "var x = new MutationObserver(function (mutations, observer) {{\n",
       "        var display = window.getComputedStyle(gd).display;\n",
       "        if (!display || display === 'none') {{\n",
       "            console.log([gd, 'removed!']);\n",
       "            Plotly.purge(gd);\n",
       "            observer.disconnect();\n",
       "        }}\n",
       "}});\n",
       "\n",
       "// Listen for the removal of the full notebook cells\n",
       "var notebookContainer = gd.closest('#notebook-container');\n",
       "if (notebookContainer) {{\n",
       "    x.observe(notebookContainer, {childList: true});\n",
       "}}\n",
       "\n",
       "// Listen for the clearing of the current output cell\n",
       "var outputEl = gd.closest('.output');\n",
       "if (outputEl) {{\n",
       "    x.observe(outputEl, {childList: true});\n",
       "}}\n",
       "\n",
       "                        })\n",
       "                };\n",
       "                });\n",
       "            </script>\n",
       "        </div>"
      ]
     },
     "metadata": {},
     "output_type": "display_data"
    }
   ],
   "source": [
    "df.count().iplot(kind='bar')"
   ]
  },
  {
   "cell_type": "markdown",
   "metadata": {},
   "source": [
    "## Boxplots"
   ]
  },
  {
   "cell_type": "code",
   "execution_count": 26,
   "metadata": {},
   "outputs": [
    {
     "data": {
      "application/vnd.plotly.v1+json": {
       "config": {
        "linkText": "Export to plot.ly",
        "plotlyServerURL": "https://plot.ly",
        "showLink": true
       },
       "data": [
        {
         "boxpoints": false,
         "line": {
          "width": 1.3
         },
         "marker": {
          "color": "rgba(255, 153, 51, 1.0)"
         },
         "name": "A",
         "orientation": "v",
         "type": "box",
         "y": [
          -1.2744560710459063,
          1.0345097557812275,
          -0.0858557957104208,
          0.7124638343680232,
          0.030710780873017502,
          0.25650667540049515,
          1.7769607422853047,
          -1.0243016429890404,
          0.3029030094338463,
          -1.089446128649376,
          0.09697497721610517,
          2.1441270386996076,
          -1.6574342132473536,
          -0.9165115761309744,
          -0.536680001337075,
          -0.28200527723543817,
          1.0759641279862004,
          -0.17321446153127554,
          -0.4244431369077387,
          0.7723997929122726,
          -0.10080433359951892,
          -2.681283932413429,
          -1.8058803573337534,
          0.8202904777903105,
          0.7039436401654917,
          -0.0020254684466850903,
          -2.098664175526965,
          -0.25867702267476395,
          -0.4464367010850101,
          -1.2194781514831203,
          -1.0180882432410192,
          2.05354925741928,
          -0.9734449264572443,
          -1.1437721258427667,
          1.4579135785951245,
          1.8403420203283056,
          0.56912035385227,
          0.6927335046313107,
          -0.21435028161550412,
          0.036420014250634694,
          -1.29701096555679,
          1.1279206813290428,
          -0.01485938165713414,
          0.5093681933524076,
          -1.9209193608786554,
          -0.5100133790573932,
          0.21552669582695919,
          -1.0716840036102773,
          0.6965935262606338,
          -0.7457940216327399,
          0.07240317776732096,
          1.7495748062501302,
          -1.523590434290767,
          1.4560039306295465,
          1.681911164723624,
          1.2092967973555209,
          -0.2760971791881547,
          -1.3024059404726516,
          0.6718060453963691,
          1.3095281413756388,
          -1.2756059973042513,
          1.0698684088390504,
          -0.7944538745943244,
          -0.3506535666949463,
          0.2980662129081344,
          0.3436597316431872,
          0.22255080013377612,
          -0.3449169698928896,
          -0.06138815334441075,
          0.4603149187638036,
          0.9053628101156558,
          -0.8532851382502801,
          0.2362345386792309,
          1.1001990068985208,
          1.391918465907503,
          0.5340066593830533,
          -0.06199299543504126,
          0.5081302744107299,
          -0.2744718366002772,
          -0.08982378428391093,
          0.01510171325448493,
          0.3647256172559018,
          -0.6931227191217474,
          -0.1205694809723414,
          0.38924192668413987,
          -0.16332403166755946,
          0.8575436038628643,
          -0.305983027870405,
          0.9499701521577819,
          -0.7428311713238067,
          -0.18953360575119682,
          -1.3883266638980687,
          -0.16665051082377336,
          -0.822353075951748,
          -0.0521978719533328,
          0.7887933265132842,
          -1.0433745762547268,
          1.2766298949390347,
          -1.1746356359669283,
          -0.051895727779265544
         ]
        },
        {
         "boxpoints": false,
         "line": {
          "width": 1.3
         },
         "marker": {
          "color": "rgba(55, 128, 191, 1.0)"
         },
         "name": "B",
         "orientation": "v",
         "type": "box",
         "y": [
          -0.584807353080615,
          1.4597412123940112,
          1.0837618562828417,
          0.2463496237868239,
          1.451620231418006,
          -2.8278146244458244,
          0.07683512915273868,
          0.5816921310188211,
          0.29841915520339024,
          -1.0145530060239405,
          0.48980776176650714,
          -1.6314312229980366,
          0.8289998730916865,
          -0.14899442735530072,
          0.17650639032583598,
          0.7493758117833842,
          -1.151979730319025,
          0.46791339735905235,
          0.728322128325888,
          -1.1226644059328885,
          -0.8912456853085504,
          -0.4861512085857235,
          -0.3813518183673126,
          0.01419876602325207,
          1.2833191623353555,
          1.6643247283400167,
          0.35401868473424963,
          -0.2836155179807977,
          0.28641942424345085,
          1.2486829731550069,
          -0.464825339815991,
          -0.06785704156018067,
          0.6987855288616254,
          0.9440192129745769,
          -0.017355463733385396,
          -0.8157858549030684,
          0.3947306442903761,
          0.8555282913907285,
          2.150655837092729,
          -0.8611370788271434,
          0.36250799471176726,
          0.2710168667158374,
          -0.9568543233244796,
          0.3058490189538469,
          1.0904596840082081,
          1.4265772823410479,
          -0.0056924529564067235,
          1.6484820755542586,
          -2.168710068705485,
          1.308133038865942,
          0.19682815745115395,
          0.7318750370210076,
          0.2637847882778685,
          -2.115757561025143,
          -1.2286768969286335,
          -0.39698639335434627,
          1.7722927989246136,
          -1.5802242839997072,
          -0.8639682374380696,
          -0.21199659980785107,
          -0.9961806716840438,
          -0.7640410842182492,
          -1.2512943633704592,
          0.30858207106264673,
          -2.211425125646569,
          -0.5228061908893123,
          0.5564628525889065,
          0.6540466044871721,
          0.1698041798048904,
          0.6515574550034816,
          -0.9027198875356434,
          0.13386959092097572,
          -1.65286993252949,
          0.23924370314710705,
          1.07440124431865,
          -0.021918371125034045,
          -0.9341823639842277,
          -0.9308760063916482,
          -1.3647676569495486,
          1.8339210751533754,
          -0.562520996515998,
          -0.8187596224412631,
          1.2984279681261266,
          0.1251797636210204,
          0.9731915045229532,
          -1.1035549215449503,
          -0.13758309693287465,
          0.34980976147201126,
          -1.0184171353342997,
          0.11885721684491302,
          1.8864257612107787,
          -0.8144061562154692,
          0.28844260704290137,
          -0.32147004594162,
          2.3108748414316445,
          0.062193329932923626,
          -0.6865889145654146,
          -0.5435564150635714,
          0.33158708601636644,
          0.43189823861701937
         ]
        },
        {
         "boxpoints": false,
         "line": {
          "width": 1.3
         },
         "marker": {
          "color": "rgba(50, 171, 96, 1.0)"
         },
         "name": "C",
         "orientation": "v",
         "type": "box",
         "y": [
          -1.240307785287747,
          -1.0592377040695127,
          0.6109046185274852,
          -0.16550760980885362,
          -0.3228527990616881,
          0.08066519594948054,
          -1.2764040080652417,
          -0.3679626768716553,
          1.3046718147169527,
          -0.29292282160082594,
          -0.3551602564192244,
          0.3789170036778755,
          -0.08361939620030061,
          2.9059355006786602,
          -0.5909577021490247,
          -0.527520345613064,
          -0.9264062938490181,
          0.7820149969292491,
          0.6291951618215661,
          0.9239666508159785,
          0.44050811801190515,
          1.461152742222255,
          0.030516625000191363,
          -1.2026046835857582,
          -0.24184070054288365,
          -0.3236093020842835,
          -0.9379319979672098,
          0.6415627288778478,
          0.006455976680376598,
          1.717444437752154,
          -0.6851415835727485,
          -0.8196580660931778,
          0.2036630981888762,
          -1.2107831537448996,
          0.9331582500961905,
          -1.3287013173293967,
          0.7248748283114085,
          -0.5838375615845571,
          -0.6439179654657295,
          -1.047691094873206,
          0.16232258538237251,
          0.9723544417219333,
          1.1874403899873516,
          -0.24415546011066225,
          -0.6231059672149817,
          1.5568111078726652,
          -0.8468292972924449,
          -0.537094798355234,
          0.5622320779049165,
          -0.918855170476005,
          2.3416774021192923,
          -0.689221804343484,
          -1.0811914874842998,
          0.001224475967085318,
          1.2564655969205643,
          -0.8417317653744487,
          -2.3589314249559994,
          0.3724832477064757,
          0.22954459441932534,
          1.4098608962430648,
          -1.6896282217841412,
          -0.7491095083463107,
          -0.6044434028828615,
          -0.6115025313511884,
          -1.874852823430504,
          -0.17895469685730958,
          -1.2549540280014102,
          -0.3048936993716909,
          -1.2282111868038696,
          1.6435354446995643,
          1.0776268900371304,
          -1.2800911885306336,
          0.5244775472670681,
          -0.4500745197527381,
          0.7690053165582995,
          0.5383183323373143,
          -0.5873289960873354,
          -1.0511778396871645,
          0.05629390595776761,
          -0.40087749336739054,
          1.0617632352373725,
          0.8548380107209818,
          -0.5133672284978825,
          -0.5829650593463378,
          -0.25813016662485655,
          0.6291346243724727,
          0.5843697929712603,
          1.5599172532315604,
          0.13531656775933595,
          -0.30229530415331746,
          1.0942031756804602,
          1.1587339324681099,
          1.0037339710010174,
          -0.8167216789062951,
          0.692353916679788,
          -1.1143852392131928,
          -0.128354600213313,
          0.8294383638053547,
          1.5869082789710753,
          1.3098833368940273
         ]
        },
        {
         "boxpoints": false,
         "line": {
          "width": 1.3
         },
         "marker": {
          "color": "rgba(128, 0, 128, 1.0)"
         },
         "name": "D",
         "orientation": "v",
         "type": "box",
         "y": [
          0.4152755040438139,
          -0.27634392509750527,
          -1.5321623985774833,
          -0.9173048975542633,
          2.4204361532430814,
          -0.11985190463461323,
          1.6897750418601178,
          -0.8477143436933986,
          -0.09253019733353299,
          0.47219329415431965,
          0.5194692935940433,
          -0.4848226421993901,
          1.3805448897969543,
          -1.5321758941760335,
          2.0330320227761587,
          0.07405864178121566,
          -0.6620695079649842,
          -0.3041016411471905,
          0.5185676367243995,
          1.6910768157241642,
          -0.8350640362334304,
          0.430877679509539,
          -0.9157338391575819,
          0.18939433125286473,
          -2.027803196067521,
          0.46512783870642166,
          -0.2162478922447763,
          0.06270417738995615,
          0.38984008235169304,
          0.21708021391316093,
          -0.05562650903656193,
          0.6109964100808576,
          -0.5599486848631676,
          0.1807805925435232,
          -1.4703521420908463,
          -0.26547174795733985,
          0.45842615826724203,
          0.772855296293493,
          -0.046180568870704694,
          1.7194962466756318,
          -2.500642373656234,
          -1.0398019916244612,
          -0.19898681282389755,
          0.021305705091434243,
          0.3435793402262841,
          0.5587306162041107,
          0.16561525388436266,
          -0.49974838957710516,
          -1.0556551268602676,
          1.2790731113141418,
          0.9870306253918562,
          -2.141610615669726,
          -0.4494616841675336,
          -0.019349072461305936,
          -0.5305478291224954,
          -1.3752050943505454,
          0.06304051567627958,
          -1.933713010285777,
          0.11059363373218938,
          1.0598384301843085,
          -0.1721534602745553,
          -0.3314822253892215,
          -1.2684836300470783,
          -0.763183857020664,
          2.2006629802495694,
          -0.8493980074908672,
          -0.33412054880137626,
          0.7930363209555827,
          -0.16015637077410186,
          0.5345267043791098,
          0.03246414184987365,
          -1.1648060074222653,
          0.1740423283708772,
          -0.6053214815696366,
          1.1286333060619946,
          0.5375993731064979,
          0.3123041826622117,
          -1.8716003968346304,
          1.4954855661998512,
          1.0417687810114025,
          0.9744653144542357,
          0.7035725006634255,
          -0.9564510093821312,
          -0.6313151544385167,
          -0.2270560574612759,
          1.5472852972408413,
          0.8626717954307725,
          -0.3841077063985304,
          0.046274122292059905,
          -0.5127039852803492,
          0.18969881955094364,
          1.1261691041466904,
          -0.7502546897266492,
          -0.3345991798505036,
          -1.7626044310949605,
          1.5332000388700355,
          1.0441842426369266,
          -0.8670022115987098,
          0.5376175541013832,
          0.15883269556031526
         ]
        }
       ],
       "layout": {
        "legend": {
         "bgcolor": "#F5F6F9",
         "font": {
          "color": "#4D5663"
         }
        },
        "paper_bgcolor": "#F5F6F9",
        "plot_bgcolor": "#F5F6F9",
        "template": {
         "data": {
          "bar": [
           {
            "error_x": {
             "color": "#2a3f5f"
            },
            "error_y": {
             "color": "#2a3f5f"
            },
            "marker": {
             "line": {
              "color": "#E5ECF6",
              "width": 0.5
             }
            },
            "type": "bar"
           }
          ],
          "barpolar": [
           {
            "marker": {
             "line": {
              "color": "#E5ECF6",
              "width": 0.5
             }
            },
            "type": "barpolar"
           }
          ],
          "carpet": [
           {
            "aaxis": {
             "endlinecolor": "#2a3f5f",
             "gridcolor": "white",
             "linecolor": "white",
             "minorgridcolor": "white",
             "startlinecolor": "#2a3f5f"
            },
            "baxis": {
             "endlinecolor": "#2a3f5f",
             "gridcolor": "white",
             "linecolor": "white",
             "minorgridcolor": "white",
             "startlinecolor": "#2a3f5f"
            },
            "type": "carpet"
           }
          ],
          "choropleth": [
           {
            "colorbar": {
             "outlinewidth": 0,
             "ticks": ""
            },
            "type": "choropleth"
           }
          ],
          "contour": [
           {
            "colorbar": {
             "outlinewidth": 0,
             "ticks": ""
            },
            "colorscale": [
             [
              0,
              "#0d0887"
             ],
             [
              0.1111111111111111,
              "#46039f"
             ],
             [
              0.2222222222222222,
              "#7201a8"
             ],
             [
              0.3333333333333333,
              "#9c179e"
             ],
             [
              0.4444444444444444,
              "#bd3786"
             ],
             [
              0.5555555555555556,
              "#d8576b"
             ],
             [
              0.6666666666666666,
              "#ed7953"
             ],
             [
              0.7777777777777778,
              "#fb9f3a"
             ],
             [
              0.8888888888888888,
              "#fdca26"
             ],
             [
              1,
              "#f0f921"
             ]
            ],
            "type": "contour"
           }
          ],
          "contourcarpet": [
           {
            "colorbar": {
             "outlinewidth": 0,
             "ticks": ""
            },
            "type": "contourcarpet"
           }
          ],
          "heatmap": [
           {
            "colorbar": {
             "outlinewidth": 0,
             "ticks": ""
            },
            "colorscale": [
             [
              0,
              "#0d0887"
             ],
             [
              0.1111111111111111,
              "#46039f"
             ],
             [
              0.2222222222222222,
              "#7201a8"
             ],
             [
              0.3333333333333333,
              "#9c179e"
             ],
             [
              0.4444444444444444,
              "#bd3786"
             ],
             [
              0.5555555555555556,
              "#d8576b"
             ],
             [
              0.6666666666666666,
              "#ed7953"
             ],
             [
              0.7777777777777778,
              "#fb9f3a"
             ],
             [
              0.8888888888888888,
              "#fdca26"
             ],
             [
              1,
              "#f0f921"
             ]
            ],
            "type": "heatmap"
           }
          ],
          "heatmapgl": [
           {
            "colorbar": {
             "outlinewidth": 0,
             "ticks": ""
            },
            "colorscale": [
             [
              0,
              "#0d0887"
             ],
             [
              0.1111111111111111,
              "#46039f"
             ],
             [
              0.2222222222222222,
              "#7201a8"
             ],
             [
              0.3333333333333333,
              "#9c179e"
             ],
             [
              0.4444444444444444,
              "#bd3786"
             ],
             [
              0.5555555555555556,
              "#d8576b"
             ],
             [
              0.6666666666666666,
              "#ed7953"
             ],
             [
              0.7777777777777778,
              "#fb9f3a"
             ],
             [
              0.8888888888888888,
              "#fdca26"
             ],
             [
              1,
              "#f0f921"
             ]
            ],
            "type": "heatmapgl"
           }
          ],
          "histogram": [
           {
            "marker": {
             "colorbar": {
              "outlinewidth": 0,
              "ticks": ""
             }
            },
            "type": "histogram"
           }
          ],
          "histogram2d": [
           {
            "colorbar": {
             "outlinewidth": 0,
             "ticks": ""
            },
            "colorscale": [
             [
              0,
              "#0d0887"
             ],
             [
              0.1111111111111111,
              "#46039f"
             ],
             [
              0.2222222222222222,
              "#7201a8"
             ],
             [
              0.3333333333333333,
              "#9c179e"
             ],
             [
              0.4444444444444444,
              "#bd3786"
             ],
             [
              0.5555555555555556,
              "#d8576b"
             ],
             [
              0.6666666666666666,
              "#ed7953"
             ],
             [
              0.7777777777777778,
              "#fb9f3a"
             ],
             [
              0.8888888888888888,
              "#fdca26"
             ],
             [
              1,
              "#f0f921"
             ]
            ],
            "type": "histogram2d"
           }
          ],
          "histogram2dcontour": [
           {
            "colorbar": {
             "outlinewidth": 0,
             "ticks": ""
            },
            "colorscale": [
             [
              0,
              "#0d0887"
             ],
             [
              0.1111111111111111,
              "#46039f"
             ],
             [
              0.2222222222222222,
              "#7201a8"
             ],
             [
              0.3333333333333333,
              "#9c179e"
             ],
             [
              0.4444444444444444,
              "#bd3786"
             ],
             [
              0.5555555555555556,
              "#d8576b"
             ],
             [
              0.6666666666666666,
              "#ed7953"
             ],
             [
              0.7777777777777778,
              "#fb9f3a"
             ],
             [
              0.8888888888888888,
              "#fdca26"
             ],
             [
              1,
              "#f0f921"
             ]
            ],
            "type": "histogram2dcontour"
           }
          ],
          "mesh3d": [
           {
            "colorbar": {
             "outlinewidth": 0,
             "ticks": ""
            },
            "type": "mesh3d"
           }
          ],
          "parcoords": [
           {
            "line": {
             "colorbar": {
              "outlinewidth": 0,
              "ticks": ""
             }
            },
            "type": "parcoords"
           }
          ],
          "pie": [
           {
            "automargin": true,
            "type": "pie"
           }
          ],
          "scatter": [
           {
            "marker": {
             "colorbar": {
              "outlinewidth": 0,
              "ticks": ""
             }
            },
            "type": "scatter"
           }
          ],
          "scatter3d": [
           {
            "line": {
             "colorbar": {
              "outlinewidth": 0,
              "ticks": ""
             }
            },
            "marker": {
             "colorbar": {
              "outlinewidth": 0,
              "ticks": ""
             }
            },
            "type": "scatter3d"
           }
          ],
          "scattercarpet": [
           {
            "marker": {
             "colorbar": {
              "outlinewidth": 0,
              "ticks": ""
             }
            },
            "type": "scattercarpet"
           }
          ],
          "scattergeo": [
           {
            "marker": {
             "colorbar": {
              "outlinewidth": 0,
              "ticks": ""
             }
            },
            "type": "scattergeo"
           }
          ],
          "scattergl": [
           {
            "marker": {
             "colorbar": {
              "outlinewidth": 0,
              "ticks": ""
             }
            },
            "type": "scattergl"
           }
          ],
          "scattermapbox": [
           {
            "marker": {
             "colorbar": {
              "outlinewidth": 0,
              "ticks": ""
             }
            },
            "type": "scattermapbox"
           }
          ],
          "scatterpolar": [
           {
            "marker": {
             "colorbar": {
              "outlinewidth": 0,
              "ticks": ""
             }
            },
            "type": "scatterpolar"
           }
          ],
          "scatterpolargl": [
           {
            "marker": {
             "colorbar": {
              "outlinewidth": 0,
              "ticks": ""
             }
            },
            "type": "scatterpolargl"
           }
          ],
          "scatterternary": [
           {
            "marker": {
             "colorbar": {
              "outlinewidth": 0,
              "ticks": ""
             }
            },
            "type": "scatterternary"
           }
          ],
          "surface": [
           {
            "colorbar": {
             "outlinewidth": 0,
             "ticks": ""
            },
            "colorscale": [
             [
              0,
              "#0d0887"
             ],
             [
              0.1111111111111111,
              "#46039f"
             ],
             [
              0.2222222222222222,
              "#7201a8"
             ],
             [
              0.3333333333333333,
              "#9c179e"
             ],
             [
              0.4444444444444444,
              "#bd3786"
             ],
             [
              0.5555555555555556,
              "#d8576b"
             ],
             [
              0.6666666666666666,
              "#ed7953"
             ],
             [
              0.7777777777777778,
              "#fb9f3a"
             ],
             [
              0.8888888888888888,
              "#fdca26"
             ],
             [
              1,
              "#f0f921"
             ]
            ],
            "type": "surface"
           }
          ],
          "table": [
           {
            "cells": {
             "fill": {
              "color": "#EBF0F8"
             },
             "line": {
              "color": "white"
             }
            },
            "header": {
             "fill": {
              "color": "#C8D4E3"
             },
             "line": {
              "color": "white"
             }
            },
            "type": "table"
           }
          ]
         },
         "layout": {
          "annotationdefaults": {
           "arrowcolor": "#2a3f5f",
           "arrowhead": 0,
           "arrowwidth": 1
          },
          "coloraxis": {
           "colorbar": {
            "outlinewidth": 0,
            "ticks": ""
           }
          },
          "colorscale": {
           "diverging": [
            [
             0,
             "#8e0152"
            ],
            [
             0.1,
             "#c51b7d"
            ],
            [
             0.2,
             "#de77ae"
            ],
            [
             0.3,
             "#f1b6da"
            ],
            [
             0.4,
             "#fde0ef"
            ],
            [
             0.5,
             "#f7f7f7"
            ],
            [
             0.6,
             "#e6f5d0"
            ],
            [
             0.7,
             "#b8e186"
            ],
            [
             0.8,
             "#7fbc41"
            ],
            [
             0.9,
             "#4d9221"
            ],
            [
             1,
             "#276419"
            ]
           ],
           "sequential": [
            [
             0,
             "#0d0887"
            ],
            [
             0.1111111111111111,
             "#46039f"
            ],
            [
             0.2222222222222222,
             "#7201a8"
            ],
            [
             0.3333333333333333,
             "#9c179e"
            ],
            [
             0.4444444444444444,
             "#bd3786"
            ],
            [
             0.5555555555555556,
             "#d8576b"
            ],
            [
             0.6666666666666666,
             "#ed7953"
            ],
            [
             0.7777777777777778,
             "#fb9f3a"
            ],
            [
             0.8888888888888888,
             "#fdca26"
            ],
            [
             1,
             "#f0f921"
            ]
           ],
           "sequentialminus": [
            [
             0,
             "#0d0887"
            ],
            [
             0.1111111111111111,
             "#46039f"
            ],
            [
             0.2222222222222222,
             "#7201a8"
            ],
            [
             0.3333333333333333,
             "#9c179e"
            ],
            [
             0.4444444444444444,
             "#bd3786"
            ],
            [
             0.5555555555555556,
             "#d8576b"
            ],
            [
             0.6666666666666666,
             "#ed7953"
            ],
            [
             0.7777777777777778,
             "#fb9f3a"
            ],
            [
             0.8888888888888888,
             "#fdca26"
            ],
            [
             1,
             "#f0f921"
            ]
           ]
          },
          "colorway": [
           "#636efa",
           "#EF553B",
           "#00cc96",
           "#ab63fa",
           "#FFA15A",
           "#19d3f3",
           "#FF6692",
           "#B6E880",
           "#FF97FF",
           "#FECB52"
          ],
          "font": {
           "color": "#2a3f5f"
          },
          "geo": {
           "bgcolor": "white",
           "lakecolor": "white",
           "landcolor": "#E5ECF6",
           "showlakes": true,
           "showland": true,
           "subunitcolor": "white"
          },
          "hoverlabel": {
           "align": "left"
          },
          "hovermode": "closest",
          "mapbox": {
           "style": "light"
          },
          "paper_bgcolor": "white",
          "plot_bgcolor": "#E5ECF6",
          "polar": {
           "angularaxis": {
            "gridcolor": "white",
            "linecolor": "white",
            "ticks": ""
           },
           "bgcolor": "#E5ECF6",
           "radialaxis": {
            "gridcolor": "white",
            "linecolor": "white",
            "ticks": ""
           }
          },
          "scene": {
           "xaxis": {
            "backgroundcolor": "#E5ECF6",
            "gridcolor": "white",
            "gridwidth": 2,
            "linecolor": "white",
            "showbackground": true,
            "ticks": "",
            "zerolinecolor": "white"
           },
           "yaxis": {
            "backgroundcolor": "#E5ECF6",
            "gridcolor": "white",
            "gridwidth": 2,
            "linecolor": "white",
            "showbackground": true,
            "ticks": "",
            "zerolinecolor": "white"
           },
           "zaxis": {
            "backgroundcolor": "#E5ECF6",
            "gridcolor": "white",
            "gridwidth": 2,
            "linecolor": "white",
            "showbackground": true,
            "ticks": "",
            "zerolinecolor": "white"
           }
          },
          "shapedefaults": {
           "line": {
            "color": "#2a3f5f"
           }
          },
          "ternary": {
           "aaxis": {
            "gridcolor": "white",
            "linecolor": "white",
            "ticks": ""
           },
           "baxis": {
            "gridcolor": "white",
            "linecolor": "white",
            "ticks": ""
           },
           "bgcolor": "#E5ECF6",
           "caxis": {
            "gridcolor": "white",
            "linecolor": "white",
            "ticks": ""
           }
          },
          "title": {
           "x": 0.05
          },
          "xaxis": {
           "automargin": true,
           "gridcolor": "white",
           "linecolor": "white",
           "ticks": "",
           "title": {
            "standoff": 15
           },
           "zerolinecolor": "white",
           "zerolinewidth": 2
          },
          "yaxis": {
           "automargin": true,
           "gridcolor": "white",
           "linecolor": "white",
           "ticks": "",
           "title": {
            "standoff": 15
           },
           "zerolinecolor": "white",
           "zerolinewidth": 2
          }
         }
        },
        "title": {
         "font": {
          "color": "#4D5663"
         }
        },
        "xaxis": {
         "gridcolor": "#E1E5ED",
         "showgrid": true,
         "tickfont": {
          "color": "#4D5663"
         },
         "title": {
          "font": {
           "color": "#4D5663"
          },
          "text": ""
         },
         "zerolinecolor": "#E1E5ED"
        },
        "yaxis": {
         "gridcolor": "#E1E5ED",
         "showgrid": true,
         "tickfont": {
          "color": "#4D5663"
         },
         "title": {
          "font": {
           "color": "#4D5663"
          },
          "text": ""
         },
         "zerolinecolor": "#E1E5ED"
        }
       }
      },
      "text/html": [
       "<div>\n",
       "        \n",
       "        \n",
       "            <div id=\"572855a3-d981-4a54-8548-31c176757235\" class=\"plotly-graph-div\" style=\"height:525px; width:100%;\"></div>\n",
       "            <script type=\"text/javascript\">\n",
       "                require([\"plotly\"], function(Plotly) {\n",
       "                    window.PLOTLYENV=window.PLOTLYENV || {};\n",
       "                    window.PLOTLYENV.BASE_URL='https://plot.ly';\n",
       "                    \n",
       "                if (document.getElementById(\"572855a3-d981-4a54-8548-31c176757235\")) {\n",
       "                    Plotly.newPlot(\n",
       "                        '572855a3-d981-4a54-8548-31c176757235',\n",
       "                        [{\"boxpoints\": false, \"line\": {\"width\": 1.3}, \"marker\": {\"color\": \"rgba(255, 153, 51, 1.0)\"}, \"name\": \"A\", \"orientation\": \"v\", \"type\": \"box\", \"y\": [-1.2744560710459063, 1.0345097557812275, -0.0858557957104208, 0.7124638343680232, 0.030710780873017502, 0.25650667540049515, 1.7769607422853047, -1.0243016429890404, 0.3029030094338463, -1.089446128649376, 0.09697497721610517, 2.1441270386996076, -1.6574342132473536, -0.9165115761309744, -0.536680001337075, -0.28200527723543817, 1.0759641279862004, -0.17321446153127554, -0.4244431369077387, 0.7723997929122726, -0.10080433359951892, -2.681283932413429, -1.8058803573337534, 0.8202904777903105, 0.7039436401654917, -0.0020254684466850903, -2.098664175526965, -0.25867702267476395, -0.4464367010850101, -1.2194781514831203, -1.0180882432410192, 2.05354925741928, -0.9734449264572443, -1.1437721258427667, 1.4579135785951245, 1.8403420203283056, 0.56912035385227, 0.6927335046313107, -0.21435028161550412, 0.036420014250634694, -1.29701096555679, 1.1279206813290428, -0.01485938165713414, 0.5093681933524076, -1.9209193608786554, -0.5100133790573932, 0.21552669582695919, -1.0716840036102773, 0.6965935262606338, -0.7457940216327399, 0.07240317776732096, 1.7495748062501302, -1.523590434290767, 1.4560039306295465, 1.681911164723624, 1.2092967973555209, -0.2760971791881547, -1.3024059404726516, 0.6718060453963691, 1.3095281413756388, -1.2756059973042513, 1.0698684088390504, -0.7944538745943244, -0.3506535666949463, 0.2980662129081344, 0.3436597316431872, 0.22255080013377612, -0.3449169698928896, -0.06138815334441075, 0.4603149187638036, 0.9053628101156558, -0.8532851382502801, 0.2362345386792309, 1.1001990068985208, 1.391918465907503, 0.5340066593830533, -0.06199299543504126, 0.5081302744107299, -0.2744718366002772, -0.08982378428391093, 0.01510171325448493, 0.3647256172559018, -0.6931227191217474, -0.1205694809723414, 0.38924192668413987, -0.16332403166755946, 0.8575436038628643, -0.305983027870405, 0.9499701521577819, -0.7428311713238067, -0.18953360575119682, -1.3883266638980687, -0.16665051082377336, -0.822353075951748, -0.0521978719533328, 0.7887933265132842, -1.0433745762547268, 1.2766298949390347, -1.1746356359669283, -0.051895727779265544]}, {\"boxpoints\": false, \"line\": {\"width\": 1.3}, \"marker\": {\"color\": \"rgba(55, 128, 191, 1.0)\"}, \"name\": \"B\", \"orientation\": \"v\", \"type\": \"box\", \"y\": [-0.584807353080615, 1.4597412123940112, 1.0837618562828417, 0.2463496237868239, 1.451620231418006, -2.8278146244458244, 0.07683512915273868, 0.5816921310188211, 0.29841915520339024, -1.0145530060239405, 0.48980776176650714, -1.6314312229980366, 0.8289998730916865, -0.14899442735530072, 0.17650639032583598, 0.7493758117833842, -1.151979730319025, 0.46791339735905235, 0.728322128325888, -1.1226644059328885, -0.8912456853085504, -0.4861512085857235, -0.3813518183673126, 0.01419876602325207, 1.2833191623353555, 1.6643247283400167, 0.35401868473424963, -0.2836155179807977, 0.28641942424345085, 1.2486829731550069, -0.464825339815991, -0.06785704156018067, 0.6987855288616254, 0.9440192129745769, -0.017355463733385396, -0.8157858549030684, 0.3947306442903761, 0.8555282913907285, 2.150655837092729, -0.8611370788271434, 0.36250799471176726, 0.2710168667158374, -0.9568543233244796, 0.3058490189538469, 1.0904596840082081, 1.4265772823410479, -0.0056924529564067235, 1.6484820755542586, -2.168710068705485, 1.308133038865942, 0.19682815745115395, 0.7318750370210076, 0.2637847882778685, -2.115757561025143, -1.2286768969286335, -0.39698639335434627, 1.7722927989246136, -1.5802242839997072, -0.8639682374380696, -0.21199659980785107, -0.9961806716840438, -0.7640410842182492, -1.2512943633704592, 0.30858207106264673, -2.211425125646569, -0.5228061908893123, 0.5564628525889065, 0.6540466044871721, 0.1698041798048904, 0.6515574550034816, -0.9027198875356434, 0.13386959092097572, -1.65286993252949, 0.23924370314710705, 1.07440124431865, -0.021918371125034045, -0.9341823639842277, -0.9308760063916482, -1.3647676569495486, 1.8339210751533754, -0.562520996515998, -0.8187596224412631, 1.2984279681261266, 0.1251797636210204, 0.9731915045229532, -1.1035549215449503, -0.13758309693287465, 0.34980976147201126, -1.0184171353342997, 0.11885721684491302, 1.8864257612107787, -0.8144061562154692, 0.28844260704290137, -0.32147004594162, 2.3108748414316445, 0.062193329932923626, -0.6865889145654146, -0.5435564150635714, 0.33158708601636644, 0.43189823861701937]}, {\"boxpoints\": false, \"line\": {\"width\": 1.3}, \"marker\": {\"color\": \"rgba(50, 171, 96, 1.0)\"}, \"name\": \"C\", \"orientation\": \"v\", \"type\": \"box\", \"y\": [-1.240307785287747, -1.0592377040695127, 0.6109046185274852, -0.16550760980885362, -0.3228527990616881, 0.08066519594948054, -1.2764040080652417, -0.3679626768716553, 1.3046718147169527, -0.29292282160082594, -0.3551602564192244, 0.3789170036778755, -0.08361939620030061, 2.9059355006786602, -0.5909577021490247, -0.527520345613064, -0.9264062938490181, 0.7820149969292491, 0.6291951618215661, 0.9239666508159785, 0.44050811801190515, 1.461152742222255, 0.030516625000191363, -1.2026046835857582, -0.24184070054288365, -0.3236093020842835, -0.9379319979672098, 0.6415627288778478, 0.006455976680376598, 1.717444437752154, -0.6851415835727485, -0.8196580660931778, 0.2036630981888762, -1.2107831537448996, 0.9331582500961905, -1.3287013173293967, 0.7248748283114085, -0.5838375615845571, -0.6439179654657295, -1.047691094873206, 0.16232258538237251, 0.9723544417219333, 1.1874403899873516, -0.24415546011066225, -0.6231059672149817, 1.5568111078726652, -0.8468292972924449, -0.537094798355234, 0.5622320779049165, -0.918855170476005, 2.3416774021192923, -0.689221804343484, -1.0811914874842998, 0.001224475967085318, 1.2564655969205643, -0.8417317653744487, -2.3589314249559994, 0.3724832477064757, 0.22954459441932534, 1.4098608962430648, -1.6896282217841412, -0.7491095083463107, -0.6044434028828615, -0.6115025313511884, -1.874852823430504, -0.17895469685730958, -1.2549540280014102, -0.3048936993716909, -1.2282111868038696, 1.6435354446995643, 1.0776268900371304, -1.2800911885306336, 0.5244775472670681, -0.4500745197527381, 0.7690053165582995, 0.5383183323373143, -0.5873289960873354, -1.0511778396871645, 0.05629390595776761, -0.40087749336739054, 1.0617632352373725, 0.8548380107209818, -0.5133672284978825, -0.5829650593463378, -0.25813016662485655, 0.6291346243724727, 0.5843697929712603, 1.5599172532315604, 0.13531656775933595, -0.30229530415331746, 1.0942031756804602, 1.1587339324681099, 1.0037339710010174, -0.8167216789062951, 0.692353916679788, -1.1143852392131928, -0.128354600213313, 0.8294383638053547, 1.5869082789710753, 1.3098833368940273]}, {\"boxpoints\": false, \"line\": {\"width\": 1.3}, \"marker\": {\"color\": \"rgba(128, 0, 128, 1.0)\"}, \"name\": \"D\", \"orientation\": \"v\", \"type\": \"box\", \"y\": [0.4152755040438139, -0.27634392509750527, -1.5321623985774833, -0.9173048975542633, 2.4204361532430814, -0.11985190463461323, 1.6897750418601178, -0.8477143436933986, -0.09253019733353299, 0.47219329415431965, 0.5194692935940433, -0.4848226421993901, 1.3805448897969543, -1.5321758941760335, 2.0330320227761587, 0.07405864178121566, -0.6620695079649842, -0.3041016411471905, 0.5185676367243995, 1.6910768157241642, -0.8350640362334304, 0.430877679509539, -0.9157338391575819, 0.18939433125286473, -2.027803196067521, 0.46512783870642166, -0.2162478922447763, 0.06270417738995615, 0.38984008235169304, 0.21708021391316093, -0.05562650903656193, 0.6109964100808576, -0.5599486848631676, 0.1807805925435232, -1.4703521420908463, -0.26547174795733985, 0.45842615826724203, 0.772855296293493, -0.046180568870704694, 1.7194962466756318, -2.500642373656234, -1.0398019916244612, -0.19898681282389755, 0.021305705091434243, 0.3435793402262841, 0.5587306162041107, 0.16561525388436266, -0.49974838957710516, -1.0556551268602676, 1.2790731113141418, 0.9870306253918562, -2.141610615669726, -0.4494616841675336, -0.019349072461305936, -0.5305478291224954, -1.3752050943505454, 0.06304051567627958, -1.933713010285777, 0.11059363373218938, 1.0598384301843085, -0.1721534602745553, -0.3314822253892215, -1.2684836300470783, -0.763183857020664, 2.2006629802495694, -0.8493980074908672, -0.33412054880137626, 0.7930363209555827, -0.16015637077410186, 0.5345267043791098, 0.03246414184987365, -1.1648060074222653, 0.1740423283708772, -0.6053214815696366, 1.1286333060619946, 0.5375993731064979, 0.3123041826622117, -1.8716003968346304, 1.4954855661998512, 1.0417687810114025, 0.9744653144542357, 0.7035725006634255, -0.9564510093821312, -0.6313151544385167, -0.2270560574612759, 1.5472852972408413, 0.8626717954307725, -0.3841077063985304, 0.046274122292059905, -0.5127039852803492, 0.18969881955094364, 1.1261691041466904, -0.7502546897266492, -0.3345991798505036, -1.7626044310949605, 1.5332000388700355, 1.0441842426369266, -0.8670022115987098, 0.5376175541013832, 0.15883269556031526]}],\n",
       "                        {\"legend\": {\"bgcolor\": \"#F5F6F9\", \"font\": {\"color\": \"#4D5663\"}}, \"paper_bgcolor\": \"#F5F6F9\", \"plot_bgcolor\": \"#F5F6F9\", \"template\": {\"data\": {\"bar\": [{\"error_x\": {\"color\": \"#2a3f5f\"}, \"error_y\": {\"color\": \"#2a3f5f\"}, \"marker\": {\"line\": {\"color\": \"#E5ECF6\", \"width\": 0.5}}, \"type\": \"bar\"}], \"barpolar\": [{\"marker\": {\"line\": {\"color\": \"#E5ECF6\", \"width\": 0.5}}, \"type\": \"barpolar\"}], \"carpet\": [{\"aaxis\": {\"endlinecolor\": \"#2a3f5f\", \"gridcolor\": \"white\", \"linecolor\": \"white\", \"minorgridcolor\": \"white\", \"startlinecolor\": \"#2a3f5f\"}, \"baxis\": {\"endlinecolor\": \"#2a3f5f\", \"gridcolor\": \"white\", \"linecolor\": \"white\", \"minorgridcolor\": \"white\", \"startlinecolor\": \"#2a3f5f\"}, \"type\": \"carpet\"}], \"choropleth\": [{\"colorbar\": {\"outlinewidth\": 0, \"ticks\": \"\"}, \"type\": \"choropleth\"}], \"contour\": [{\"colorbar\": {\"outlinewidth\": 0, \"ticks\": \"\"}, \"colorscale\": [[0.0, \"#0d0887\"], [0.1111111111111111, \"#46039f\"], [0.2222222222222222, \"#7201a8\"], [0.3333333333333333, \"#9c179e\"], [0.4444444444444444, \"#bd3786\"], [0.5555555555555556, \"#d8576b\"], [0.6666666666666666, \"#ed7953\"], [0.7777777777777778, \"#fb9f3a\"], [0.8888888888888888, \"#fdca26\"], [1.0, \"#f0f921\"]], \"type\": \"contour\"}], \"contourcarpet\": [{\"colorbar\": {\"outlinewidth\": 0, \"ticks\": \"\"}, \"type\": \"contourcarpet\"}], \"heatmap\": [{\"colorbar\": {\"outlinewidth\": 0, \"ticks\": \"\"}, \"colorscale\": [[0.0, \"#0d0887\"], [0.1111111111111111, \"#46039f\"], [0.2222222222222222, \"#7201a8\"], [0.3333333333333333, \"#9c179e\"], [0.4444444444444444, \"#bd3786\"], [0.5555555555555556, \"#d8576b\"], [0.6666666666666666, \"#ed7953\"], [0.7777777777777778, \"#fb9f3a\"], [0.8888888888888888, \"#fdca26\"], [1.0, \"#f0f921\"]], \"type\": \"heatmap\"}], \"heatmapgl\": [{\"colorbar\": {\"outlinewidth\": 0, \"ticks\": \"\"}, \"colorscale\": [[0.0, \"#0d0887\"], [0.1111111111111111, \"#46039f\"], [0.2222222222222222, \"#7201a8\"], [0.3333333333333333, \"#9c179e\"], [0.4444444444444444, \"#bd3786\"], [0.5555555555555556, \"#d8576b\"], [0.6666666666666666, \"#ed7953\"], [0.7777777777777778, \"#fb9f3a\"], [0.8888888888888888, \"#fdca26\"], [1.0, \"#f0f921\"]], \"type\": \"heatmapgl\"}], \"histogram\": [{\"marker\": {\"colorbar\": {\"outlinewidth\": 0, \"ticks\": \"\"}}, \"type\": \"histogram\"}], \"histogram2d\": [{\"colorbar\": {\"outlinewidth\": 0, \"ticks\": \"\"}, \"colorscale\": [[0.0, \"#0d0887\"], [0.1111111111111111, \"#46039f\"], [0.2222222222222222, \"#7201a8\"], [0.3333333333333333, \"#9c179e\"], [0.4444444444444444, \"#bd3786\"], [0.5555555555555556, \"#d8576b\"], [0.6666666666666666, \"#ed7953\"], [0.7777777777777778, \"#fb9f3a\"], [0.8888888888888888, \"#fdca26\"], [1.0, \"#f0f921\"]], \"type\": \"histogram2d\"}], \"histogram2dcontour\": [{\"colorbar\": {\"outlinewidth\": 0, \"ticks\": \"\"}, \"colorscale\": [[0.0, \"#0d0887\"], [0.1111111111111111, \"#46039f\"], [0.2222222222222222, \"#7201a8\"], [0.3333333333333333, \"#9c179e\"], [0.4444444444444444, \"#bd3786\"], [0.5555555555555556, \"#d8576b\"], [0.6666666666666666, \"#ed7953\"], [0.7777777777777778, \"#fb9f3a\"], [0.8888888888888888, \"#fdca26\"], [1.0, \"#f0f921\"]], \"type\": \"histogram2dcontour\"}], \"mesh3d\": [{\"colorbar\": {\"outlinewidth\": 0, \"ticks\": \"\"}, \"type\": \"mesh3d\"}], \"parcoords\": [{\"line\": {\"colorbar\": {\"outlinewidth\": 0, \"ticks\": \"\"}}, \"type\": \"parcoords\"}], \"pie\": [{\"automargin\": true, \"type\": \"pie\"}], \"scatter\": [{\"marker\": {\"colorbar\": {\"outlinewidth\": 0, \"ticks\": \"\"}}, \"type\": \"scatter\"}], \"scatter3d\": [{\"line\": {\"colorbar\": {\"outlinewidth\": 0, \"ticks\": \"\"}}, \"marker\": {\"colorbar\": {\"outlinewidth\": 0, \"ticks\": \"\"}}, \"type\": \"scatter3d\"}], \"scattercarpet\": [{\"marker\": {\"colorbar\": {\"outlinewidth\": 0, \"ticks\": \"\"}}, \"type\": \"scattercarpet\"}], \"scattergeo\": [{\"marker\": {\"colorbar\": {\"outlinewidth\": 0, \"ticks\": \"\"}}, \"type\": \"scattergeo\"}], \"scattergl\": [{\"marker\": {\"colorbar\": {\"outlinewidth\": 0, \"ticks\": \"\"}}, \"type\": \"scattergl\"}], \"scattermapbox\": [{\"marker\": {\"colorbar\": {\"outlinewidth\": 0, \"ticks\": \"\"}}, \"type\": \"scattermapbox\"}], \"scatterpolar\": [{\"marker\": {\"colorbar\": {\"outlinewidth\": 0, \"ticks\": \"\"}}, \"type\": \"scatterpolar\"}], \"scatterpolargl\": [{\"marker\": {\"colorbar\": {\"outlinewidth\": 0, \"ticks\": \"\"}}, \"type\": \"scatterpolargl\"}], \"scatterternary\": [{\"marker\": {\"colorbar\": {\"outlinewidth\": 0, \"ticks\": \"\"}}, \"type\": \"scatterternary\"}], \"surface\": [{\"colorbar\": {\"outlinewidth\": 0, \"ticks\": \"\"}, \"colorscale\": [[0.0, \"#0d0887\"], [0.1111111111111111, \"#46039f\"], [0.2222222222222222, \"#7201a8\"], [0.3333333333333333, \"#9c179e\"], [0.4444444444444444, \"#bd3786\"], [0.5555555555555556, \"#d8576b\"], [0.6666666666666666, \"#ed7953\"], [0.7777777777777778, \"#fb9f3a\"], [0.8888888888888888, \"#fdca26\"], [1.0, \"#f0f921\"]], \"type\": \"surface\"}], \"table\": [{\"cells\": {\"fill\": {\"color\": \"#EBF0F8\"}, \"line\": {\"color\": \"white\"}}, \"header\": {\"fill\": {\"color\": \"#C8D4E3\"}, \"line\": {\"color\": \"white\"}}, \"type\": \"table\"}]}, \"layout\": {\"annotationdefaults\": {\"arrowcolor\": \"#2a3f5f\", \"arrowhead\": 0, \"arrowwidth\": 1}, \"coloraxis\": {\"colorbar\": {\"outlinewidth\": 0, \"ticks\": \"\"}}, \"colorscale\": {\"diverging\": [[0, \"#8e0152\"], [0.1, \"#c51b7d\"], [0.2, \"#de77ae\"], [0.3, \"#f1b6da\"], [0.4, \"#fde0ef\"], [0.5, \"#f7f7f7\"], [0.6, \"#e6f5d0\"], [0.7, \"#b8e186\"], [0.8, \"#7fbc41\"], [0.9, \"#4d9221\"], [1, \"#276419\"]], \"sequential\": [[0.0, \"#0d0887\"], [0.1111111111111111, \"#46039f\"], [0.2222222222222222, \"#7201a8\"], [0.3333333333333333, \"#9c179e\"], [0.4444444444444444, \"#bd3786\"], [0.5555555555555556, \"#d8576b\"], [0.6666666666666666, \"#ed7953\"], [0.7777777777777778, \"#fb9f3a\"], [0.8888888888888888, \"#fdca26\"], [1.0, \"#f0f921\"]], \"sequentialminus\": [[0.0, \"#0d0887\"], [0.1111111111111111, \"#46039f\"], [0.2222222222222222, \"#7201a8\"], [0.3333333333333333, \"#9c179e\"], [0.4444444444444444, \"#bd3786\"], [0.5555555555555556, \"#d8576b\"], [0.6666666666666666, \"#ed7953\"], [0.7777777777777778, \"#fb9f3a\"], [0.8888888888888888, \"#fdca26\"], [1.0, \"#f0f921\"]]}, \"colorway\": [\"#636efa\", \"#EF553B\", \"#00cc96\", \"#ab63fa\", \"#FFA15A\", \"#19d3f3\", \"#FF6692\", \"#B6E880\", \"#FF97FF\", \"#FECB52\"], \"font\": {\"color\": \"#2a3f5f\"}, \"geo\": {\"bgcolor\": \"white\", \"lakecolor\": \"white\", \"landcolor\": \"#E5ECF6\", \"showlakes\": true, \"showland\": true, \"subunitcolor\": \"white\"}, \"hoverlabel\": {\"align\": \"left\"}, \"hovermode\": \"closest\", \"mapbox\": {\"style\": \"light\"}, \"paper_bgcolor\": \"white\", \"plot_bgcolor\": \"#E5ECF6\", \"polar\": {\"angularaxis\": {\"gridcolor\": \"white\", \"linecolor\": \"white\", \"ticks\": \"\"}, \"bgcolor\": \"#E5ECF6\", \"radialaxis\": {\"gridcolor\": \"white\", \"linecolor\": \"white\", \"ticks\": \"\"}}, \"scene\": {\"xaxis\": {\"backgroundcolor\": \"#E5ECF6\", \"gridcolor\": \"white\", \"gridwidth\": 2, \"linecolor\": \"white\", \"showbackground\": true, \"ticks\": \"\", \"zerolinecolor\": \"white\"}, \"yaxis\": {\"backgroundcolor\": \"#E5ECF6\", \"gridcolor\": \"white\", \"gridwidth\": 2, \"linecolor\": \"white\", \"showbackground\": true, \"ticks\": \"\", \"zerolinecolor\": \"white\"}, \"zaxis\": {\"backgroundcolor\": \"#E5ECF6\", \"gridcolor\": \"white\", \"gridwidth\": 2, \"linecolor\": \"white\", \"showbackground\": true, \"ticks\": \"\", \"zerolinecolor\": \"white\"}}, \"shapedefaults\": {\"line\": {\"color\": \"#2a3f5f\"}}, \"ternary\": {\"aaxis\": {\"gridcolor\": \"white\", \"linecolor\": \"white\", \"ticks\": \"\"}, \"baxis\": {\"gridcolor\": \"white\", \"linecolor\": \"white\", \"ticks\": \"\"}, \"bgcolor\": \"#E5ECF6\", \"caxis\": {\"gridcolor\": \"white\", \"linecolor\": \"white\", \"ticks\": \"\"}}, \"title\": {\"x\": 0.05}, \"xaxis\": {\"automargin\": true, \"gridcolor\": \"white\", \"linecolor\": \"white\", \"ticks\": \"\", \"title\": {\"standoff\": 15}, \"zerolinecolor\": \"white\", \"zerolinewidth\": 2}, \"yaxis\": {\"automargin\": true, \"gridcolor\": \"white\", \"linecolor\": \"white\", \"ticks\": \"\", \"title\": {\"standoff\": 15}, \"zerolinecolor\": \"white\", \"zerolinewidth\": 2}}}, \"title\": {\"font\": {\"color\": \"#4D5663\"}}, \"xaxis\": {\"gridcolor\": \"#E1E5ED\", \"showgrid\": true, \"tickfont\": {\"color\": \"#4D5663\"}, \"title\": {\"font\": {\"color\": \"#4D5663\"}, \"text\": \"\"}, \"zerolinecolor\": \"#E1E5ED\"}, \"yaxis\": {\"gridcolor\": \"#E1E5ED\", \"showgrid\": true, \"tickfont\": {\"color\": \"#4D5663\"}, \"title\": {\"font\": {\"color\": \"#4D5663\"}, \"text\": \"\"}, \"zerolinecolor\": \"#E1E5ED\"}},\n",
       "                        {\"showLink\": true, \"linkText\": \"Export to plot.ly\", \"plotlyServerURL\": \"https://plot.ly\", \"responsive\": true}\n",
       "                    ).then(function(){\n",
       "                            \n",
       "var gd = document.getElementById('572855a3-d981-4a54-8548-31c176757235');\n",
       "var x = new MutationObserver(function (mutations, observer) {{\n",
       "        var display = window.getComputedStyle(gd).display;\n",
       "        if (!display || display === 'none') {{\n",
       "            console.log([gd, 'removed!']);\n",
       "            Plotly.purge(gd);\n",
       "            observer.disconnect();\n",
       "        }}\n",
       "}});\n",
       "\n",
       "// Listen for the removal of the full notebook cells\n",
       "var notebookContainer = gd.closest('#notebook-container');\n",
       "if (notebookContainer) {{\n",
       "    x.observe(notebookContainer, {childList: true});\n",
       "}}\n",
       "\n",
       "// Listen for the clearing of the current output cell\n",
       "var outputEl = gd.closest('.output');\n",
       "if (outputEl) {{\n",
       "    x.observe(outputEl, {childList: true});\n",
       "}}\n",
       "\n",
       "                        })\n",
       "                };\n",
       "                });\n",
       "            </script>\n",
       "        </div>"
      ]
     },
     "metadata": {},
     "output_type": "display_data"
    }
   ],
   "source": [
    "df.iplot(kind='box')"
   ]
  },
  {
   "cell_type": "markdown",
   "metadata": {},
   "source": [
    "## 3d Surface"
   ]
  },
  {
   "cell_type": "code",
   "execution_count": 47,
   "metadata": {},
   "outputs": [
    {
     "data": {
      "text/html": [
       "<div id=\"1bd337c5-1c72-4f4d-9748-7ff51b738774\" style=\"height: 525px; width: 100%;\" class=\"plotly-graph-div\"></div><script type=\"text/javascript\">require([\"plotly\"], function(Plotly) { window.PLOTLYENV=window.PLOTLYENV || {};window.PLOTLYENV.BASE_URL=\"https://plot.ly\";Plotly.newPlot(\"1bd337c5-1c72-4f4d-9748-7ff51b738774\", [{\"colorscale\": [[0.0, \"rgb(165,0,38)\"], [0.1, \"rgb(215,48,39)\"], [0.2, \"rgb(244,109,67)\"], [0.3, \"rgb(253,174,97)\"], [0.4, \"rgb(254,224,144)\"], [0.5, \"rgb(255,255,191)\"], [0.6, \"rgb(224,243,248)\"], [0.7, \"rgb(171,217,233)\"], [0.8, \"rgb(116,173,209)\"], [0.9, \"rgb(69,117,180)\"], [1.0, \"rgb(49,54,149)\"]], \"x\": [0, 1, 2, 3, 4], \"type\": \"surface\", \"y\": [\"x\", \"y\", \"z\"], \"z\": [[1, 2, 3, 4, 5], [10, 20, 30, 20, 10], [5, 4, 3, 2, 1]]}], {\"legend\": {\"font\": {\"color\": \"#666666\"}, \"bgcolor\": \"#FFFFFF\"}, \"titlefont\": {\"color\": \"#151516\"}, \"xaxis1\": {\"titlefont\": {\"color\": \"#666666\"}, \"zerolinecolor\": \"#F6F6F6\", \"title\": \"\", \"tickfont\": {\"color\": \"#666666\"}, \"showgrid\": true, \"gridcolor\": \"#F6F6F6\"}, \"paper_bgcolor\": \"#FFFFFF\", \"plot_bgcolor\": \"#E5E5E5\", \"yaxis1\": {\"titlefont\": {\"color\": \"#666666\"}, \"zerolinecolor\": \"#F6F6F6\", \"title\": \"\", \"tickfont\": {\"color\": \"#666666\"}, \"showgrid\": true, \"gridcolor\": \"#F6F6F6\"}}, {\"showLink\": true, \"linkText\": \"Export to plot.ly\"})});</script>"
      ],
      "text/plain": [
       "<IPython.core.display.HTML object>"
      ]
     },
     "metadata": {},
     "output_type": "display_data"
    }
   ],
   "source": [
    "df3 = pd.DataFrame({'x':[1,2,3,4,5],'y':[10,20,30,20,10],'z':[5,4,3,2,1]})\n",
    "df3.iplot(kind='surface',colorscale='rdylbu')"
   ]
  },
  {
   "cell_type": "markdown",
   "metadata": {},
   "source": [
    "## Spread"
   ]
  },
  {
   "cell_type": "code",
   "execution_count": 50,
   "metadata": {},
   "outputs": [
    {
     "data": {
      "text/html": [
       "<div id=\"d77d91d4-36ef-4915-a84f-8e43772897cc\" style=\"height: 525px; width: 100%;\" class=\"plotly-graph-div\"></div><script type=\"text/javascript\">require([\"plotly\"], function(Plotly) { window.PLOTLYENV=window.PLOTLYENV || {};window.PLOTLYENV.BASE_URL=\"https://plot.ly\";Plotly.newPlot(\"d77d91d4-36ef-4915-a84f-8e43772897cc\", [{\"x\": [0, 1, 2, 3, 4, 5, 6, 7, 8, 9, 10, 11, 12, 13, 14, 15, 16, 17, 18, 19, 20, 21, 22, 23, 24, 25, 26, 27, 28, 29, 30, 31, 32, 33, 34, 35, 36, 37, 38, 39, 40, 41, 42, 43, 44, 45, 46, 47, 48, 49, 50, 51, 52, 53, 54, 55, 56, 57, 58, 59, 60, 61, 62, 63, 64, 65, 66, 67, 68, 69, 70, 71, 72, 73, 74, 75, 76, 77, 78, 79, 80, 81, 82, 83, 84, 85, 86, 87, 88, 89, 90, 91, 92, 93, 94, 95, 96, 97, 98, 99], \"text\": \"\", \"y\": [1.8787246669561561, 0.028733616663923985, -0.1587931161277573, -1.2219723462024636, 1.2531523973363488, 0.8312132082951045, 1.1740170898586173, -0.24393002059589958, -0.296966543277261, 0.7621695759158762, 0.04210347865555278, -0.7791970481917073, 0.3943032396655093, -1.0146190736152443, -0.4841710096782867, 0.5522466668361006, -2.77187556758784, -0.5181226698708166, -0.49722040792422156, -1.6534757596659548, -0.06027439377033132, 1.4769243769038323, 1.1796346669498379, -0.7816898015019265, 0.8630132212967984, 0.6590246731638996, -1.1013906677685679, -0.9446804895542242, -1.788022470413331, 0.8775002821729455, 0.3546715768521251, -0.16532125735222183, 1.8914747239632839, -1.1251772915449791, 0.8888981026894395, -0.6066117727706714, 0.8314777742724779, 0.3830457069359529, -0.937459527593053, -0.844561047334305, 1.1280232245052606, -1.640427972598561, 0.8971269652786067, 0.4848047458342485, 0.19373507090654035, -0.7387091317560727, -0.3566733282792827, -0.43158335134818315, -0.4899640124314907, 0.5488715658495908, 0.2821768987731658, -0.8832439438038343, 1.271863067044618, 0.10680856505919414, 0.8269478103679717, -0.03266751467505833, -0.34021520002722894, -0.6769186069469743, 0.7126188256918854, 1.8871150025438166, -0.06742662656190869, -1.4789736197389265, 0.346978601690099, -0.3757389938313092, 0.715285859520045, 1.5994858611908638, -0.3692558358591885, 0.13827360227735647, -0.40690530542342296, 0.636973800943974, 0.14658752987818605, -0.3949906255692418, 1.5076392623927681, -0.15486042602397807, 0.22159940179664614, -1.0878244818277978, -0.03354417910293162, 1.2258839316932069, -0.048951028800266715, -1.1089870994157809, 0.021452684803338333, 1.2548854256528554, -1.0913797662237141, -0.539059741192553, 0.6901269187662552, -1.4810451728120602, -0.8468654201203714, 0.3763927872506507, 0.8120568488462931, 0.0031767062628090745, 0.697742291538818, -0.7429703118062226, -0.842231117346612, -0.0666718362166121, 1.8829720647783421, 1.320112956074407, 0.42394324402947475, 0.466299928509142, 0.9415282138953815, -0.7707938096473991], \"mode\": \"lines\", \"line\": {\"dash\": \"solid\", \"width\": 1.3, \"color\": \"rgba(226, 74, 51, 1.0)\"}, \"type\": \"scatter\", \"name\": \"A\"}, {\"x\": [0, 1, 2, 3, 4, 5, 6, 7, 8, 9, 10, 11, 12, 13, 14, 15, 16, 17, 18, 19, 20, 21, 22, 23, 24, 25, 26, 27, 28, 29, 30, 31, 32, 33, 34, 35, 36, 37, 38, 39, 40, 41, 42, 43, 44, 45, 46, 47, 48, 49, 50, 51, 52, 53, 54, 55, 56, 57, 58, 59, 60, 61, 62, 63, 64, 65, 66, 67, 68, 69, 70, 71, 72, 73, 74, 75, 76, 77, 78, 79, 80, 81, 82, 83, 84, 85, 86, 87, 88, 89, 90, 91, 92, 93, 94, 95, 96, 97, 98, 99], \"text\": \"\", \"y\": [0.6887194376286498, 0.1040535242504629, 0.38792642015276635, 1.3934230260395444, -0.5375976688704683, -1.1493608786796612, 0.01342890849383506, -0.47231861415738574, 0.24793169472844812, -0.6232083144122951, -1.2121596694710122, -2.4542371001007464, 0.29855785553142483, 1.2997620162676498, 0.9168047366909585, -0.41040614900130634, 1.3147531456519106, -0.12455263569370086, 0.9366143523054554, 0.23573463729990726, -0.8244746170540388, -0.32685668230128845, 1.501781503113865, 0.9830012153240587, 0.6020112305361386, 0.3688304138086671, 1.0090827131320237, -0.5811720111587422, 0.0512884505619472, -1.6917643070157176, -0.25322144257612356, -0.2937357494665306, 0.7368726362448421, 0.5763424997076779, 0.16472110066593693, -0.374254076023172, 1.1280304809680426, 0.6455371548668151, -0.18000225503004413, -0.9128911232313937, -0.5670695205365133, 0.16138491502455474, 1.2118733837294762, 0.4444506280024997, 0.6834767601409083, 1.8020727241195935, 2.4230878273709062, 0.27701889696287213, 1.4067122280705426, -0.33728919328412016, 0.5154870435338148, 0.7751019637809062, 1.400130435077449, 0.8276591566099151, 1.1268119555303864, 0.7016118169589718, 0.476169530704683, -0.5261125753709399, -1.2129692872143456, 0.6126338497954396, 1.5825905557818922, -0.8173630045970658, 0.1075602248072928, 1.2716988894407462, -0.15615948990467535, -0.2968566839654392, 1.7204934641303604, -0.869876624137026, 0.28935077735906545, -1.2052876742800458, -0.263979336251353, -0.02815365780209253, -0.04062347728476395, 0.943760296027789, -1.7797735906553165, 0.4485755919087686, 0.14778332986993048, 0.5305019463041807, 1.6359913516932165, -0.3437427119285297, 1.9109783094330681, 0.6818924480193401, -0.42214824562337705, 0.8935317581184008, 1.2587495288352297, -0.5992845246668753, 2.7851237345776405, -1.5158096238899554, 0.04177421570103183, 0.48980398157362903, 1.063643861677667, -0.8486329162129157, -1.86936339853131, 0.24761777046722996, 1.290606988097702, 0.17046338292604407, 0.14181179559597848, 0.6505415244850333, -2.5850581533594545, -0.30813091794721653], \"mode\": \"lines\", \"line\": {\"dash\": \"solid\", \"width\": 1.3, \"color\": \"rgba(62, 111, 176, 1.0)\"}, \"type\": \"scatter\", \"name\": \"B\"}, {\"yaxis\": \"y2\", \"mode\": \"lines\", \"xaxis\": \"x2\", \"connectgaps\": false, \"x\": [0, 1, 2, 3, 4, 5, 6, 7, 8, 9, 10, 11, 12, 13, 14, 15, 16, 17, 18, 19, 20, 21, 22, 23, 24, 25, 26, 27, 28, 29, 30, 31, 32, 33, 34, 35, 36, 37, 38, 39, 40, 41, 42, 43, 44, 45, 46, 47, 48, 49, 50, 51, 52, 53, 54, 55, 56, 57, 58, 59, 60, 61, 62, 63, 64, 65, 66, 67, 68, 69, 70, 71, 72, 73, 74, 75, 76, 77, 78, 79, 80, 81, 82, 83, 84, 85, 86, 87, 88, 89, 90, 91, 92, 93, 94, 95, 96, 97, 98, 99], \"showlegend\": false, \"y\": [\"\", -0.0753199075865389, -0.5467195362805236, -2.6153953722420082, \"\", \"\", \"\", \"\", -0.5448982380057091, \"\", \"\", \"\", \"\", -2.314381089882894, -1.4009757463692452, \"\", -4.086628713239751, -0.3935700341771157, -1.433834760229677, -1.889210396965862, \"\", \"\", -0.3221468361640272, -1.764691016825985, \"\", \"\", -2.1104733809005918, -0.36350847839548206, -1.8393109209752783, \"\", \"\", \"\", \"\", -1.701519791252657, \"\", -0.23235769674749934, -0.29655270669556466, -0.26249144793086215, -0.7574572725630089, \"\", \"\", -1.8018128876231159, -0.3147464184508695, \"\", -0.48974168923436795, -2.5407818558756663, -2.779761155650189, -0.7086022483110552, -1.8966762405020332, \"\", -0.23331014476064899, -1.6583459075847404, -0.128267368032831, -0.720850591550721, -0.29986414516241466, -0.7342793316340301, -0.8163847307319119, -0.15080603157603434, \"\", \"\", -1.650017182343801, -0.6616106151418607, \"\", -1.6474378832720553, \"\", \"\", -2.089749299989549, \"\", -0.6962560827824884, \"\", \"\", -0.36683696776714925, \"\", -1.098620722051767, \"\", -1.5364000737365664, -0.1813275089728621, \"\", -1.6849423804934833, -0.7652443874872512, -1.8895256246297298, \"\", -0.6692315206003371, -1.4325914993109539, -0.5686226100689745, -0.8817606481451848, -3.6319891546980116, \"\", \"\", -0.48662727531081995, -0.36590157013884894, \"\", \"\", -0.3142896066838421, \"\", \"\", \"\", -0.18424159597589135, \"\", -0.46266289170018254], \"type\": \"scatter\", \"fill\": \"tozeroy\", \"line\": {\"dash\": \"solid\", \"width\": 0.5, \"color\": \"red\"}, \"name\": \"Spread\"}, {\"yaxis\": \"y2\", \"mode\": \"lines\", \"xaxis\": \"x2\", \"connectgaps\": false, \"x\": [0, 1, 2, 3, 4, 5, 6, 7, 8, 9, 10, 11, 12, 13, 14, 15, 16, 17, 18, 19, 20, 21, 22, 23, 24, 25, 26, 27, 28, 29, 30, 31, 32, 33, 34, 35, 36, 37, 38, 39, 40, 41, 42, 43, 44, 45, 46, 47, 48, 49, 50, 51, 52, 53, 54, 55, 56, 57, 58, 59, 60, 61, 62, 63, 64, 65, 66, 67, 68, 69, 70, 71, 72, 73, 74, 75, 76, 77, 78, 79, 80, 81, 82, 83, 84, 85, 86, 87, 88, 89, 90, 91, 92, 93, 94, 95, 96, 97, 98, 99], \"showlegend\": false, \"y\": [1.1900052293275063, \"\", \"\", \"\", 1.790750066206817, 1.9805740869747657, 1.1605881813647823, 0.22838859356148616, \"\", 1.3853778903281713, 1.254263148126565, 1.675040051909039, 0.09574538413408445, \"\", \"\", 0.9626528158374069, \"\", \"\", \"\", \"\", 0.7642002232837075, 1.8037810592051207, \"\", \"\", 0.2610019907606598, 0.29019425935523246, \"\", \"\", \"\", 2.569264589188663, 0.6078930194282486, 0.12841449211430875, 1.1546020877184417, \"\", 0.7241770020235025, \"\", \"\", \"\", \"\", 0.06833007589708862, 1.6950927450417739, \"\", \"\", 0.040354117831748804, \"\", \"\", \"\", \"\", \"\", 0.8861607591337111, \"\", \"\", \"\", \"\", \"\", \"\", \"\", \"\", 1.9255881129062309, 1.274481152748377, \"\", \"\", 0.23941837688280618, \"\", 0.8714453494247203, 1.896342545156303, \"\", 1.0081502264143825, \"\", 1.8422614752240198, 0.4105668661295391, \"\", 1.5482627396775321, \"\", 2.0013729924519628, \"\", \"\", 0.6953819853890262, \"\", \"\", \"\", 0.5729929776335153, \"\", \"\", \"\", \"\", \"\", 1.8922024111406062, 0.7702826331452614, \"\", \"\", 0.10566260440669306, 1.0271322811846981, \"\", 0.5923650766806401, 1.149649573148363, 0.28213144843349625, \"\", 3.5265863672548363, \"\"], \"type\": \"scatter\", \"fill\": \"tozeroy\", \"line\": {\"dash\": \"solid\", \"width\": 0.5, \"color\": \"green\"}, \"name\": \"Spread\"}], {\"legend\": {\"font\": {\"color\": \"#666666\"}, \"bgcolor\": \"#FFFFFF\"}, \"titlefont\": {\"color\": \"#151516\"}, \"xaxis1\": {\"titlefont\": {\"color\": \"#666666\"}, \"zerolinecolor\": \"#F6F6F6\", \"title\": \"\", \"tickfont\": {\"color\": \"#666666\"}, \"showgrid\": true, \"gridcolor\": \"#F6F6F6\"}, \"paper_bgcolor\": \"#FFFFFF\", \"yaxis2\": {\"titlefont\": {\"color\": \"#666666\"}, \"zerolinecolor\": \"#F6F6F6\", \"title\": \"Spread\", \"tickfont\": {\"color\": \"#666666\"}, \"showgrid\": true, \"domain\": [0, 0.25], \"gridcolor\": \"#F6F6F6\"}, \"plot_bgcolor\": \"#E5E5E5\", \"hovermode\": \"x\", \"xaxis2\": {\"titlefont\": {\"color\": \"#666666\"}, \"zerolinecolor\": \"#F6F6F6\", \"showgrid\": true, \"title\": \"\", \"anchor\": \"y2\", \"tickfont\": {\"color\": \"#666666\"}, \"showticklabels\": false, \"gridcolor\": \"#F6F6F6\"}, \"yaxis1\": {\"titlefont\": {\"color\": \"#666666\"}, \"zerolinecolor\": \"#F6F6F6\", \"title\": \"\", \"tickfont\": {\"color\": \"#666666\"}, \"showgrid\": true, \"domain\": [0.3, 1], \"gridcolor\": \"#F6F6F6\"}}, {\"showLink\": true, \"linkText\": \"Export to plot.ly\"})});</script>"
      ],
      "text/plain": [
       "<IPython.core.display.HTML object>"
      ]
     },
     "metadata": {},
     "output_type": "display_data"
    }
   ],
   "source": [
    "df[['A','B']].iplot(kind='spread')"
   ]
  },
  {
   "cell_type": "markdown",
   "metadata": {},
   "source": [
    "## histogram"
   ]
  },
  {
   "cell_type": "code",
   "execution_count": 56,
   "metadata": {},
   "outputs": [
    {
     "data": {
      "text/html": [
       "<div id=\"be69ae84-c3c4-4776-a0e8-f44c59817e90\" style=\"height: 525px; width: 100%;\" class=\"plotly-graph-div\"></div><script type=\"text/javascript\">require([\"plotly\"], function(Plotly) { window.PLOTLYENV=window.PLOTLYENV || {};window.PLOTLYENV.BASE_URL=\"https://plot.ly\";Plotly.newPlot(\"be69ae84-c3c4-4776-a0e8-f44c59817e90\", [{\"x\": [1.8787246669561561, 0.028733616663923985, -0.1587931161277573, -1.2219723462024636, 1.2531523973363488, 0.8312132082951045, 1.1740170898586173, -0.24393002059589958, -0.296966543277261, 0.7621695759158762, 0.04210347865555278, -0.7791970481917073, 0.3943032396655093, -1.0146190736152443, -0.4841710096782867, 0.5522466668361006, -2.77187556758784, -0.5181226698708166, -0.49722040792422156, -1.6534757596659548, -0.06027439377033132, 1.4769243769038323, 1.1796346669498379, -0.7816898015019265, 0.8630132212967984, 0.6590246731638996, -1.1013906677685679, -0.9446804895542242, -1.788022470413331, 0.8775002821729455, 0.3546715768521251, -0.16532125735222183, 1.8914747239632839, -1.1251772915449791, 0.8888981026894395, -0.6066117727706714, 0.8314777742724779, 0.3830457069359529, -0.937459527593053, -0.844561047334305, 1.1280232245052606, -1.640427972598561, 0.8971269652786067, 0.4848047458342485, 0.19373507090654035, -0.7387091317560727, -0.3566733282792827, -0.43158335134818315, -0.4899640124314907, 0.5488715658495908, 0.2821768987731658, -0.8832439438038343, 1.271863067044618, 0.10680856505919414, 0.8269478103679717, -0.03266751467505833, -0.34021520002722894, -0.6769186069469743, 0.7126188256918854, 1.8871150025438166, -0.06742662656190869, -1.4789736197389265, 0.346978601690099, -0.3757389938313092, 0.715285859520045, 1.5994858611908638, -0.3692558358591885, 0.13827360227735647, -0.40690530542342296, 0.636973800943974, 0.14658752987818605, -0.3949906255692418, 1.5076392623927681, -0.15486042602397807, 0.22159940179664614, -1.0878244818277978, -0.03354417910293162, 1.2258839316932069, -0.048951028800266715, -1.1089870994157809, 0.021452684803338333, 1.2548854256528554, -1.0913797662237141, -0.539059741192553, 0.6901269187662552, -1.4810451728120602, -0.8468654201203714, 0.3763927872506507, 0.8120568488462931, 0.0031767062628090745, 0.697742291538818, -0.7429703118062226, -0.842231117346612, -0.0666718362166121, 1.8829720647783421, 1.320112956074407, 0.42394324402947475, 0.466299928509142, 0.9415282138953815, -0.7707938096473991], \"orientation\": \"v\", \"name\": \"A\", \"opacity\": 0.8, \"histfunc\": \"count\", \"type\": \"histogram\", \"histnorm\": \"\", \"nbinsx\": 25, \"marker\": {\"line\": {\"width\": 1.3, \"color\": \"#D9D9D9\"}, \"color\": \"rgba(226, 74, 51, 1.0)\"}}], {\"legend\": {\"font\": {\"color\": \"#666666\"}, \"bgcolor\": \"#FFFFFF\"}, \"titlefont\": {\"color\": \"#151516\"}, \"xaxis1\": {\"titlefont\": {\"color\": \"#666666\"}, \"zerolinecolor\": \"#F6F6F6\", \"title\": \"\", \"tickfont\": {\"color\": \"#666666\"}, \"showgrid\": true, \"gridcolor\": \"#F6F6F6\"}, \"paper_bgcolor\": \"#FFFFFF\", \"barmode\": \"overlay\", \"plot_bgcolor\": \"#E5E5E5\", \"yaxis1\": {\"titlefont\": {\"color\": \"#666666\"}, \"zerolinecolor\": \"#F6F6F6\", \"title\": \"\", \"tickfont\": {\"color\": \"#666666\"}, \"showgrid\": true, \"gridcolor\": \"#F6F6F6\"}}, {\"showLink\": true, \"linkText\": \"Export to plot.ly\"})});</script>"
      ],
      "text/plain": [
       "<IPython.core.display.HTML object>"
      ]
     },
     "metadata": {},
     "output_type": "display_data"
    }
   ],
   "source": [
    "df['A'].iplot(kind='hist',bins=25)"
   ]
  },
  {
   "cell_type": "code",
   "execution_count": 60,
   "metadata": {},
   "outputs": [
    {
     "data": {
      "text/html": [
       "<div id=\"e508143e-bcba-4c40-9488-bfdc4040e078\" style=\"height: 525px; width: 100%;\" class=\"plotly-graph-div\"></div><script type=\"text/javascript\">require([\"plotly\"], function(Plotly) { window.PLOTLYENV=window.PLOTLYENV || {};window.PLOTLYENV.BASE_URL=\"https://plot.ly\";Plotly.newPlot(\"e508143e-bcba-4c40-9488-bfdc4040e078\", [{\"mode\": \"markers\", \"text\": \"\", \"y\": [0.6887194376286498, 0.1040535242504629, 0.38792642015276635, 1.3934230260395444, -0.5375976688704683, -1.1493608786796612, 0.01342890849383506, -0.47231861415738574, 0.24793169472844812, -0.6232083144122951, -1.2121596694710122, -2.4542371001007464, 0.29855785553142483, 1.2997620162676498, 0.9168047366909585, -0.41040614900130634, 1.3147531456519106, -0.12455263569370086, 0.9366143523054554, 0.23573463729990726, -0.8244746170540388, -0.32685668230128845, 1.501781503113865, 0.9830012153240587, 0.6020112305361386, 0.3688304138086671, 1.0090827131320237, -0.5811720111587422, 0.0512884505619472, -1.6917643070157176, -0.25322144257612356, -0.2937357494665306, 0.7368726362448421, 0.5763424997076779, 0.16472110066593693, -0.374254076023172, 1.1280304809680426, 0.6455371548668151, -0.18000225503004413, -0.9128911232313937, -0.5670695205365133, 0.16138491502455474, 1.2118733837294762, 0.4444506280024997, 0.6834767601409083, 1.8020727241195935, 2.4230878273709062, 0.27701889696287213, 1.4067122280705426, -0.33728919328412016, 0.5154870435338148, 0.7751019637809062, 1.400130435077449, 0.8276591566099151, 1.1268119555303864, 0.7016118169589718, 0.476169530704683, -0.5261125753709399, -1.2129692872143456, 0.6126338497954396, 1.5825905557818922, -0.8173630045970658, 0.1075602248072928, 1.2716988894407462, -0.15615948990467535, -0.2968566839654392, 1.7204934641303604, -0.869876624137026, 0.28935077735906545, -1.2052876742800458, -0.263979336251353, -0.02815365780209253, -0.04062347728476395, 0.943760296027789, -1.7797735906553165, 0.4485755919087686, 0.14778332986993048, 0.5305019463041807, 1.6359913516932165, -0.3437427119285297, 1.9109783094330681, 0.6818924480193401, -0.42214824562337705, 0.8935317581184008, 1.2587495288352297, -0.5992845246668753, 2.7851237345776405, -1.5158096238899554, 0.04177421570103183, 0.48980398157362903, 1.063643861677667, -0.8486329162129157, -1.86936339853131, 0.24761777046722996, 1.290606988097702, 0.17046338292604407, 0.14181179559597848, 0.6505415244850333, -2.5850581533594545, -0.30813091794721653], \"x\": [1.8787246669561561, 0.028733616663923985, -0.1587931161277573, -1.2219723462024636, 1.2531523973363488, 0.8312132082951045, 1.1740170898586173, -0.24393002059589958, -0.296966543277261, 0.7621695759158762, 0.04210347865555278, -0.7791970481917073, 0.3943032396655093, -1.0146190736152443, -0.4841710096782867, 0.5522466668361006, -2.77187556758784, -0.5181226698708166, -0.49722040792422156, -1.6534757596659548, -0.06027439377033132, 1.4769243769038323, 1.1796346669498379, -0.7816898015019265, 0.8630132212967984, 0.6590246731638996, -1.1013906677685679, -0.9446804895542242, -1.788022470413331, 0.8775002821729455, 0.3546715768521251, -0.16532125735222183, 1.8914747239632839, -1.1251772915449791, 0.8888981026894395, -0.6066117727706714, 0.8314777742724779, 0.3830457069359529, -0.937459527593053, -0.844561047334305, 1.1280232245052606, -1.640427972598561, 0.8971269652786067, 0.4848047458342485, 0.19373507090654035, -0.7387091317560727, -0.3566733282792827, -0.43158335134818315, -0.4899640124314907, 0.5488715658495908, 0.2821768987731658, -0.8832439438038343, 1.271863067044618, 0.10680856505919414, 0.8269478103679717, -0.03266751467505833, -0.34021520002722894, -0.6769186069469743, 0.7126188256918854, 1.8871150025438166, -0.06742662656190869, -1.4789736197389265, 0.346978601690099, -0.3757389938313092, 0.715285859520045, 1.5994858611908638, -0.3692558358591885, 0.13827360227735647, -0.40690530542342296, 0.636973800943974, 0.14658752987818605, -0.3949906255692418, 1.5076392623927681, -0.15486042602397807, 0.22159940179664614, -1.0878244818277978, -0.03354417910293162, 1.2258839316932069, -0.048951028800266715, -1.1089870994157809, 0.021452684803338333, 1.2548854256528554, -1.0913797662237141, -0.539059741192553, 0.6901269187662552, -1.4810451728120602, -0.8468654201203714, 0.3763927872506507, 0.8120568488462931, 0.0031767062628090745, 0.697742291538818, -0.7429703118062226, -0.842231117346612, -0.0666718362166121, 1.8829720647783421, 1.320112956074407, 0.42394324402947475, 0.466299928509142, 0.9415282138953815, -0.7707938096473991], \"type\": \"scatter\", \"marker\": {\"size\": [90, 70, 57, 64, 75, 45, 79, 60, 101, 50, 41, 59, 68, 84, 87, 12, 62, 71, 75, 47, 64, 96, 63, 84, 80, 61, 54, 67, 83, 52, 81, 66, 72, 68, 86, 86, 74, 46, 88, 88, 74, 51, 66, 62, 79, 60, 27, 109, 80, 90, 64, 72, 50, 112, 67, 77, 84, 56, 54, 74, 94, 88, 64, 61, 44, 87, 109, 74, 86, 77, 75, 88, 77, 90, 96, 66, 52, 75, 77, 52, 37, 69, 49, 60, 77, 71, 55, 66, 78, 32, 40, 85, 69, 80, 61, 67, 67, 67, 56, 64], \"line\": {\"width\": 1.3}, \"color\": [\"rgb(226, 74, 51)\", \"rgb(226, 74, 51)\", \"rgb(226, 74, 51)\", \"rgb(226, 74, 51)\", \"rgb(226, 74, 51)\", \"rgb(226, 74, 51)\", \"rgb(226, 74, 51)\", \"rgb(226, 74, 51)\", \"rgb(226, 74, 51)\", \"rgb(226, 74, 51)\", \"rgb(226, 74, 51)\", \"rgb(226, 74, 51)\", \"rgb(226, 74, 51)\", \"rgb(226, 74, 51)\", \"rgb(226, 74, 51)\", \"rgb(226, 74, 51)\", \"rgb(226, 74, 51)\", \"rgb(226, 74, 51)\", \"rgb(226, 74, 51)\", \"rgb(226, 74, 51)\", \"rgb(226, 74, 51)\", \"rgb(226, 74, 51)\", \"rgb(226, 74, 51)\", \"rgb(226, 74, 51)\", \"rgb(226, 74, 51)\", \"rgb(226, 74, 51)\", \"rgb(226, 74, 51)\", \"rgb(226, 74, 51)\", \"rgb(226, 74, 51)\", \"rgb(226, 74, 51)\", \"rgb(226, 74, 51)\", \"rgb(226, 74, 51)\", \"rgb(226, 74, 51)\", \"rgb(226, 74, 51)\", \"rgb(226, 74, 51)\", \"rgb(226, 74, 51)\", \"rgb(226, 74, 51)\", \"rgb(226, 74, 51)\", \"rgb(226, 74, 51)\", \"rgb(226, 74, 51)\", \"rgb(226, 74, 51)\", \"rgb(226, 74, 51)\", \"rgb(226, 74, 51)\", \"rgb(226, 74, 51)\", \"rgb(226, 74, 51)\", \"rgb(226, 74, 51)\", \"rgb(226, 74, 51)\", \"rgb(226, 74, 51)\", \"rgb(226, 74, 51)\", \"rgb(226, 74, 51)\", \"rgb(226, 74, 51)\", \"rgb(226, 74, 51)\", \"rgb(226, 74, 51)\", \"rgb(226, 74, 51)\", \"rgb(226, 74, 51)\", \"rgb(226, 74, 51)\", \"rgb(226, 74, 51)\", \"rgb(226, 74, 51)\", \"rgb(226, 74, 51)\", \"rgb(226, 74, 51)\", \"rgb(226, 74, 51)\", \"rgb(226, 74, 51)\", \"rgb(226, 74, 51)\", \"rgb(226, 74, 51)\", \"rgb(226, 74, 51)\", \"rgb(226, 74, 51)\", \"rgb(226, 74, 51)\", \"rgb(226, 74, 51)\", \"rgb(226, 74, 51)\", \"rgb(226, 74, 51)\", \"rgb(226, 74, 51)\", \"rgb(226, 74, 51)\", \"rgb(226, 74, 51)\", \"rgb(226, 74, 51)\", \"rgb(226, 74, 51)\", \"rgb(226, 74, 51)\", \"rgb(226, 74, 51)\", \"rgb(226, 74, 51)\", \"rgb(226, 74, 51)\", \"rgb(226, 74, 51)\", \"rgb(226, 74, 51)\", \"rgb(226, 74, 51)\", \"rgb(226, 74, 51)\", \"rgb(226, 74, 51)\", \"rgb(226, 74, 51)\", \"rgb(226, 74, 51)\", \"rgb(226, 74, 51)\", \"rgb(226, 74, 51)\", \"rgb(226, 74, 51)\", \"rgb(226, 74, 51)\", \"rgb(226, 74, 51)\", \"rgb(226, 74, 51)\", \"rgb(226, 74, 51)\", \"rgb(226, 74, 51)\", \"rgb(226, 74, 51)\", \"rgb(226, 74, 51)\", \"rgb(226, 74, 51)\", \"rgb(226, 74, 51)\", \"rgb(226, 74, 51)\", \"rgb(226, 74, 51)\"], \"symbol\": \"dot\"}}], {\"legend\": {\"font\": {\"color\": \"#666666\"}, \"bgcolor\": \"#FFFFFF\"}, \"titlefont\": {\"color\": \"#151516\"}, \"xaxis1\": {\"titlefont\": {\"color\": \"#666666\"}, \"zerolinecolor\": \"#F6F6F6\", \"title\": \"\", \"tickfont\": {\"color\": \"#666666\"}, \"showgrid\": true, \"gridcolor\": \"#F6F6F6\"}, \"paper_bgcolor\": \"#FFFFFF\", \"plot_bgcolor\": \"#E5E5E5\", \"yaxis1\": {\"titlefont\": {\"color\": \"#666666\"}, \"zerolinecolor\": \"#F6F6F6\", \"title\": \"\", \"tickfont\": {\"color\": \"#666666\"}, \"showgrid\": true, \"gridcolor\": \"#F6F6F6\"}}, {\"showLink\": true, \"linkText\": \"Export to plot.ly\"})});</script>"
      ],
      "text/plain": [
       "<IPython.core.display.HTML object>"
      ]
     },
     "metadata": {},
     "output_type": "display_data"
    }
   ],
   "source": [
    "df.iplot(kind='bubble',x='A',y='B',size='C')"
   ]
  },
  {
   "cell_type": "markdown",
   "metadata": {},
   "source": [
    "## scatter_matrix()\n",
    "\n",
    "Similar to sns.pairplot()"
   ]
  },
  {
   "cell_type": "code",
   "execution_count": 13,
   "metadata": {},
   "outputs": [
    {
     "data": {
      "text/html": [
       "<div id=\"86d216e5-0500-405c-9cd1-7e410922bc7b\" style=\"height: 525px; width: 100%;\" class=\"plotly-graph-div\"></div><script type=\"text/javascript\">require([\"plotly\"], function(Plotly) { window.PLOTLYENV=window.PLOTLYENV || {};window.PLOTLYENV.BASE_URL=\"https://plot.ly\";Plotly.newPlot(\"86d216e5-0500-405c-9cd1-7e410922bc7b\", [{\"yaxis\": \"y1\", \"x\": [1.8787246669561561, 0.028733616663923985, -0.1587931161277573, -1.2219723462024636, 1.2531523973363488, 0.8312132082951045, 1.1740170898586173, -0.24393002059589958, -0.296966543277261, 0.7621695759158762, 0.04210347865555278, -0.7791970481917073, 0.3943032396655093, -1.0146190736152443, -0.4841710096782867, 0.5522466668361006, -2.77187556758784, -0.5181226698708166, -0.49722040792422156, -1.6534757596659548, -0.06027439377033132, 1.4769243769038323, 1.1796346669498379, -0.7816898015019265, 0.8630132212967984, 0.6590246731638996, -1.1013906677685679, -0.9446804895542242, -1.788022470413331, 0.8775002821729455, 0.3546715768521251, -0.16532125735222183, 1.8914747239632839, -1.1251772915449791, 0.8888981026894395, -0.6066117727706714, 0.8314777742724779, 0.3830457069359529, -0.937459527593053, -0.844561047334305, 1.1280232245052606, -1.640427972598561, 0.8971269652786067, 0.4848047458342485, 0.19373507090654035, -0.7387091317560727, -0.3566733282792827, -0.43158335134818315, -0.4899640124314907, 0.5488715658495908, 0.2821768987731658, -0.8832439438038343, 1.271863067044618, 0.10680856505919414, 0.8269478103679717, -0.03266751467505833, -0.34021520002722894, -0.6769186069469743, 0.7126188256918854, 1.8871150025438166, -0.06742662656190869, -1.4789736197389265, 0.346978601690099, -0.3757389938313092, 0.715285859520045, 1.5994858611908638, -0.3692558358591885, 0.13827360227735647, -0.40690530542342296, 0.636973800943974, 0.14658752987818605, -0.3949906255692418, 1.5076392623927681, -0.15486042602397807, 0.22159940179664614, -1.0878244818277978, -0.03354417910293162, 1.2258839316932069, -0.048951028800266715, -1.1089870994157809, 0.021452684803338333, 1.2548854256528554, -1.0913797662237141, -0.539059741192553, 0.6901269187662552, -1.4810451728120602, -0.8468654201203714, 0.3763927872506507, 0.8120568488462931, 0.0031767062628090745, 0.697742291538818, -0.7429703118062226, -0.842231117346612, -0.0666718362166121, 1.8829720647783421, 1.320112956074407, 0.42394324402947475, 0.466299928509142, 0.9415282138953815, -0.7707938096473991], \"orientation\": \"v\", \"name\": \"A\", \"opacity\": 0.8, \"histfunc\": \"count\", \"type\": \"histogram\", \"histnorm\": \"\", \"nbinsx\": 10, \"marker\": {\"line\": {\"width\": 1.3, \"color\": \"#D9D9D9\"}, \"color\": \"rgba(226, 74, 51, 1.0)\"}, \"xaxis\": \"x1\"}, {\"yaxis\": \"y2\", \"mode\": \"markers\", \"text\": \"\", \"xaxis\": \"x2\", \"x\": [0.6887194376286498, 0.1040535242504629, 0.38792642015276635, 1.3934230260395444, -0.5375976688704683, -1.1493608786796612, 0.01342890849383506, -0.47231861415738574, 0.24793169472844812, -0.6232083144122951, -1.2121596694710122, -2.4542371001007464, 0.29855785553142483, 1.2997620162676498, 0.9168047366909585, -0.41040614900130634, 1.3147531456519106, -0.12455263569370086, 0.9366143523054554, 0.23573463729990726, -0.8244746170540388, -0.32685668230128845, 1.501781503113865, 0.9830012153240587, 0.6020112305361386, 0.3688304138086671, 1.0090827131320237, -0.5811720111587422, 0.0512884505619472, -1.6917643070157176, -0.25322144257612356, -0.2937357494665306, 0.7368726362448421, 0.5763424997076779, 0.16472110066593693, -0.374254076023172, 1.1280304809680426, 0.6455371548668151, -0.18000225503004413, -0.9128911232313937, -0.5670695205365133, 0.16138491502455474, 1.2118733837294762, 0.4444506280024997, 0.6834767601409083, 1.8020727241195935, 2.4230878273709062, 0.27701889696287213, 1.4067122280705426, -0.33728919328412016, 0.5154870435338148, 0.7751019637809062, 1.400130435077449, 0.8276591566099151, 1.1268119555303864, 0.7016118169589718, 0.476169530704683, -0.5261125753709399, -1.2129692872143456, 0.6126338497954396, 1.5825905557818922, -0.8173630045970658, 0.1075602248072928, 1.2716988894407462, -0.15615948990467535, -0.2968566839654392, 1.7204934641303604, -0.869876624137026, 0.28935077735906545, -1.2052876742800458, -0.263979336251353, -0.02815365780209253, -0.04062347728476395, 0.943760296027789, -1.7797735906553165, 0.4485755919087686, 0.14778332986993048, 0.5305019463041807, 1.6359913516932165, -0.3437427119285297, 1.9109783094330681, 0.6818924480193401, -0.42214824562337705, 0.8935317581184008, 1.2587495288352297, -0.5992845246668753, 2.7851237345776405, -1.5158096238899554, 0.04177421570103183, 0.48980398157362903, 1.063643861677667, -0.8486329162129157, -1.86936339853131, 0.24761777046722996, 1.290606988097702, 0.17046338292604407, 0.14181179559597848, 0.6505415244850333, -2.5850581533594545, -0.30813091794721653], \"y\": [1.8787246669561561, 0.028733616663923985, -0.1587931161277573, -1.2219723462024636, 1.2531523973363488, 0.8312132082951045, 1.1740170898586173, -0.24393002059589958, -0.296966543277261, 0.7621695759158762, 0.04210347865555278, -0.7791970481917073, 0.3943032396655093, -1.0146190736152443, -0.4841710096782867, 0.5522466668361006, -2.77187556758784, -0.5181226698708166, -0.49722040792422156, -1.6534757596659548, -0.06027439377033132, 1.4769243769038323, 1.1796346669498379, -0.7816898015019265, 0.8630132212967984, 0.6590246731638996, -1.1013906677685679, -0.9446804895542242, -1.788022470413331, 0.8775002821729455, 0.3546715768521251, -0.16532125735222183, 1.8914747239632839, -1.1251772915449791, 0.8888981026894395, -0.6066117727706714, 0.8314777742724779, 0.3830457069359529, -0.937459527593053, -0.844561047334305, 1.1280232245052606, -1.640427972598561, 0.8971269652786067, 0.4848047458342485, 0.19373507090654035, -0.7387091317560727, -0.3566733282792827, -0.43158335134818315, -0.4899640124314907, 0.5488715658495908, 0.2821768987731658, -0.8832439438038343, 1.271863067044618, 0.10680856505919414, 0.8269478103679717, -0.03266751467505833, -0.34021520002722894, -0.6769186069469743, 0.7126188256918854, 1.8871150025438166, -0.06742662656190869, -1.4789736197389265, 0.346978601690099, -0.3757389938313092, 0.715285859520045, 1.5994858611908638, -0.3692558358591885, 0.13827360227735647, -0.40690530542342296, 0.636973800943974, 0.14658752987818605, -0.3949906255692418, 1.5076392623927681, -0.15486042602397807, 0.22159940179664614, -1.0878244818277978, -0.03354417910293162, 1.2258839316932069, -0.048951028800266715, -1.1089870994157809, 0.021452684803338333, 1.2548854256528554, -1.0913797662237141, -0.539059741192553, 0.6901269187662552, -1.4810451728120602, -0.8468654201203714, 0.3763927872506507, 0.8120568488462931, 0.0031767062628090745, 0.697742291538818, -0.7429703118062226, -0.842231117346612, -0.0666718362166121, 1.8829720647783421, 1.320112956074407, 0.42394324402947475, 0.466299928509142, 0.9415282138953815, -0.7707938096473991], \"type\": \"scatter\", \"line\": {\"dash\": \"solid\", \"width\": 1.3, \"color\": \"rgba(128, 128, 128, 1.0)\"}, \"marker\": {\"size\": 2, \"symbol\": \"dot\"}, \"name\": \"A\"}, {\"yaxis\": \"y3\", \"mode\": \"markers\", \"text\": \"\", \"xaxis\": \"x3\", \"x\": [1.0667334168325768, 0.04817571551860875, -0.6353709157290994, -0.29979428249659507, 0.30291706303457033, -1.2658520234759039, 0.4984256330100474, -0.4813817437844393, 1.6528819231392327, -1.0387894611418347, -1.4866253379043493, -0.5281135473322252, -0.061645252730345844, 0.7876423965771268, 0.9285191892602837, -3.0483938246413547, -0.371184208418135, 0.11169331199774239, 0.30352330980386477, -1.1851393464396252, -0.3023997655692267, 1.4199893168847753, -0.332851303404407, 0.7955908630250091, 0.5869705278914006, -0.45090328668726354, -0.7814566611757896, -0.1261200409144497, 0.7060858452328673, -0.8894721878843294, 0.6064992291432117, -0.1963991863666514, 0.16697094643083513, -0.06591707111576753, 0.8961422265850149, 0.8939803073905991, 0.2526177880230376, -1.2523243277936627, 0.9749672569040144, 0.9687477057343876, 0.26351967435246515, -0.9517261189215155, -0.18707956459088698, -0.39391833601946274, 0.5273775265831957, -0.48180251718398176, -2.2230374431929953, 2.0999928572789828, 0.5496483529576708, 1.067298459209482, -0.3040289105606048, 0.1352094843666391, -0.9944404721270197, 2.2258275006902912, -0.11689955437978636, 0.41231462999024887, 0.7856039151273921, -0.6894731524779986, -0.8276899193670904, 0.23638272241448607, 1.3266743967632526, 0.9626096963262857, -0.28379390855690406, -0.417413711892243, -1.3341211120615861, 0.9298055489835776, 2.106720126861483, 0.23150307059926345, 0.8864836518334782, 0.4193977048083098, 0.3190869644200757, 0.9673541346062681, 0.42245148076732175, 1.0906377526894717, 1.3887188298690671, -0.19507483218944058, -0.9347090401182315, 0.30126885232107575, 0.42495072953595375, -0.9170212042816844, -1.6965969381460768, -0.011576471618042839, -1.0479065708976978, -0.4749222730814971, 0.4229046102099884, 0.08254929486846736, -0.7783883617548714, -0.17950878512595098, 0.4391940123110264, -1.9667304216807953, -1.5652802021531136, 0.8163770970520242, -0.008375093041838632, 0.5510487504106222, -0.4239325998518183, -0.1297116221823799, -0.10728910870450034, -0.12169367361116121, -0.6905111268638191, -0.2653540299125418], \"y\": [1.8787246669561561, 0.028733616663923985, -0.1587931161277573, -1.2219723462024636, 1.2531523973363488, 0.8312132082951045, 1.1740170898586173, -0.24393002059589958, -0.296966543277261, 0.7621695759158762, 0.04210347865555278, -0.7791970481917073, 0.3943032396655093, -1.0146190736152443, -0.4841710096782867, 0.5522466668361006, -2.77187556758784, -0.5181226698708166, -0.49722040792422156, -1.6534757596659548, -0.06027439377033132, 1.4769243769038323, 1.1796346669498379, -0.7816898015019265, 0.8630132212967984, 0.6590246731638996, -1.1013906677685679, -0.9446804895542242, -1.788022470413331, 0.8775002821729455, 0.3546715768521251, -0.16532125735222183, 1.8914747239632839, -1.1251772915449791, 0.8888981026894395, -0.6066117727706714, 0.8314777742724779, 0.3830457069359529, -0.937459527593053, -0.844561047334305, 1.1280232245052606, -1.640427972598561, 0.8971269652786067, 0.4848047458342485, 0.19373507090654035, -0.7387091317560727, -0.3566733282792827, -0.43158335134818315, -0.4899640124314907, 0.5488715658495908, 0.2821768987731658, -0.8832439438038343, 1.271863067044618, 0.10680856505919414, 0.8269478103679717, -0.03266751467505833, -0.34021520002722894, -0.6769186069469743, 0.7126188256918854, 1.8871150025438166, -0.06742662656190869, -1.4789736197389265, 0.346978601690099, -0.3757389938313092, 0.715285859520045, 1.5994858611908638, -0.3692558358591885, 0.13827360227735647, -0.40690530542342296, 0.636973800943974, 0.14658752987818605, -0.3949906255692418, 1.5076392623927681, -0.15486042602397807, 0.22159940179664614, -1.0878244818277978, -0.03354417910293162, 1.2258839316932069, -0.048951028800266715, -1.1089870994157809, 0.021452684803338333, 1.2548854256528554, -1.0913797662237141, -0.539059741192553, 0.6901269187662552, -1.4810451728120602, -0.8468654201203714, 0.3763927872506507, 0.8120568488462931, 0.0031767062628090745, 0.697742291538818, -0.7429703118062226, -0.842231117346612, -0.0666718362166121, 1.8829720647783421, 1.320112956074407, 0.42394324402947475, 0.466299928509142, 0.9415282138953815, -0.7707938096473991], \"type\": \"scatter\", \"line\": {\"dash\": \"solid\", \"width\": 1.3, \"color\": \"rgba(128, 128, 128, 1.0)\"}, \"marker\": {\"size\": 2, \"symbol\": \"dot\"}, \"name\": \"A\"}, {\"yaxis\": \"y4\", \"mode\": \"markers\", \"text\": \"\", \"xaxis\": \"x4\", \"x\": [0.5439560303056027, 1.8421879324257613, -0.6375584499267892, -1.113621595762316, -2.5460826344966634, -1.4694525849240658, 1.5284509091178395, -0.2389286047643509, -1.8771013496698048, 0.7967095179585106, -1.2751392945819797, -0.3919771719871495, 0.6960770780779357, 1.0829877919884603, -0.21798245190329507, 0.10031667681839129, 0.39551692710003933, 0.03022462233656908, -0.3327329523770193, -0.204819010502919, -0.498599044144297, -2.287561059130041, -0.2626249290420713, -2.7487145066091996, -0.666926270349069, -2.0379098459994895, 0.4076679798231559, 1.2245324594636484, -2.0903293143661017, 0.5730523735386692, -0.8155129116660126, -0.9572874252328925, 0.2646752398006613, -1.59152570791709, 0.0934028853207141, -2.602771223170992, 0.560010384592385, 0.449602390416327, -0.005796794476065169, 0.1829347250578045, -0.5607194705468903, -1.1999112237192675, -1.5750218946994066, 0.9111111432091317, -0.2530599561069696, -0.5460310452823662, -0.2531538203527998, 1.5968736605431069, 1.723507060923573, 0.38763182009739877, -1.5443680470309729, 1.2505835233573588, 0.0032375885699842803, 0.3870066878402003, -0.32906689091979147, 0.3856397258220775, -0.1654479720586817, 0.2232842423247386, -0.4418766853437538, -0.6751906059090874, -1.6521803078301385, 0.8305325757578166, 0.6577807720682736, -1.2851830040136305, 0.5089005765755124, 0.5962021316815027, 0.9573351203673642, -1.7458475655160375, -1.7131000048598244, 1.5732405203322046, -0.6605298861077683, -1.3437487967599893, 1.9772828633357302, -0.2856844646078326, 0.19293980157348012, 0.1628250911198371, 0.4208217295167736, 0.5627226183638288, -1.058090429960864, -1.3589615830656872, 2.138807050366944, 0.885718335515041, 0.8374040360650308, 0.49834346725709405, -1.3963572343750588, 2.2245606506923625, 0.19641383189506273, -0.3435398382353588, 0.7215114388529363, -0.8327583822270256, -2.039974975731211, 1.2859290252046311, -1.1577060578657161, 0.36795754346511866, 0.970791311065794, 0.496204293102698, -0.05627542841788665, 0.10113620396598295, 0.7547476274222054, 0.15433234934660506], \"y\": [1.8787246669561561, 0.028733616663923985, -0.1587931161277573, -1.2219723462024636, 1.2531523973363488, 0.8312132082951045, 1.1740170898586173, -0.24393002059589958, -0.296966543277261, 0.7621695759158762, 0.04210347865555278, -0.7791970481917073, 0.3943032396655093, -1.0146190736152443, -0.4841710096782867, 0.5522466668361006, -2.77187556758784, -0.5181226698708166, -0.49722040792422156, -1.6534757596659548, -0.06027439377033132, 1.4769243769038323, 1.1796346669498379, -0.7816898015019265, 0.8630132212967984, 0.6590246731638996, -1.1013906677685679, -0.9446804895542242, -1.788022470413331, 0.8775002821729455, 0.3546715768521251, -0.16532125735222183, 1.8914747239632839, -1.1251772915449791, 0.8888981026894395, -0.6066117727706714, 0.8314777742724779, 0.3830457069359529, -0.937459527593053, -0.844561047334305, 1.1280232245052606, -1.640427972598561, 0.8971269652786067, 0.4848047458342485, 0.19373507090654035, -0.7387091317560727, -0.3566733282792827, -0.43158335134818315, -0.4899640124314907, 0.5488715658495908, 0.2821768987731658, -0.8832439438038343, 1.271863067044618, 0.10680856505919414, 0.8269478103679717, -0.03266751467505833, -0.34021520002722894, -0.6769186069469743, 0.7126188256918854, 1.8871150025438166, -0.06742662656190869, -1.4789736197389265, 0.346978601690099, -0.3757389938313092, 0.715285859520045, 1.5994858611908638, -0.3692558358591885, 0.13827360227735647, -0.40690530542342296, 0.636973800943974, 0.14658752987818605, -0.3949906255692418, 1.5076392623927681, -0.15486042602397807, 0.22159940179664614, -1.0878244818277978, -0.03354417910293162, 1.2258839316932069, -0.048951028800266715, -1.1089870994157809, 0.021452684803338333, 1.2548854256528554, -1.0913797662237141, -0.539059741192553, 0.6901269187662552, -1.4810451728120602, -0.8468654201203714, 0.3763927872506507, 0.8120568488462931, 0.0031767062628090745, 0.697742291538818, -0.7429703118062226, -0.842231117346612, -0.0666718362166121, 1.8829720647783421, 1.320112956074407, 0.42394324402947475, 0.466299928509142, 0.9415282138953815, -0.7707938096473991], \"type\": \"scatter\", \"line\": {\"dash\": \"solid\", \"width\": 1.3, \"color\": \"rgba(128, 128, 128, 1.0)\"}, \"marker\": {\"size\": 2, \"symbol\": \"dot\"}, \"name\": \"A\"}, {\"yaxis\": \"y5\", \"mode\": \"markers\", \"text\": \"\", \"xaxis\": \"x5\", \"x\": [1.8787246669561561, 0.028733616663923985, -0.1587931161277573, -1.2219723462024636, 1.2531523973363488, 0.8312132082951045, 1.1740170898586173, -0.24393002059589958, -0.296966543277261, 0.7621695759158762, 0.04210347865555278, -0.7791970481917073, 0.3943032396655093, -1.0146190736152443, -0.4841710096782867, 0.5522466668361006, -2.77187556758784, -0.5181226698708166, -0.49722040792422156, -1.6534757596659548, -0.06027439377033132, 1.4769243769038323, 1.1796346669498379, -0.7816898015019265, 0.8630132212967984, 0.6590246731638996, -1.1013906677685679, -0.9446804895542242, -1.788022470413331, 0.8775002821729455, 0.3546715768521251, -0.16532125735222183, 1.8914747239632839, -1.1251772915449791, 0.8888981026894395, -0.6066117727706714, 0.8314777742724779, 0.3830457069359529, -0.937459527593053, -0.844561047334305, 1.1280232245052606, -1.640427972598561, 0.8971269652786067, 0.4848047458342485, 0.19373507090654035, -0.7387091317560727, -0.3566733282792827, -0.43158335134818315, -0.4899640124314907, 0.5488715658495908, 0.2821768987731658, -0.8832439438038343, 1.271863067044618, 0.10680856505919414, 0.8269478103679717, -0.03266751467505833, -0.34021520002722894, -0.6769186069469743, 0.7126188256918854, 1.8871150025438166, -0.06742662656190869, -1.4789736197389265, 0.346978601690099, -0.3757389938313092, 0.715285859520045, 1.5994858611908638, -0.3692558358591885, 0.13827360227735647, -0.40690530542342296, 0.636973800943974, 0.14658752987818605, -0.3949906255692418, 1.5076392623927681, -0.15486042602397807, 0.22159940179664614, -1.0878244818277978, -0.03354417910293162, 1.2258839316932069, -0.048951028800266715, -1.1089870994157809, 0.021452684803338333, 1.2548854256528554, -1.0913797662237141, -0.539059741192553, 0.6901269187662552, -1.4810451728120602, -0.8468654201203714, 0.3763927872506507, 0.8120568488462931, 0.0031767062628090745, 0.697742291538818, -0.7429703118062226, -0.842231117346612, -0.0666718362166121, 1.8829720647783421, 1.320112956074407, 0.42394324402947475, 0.466299928509142, 0.9415282138953815, -0.7707938096473991], \"y\": [0.6887194376286498, 0.1040535242504629, 0.38792642015276635, 1.3934230260395444, -0.5375976688704683, -1.1493608786796612, 0.01342890849383506, -0.47231861415738574, 0.24793169472844812, -0.6232083144122951, -1.2121596694710122, -2.4542371001007464, 0.29855785553142483, 1.2997620162676498, 0.9168047366909585, -0.41040614900130634, 1.3147531456519106, -0.12455263569370086, 0.9366143523054554, 0.23573463729990726, -0.8244746170540388, -0.32685668230128845, 1.501781503113865, 0.9830012153240587, 0.6020112305361386, 0.3688304138086671, 1.0090827131320237, -0.5811720111587422, 0.0512884505619472, -1.6917643070157176, -0.25322144257612356, -0.2937357494665306, 0.7368726362448421, 0.5763424997076779, 0.16472110066593693, -0.374254076023172, 1.1280304809680426, 0.6455371548668151, -0.18000225503004413, -0.9128911232313937, -0.5670695205365133, 0.16138491502455474, 1.2118733837294762, 0.4444506280024997, 0.6834767601409083, 1.8020727241195935, 2.4230878273709062, 0.27701889696287213, 1.4067122280705426, -0.33728919328412016, 0.5154870435338148, 0.7751019637809062, 1.400130435077449, 0.8276591566099151, 1.1268119555303864, 0.7016118169589718, 0.476169530704683, -0.5261125753709399, -1.2129692872143456, 0.6126338497954396, 1.5825905557818922, -0.8173630045970658, 0.1075602248072928, 1.2716988894407462, -0.15615948990467535, -0.2968566839654392, 1.7204934641303604, -0.869876624137026, 0.28935077735906545, -1.2052876742800458, -0.263979336251353, -0.02815365780209253, -0.04062347728476395, 0.943760296027789, -1.7797735906553165, 0.4485755919087686, 0.14778332986993048, 0.5305019463041807, 1.6359913516932165, -0.3437427119285297, 1.9109783094330681, 0.6818924480193401, -0.42214824562337705, 0.8935317581184008, 1.2587495288352297, -0.5992845246668753, 2.7851237345776405, -1.5158096238899554, 0.04177421570103183, 0.48980398157362903, 1.063643861677667, -0.8486329162129157, -1.86936339853131, 0.24761777046722996, 1.290606988097702, 0.17046338292604407, 0.14181179559597848, 0.6505415244850333, -2.5850581533594545, -0.30813091794721653], \"type\": \"scatter\", \"line\": {\"dash\": \"solid\", \"width\": 1.3, \"color\": \"rgba(128, 128, 128, 1.0)\"}, \"marker\": {\"size\": 2, \"symbol\": \"dot\"}, \"name\": \"B\"}, {\"yaxis\": \"y6\", \"x\": [0.6887194376286498, 0.1040535242504629, 0.38792642015276635, 1.3934230260395444, -0.5375976688704683, -1.1493608786796612, 0.01342890849383506, -0.47231861415738574, 0.24793169472844812, -0.6232083144122951, -1.2121596694710122, -2.4542371001007464, 0.29855785553142483, 1.2997620162676498, 0.9168047366909585, -0.41040614900130634, 1.3147531456519106, -0.12455263569370086, 0.9366143523054554, 0.23573463729990726, -0.8244746170540388, -0.32685668230128845, 1.501781503113865, 0.9830012153240587, 0.6020112305361386, 0.3688304138086671, 1.0090827131320237, -0.5811720111587422, 0.0512884505619472, -1.6917643070157176, -0.25322144257612356, -0.2937357494665306, 0.7368726362448421, 0.5763424997076779, 0.16472110066593693, -0.374254076023172, 1.1280304809680426, 0.6455371548668151, -0.18000225503004413, -0.9128911232313937, -0.5670695205365133, 0.16138491502455474, 1.2118733837294762, 0.4444506280024997, 0.6834767601409083, 1.8020727241195935, 2.4230878273709062, 0.27701889696287213, 1.4067122280705426, -0.33728919328412016, 0.5154870435338148, 0.7751019637809062, 1.400130435077449, 0.8276591566099151, 1.1268119555303864, 0.7016118169589718, 0.476169530704683, -0.5261125753709399, -1.2129692872143456, 0.6126338497954396, 1.5825905557818922, -0.8173630045970658, 0.1075602248072928, 1.2716988894407462, -0.15615948990467535, -0.2968566839654392, 1.7204934641303604, -0.869876624137026, 0.28935077735906545, -1.2052876742800458, -0.263979336251353, -0.02815365780209253, -0.04062347728476395, 0.943760296027789, -1.7797735906553165, 0.4485755919087686, 0.14778332986993048, 0.5305019463041807, 1.6359913516932165, -0.3437427119285297, 1.9109783094330681, 0.6818924480193401, -0.42214824562337705, 0.8935317581184008, 1.2587495288352297, -0.5992845246668753, 2.7851237345776405, -1.5158096238899554, 0.04177421570103183, 0.48980398157362903, 1.063643861677667, -0.8486329162129157, -1.86936339853131, 0.24761777046722996, 1.290606988097702, 0.17046338292604407, 0.14181179559597848, 0.6505415244850333, -2.5850581533594545, -0.30813091794721653], \"orientation\": \"v\", \"name\": \"B\", \"opacity\": 0.8, \"histfunc\": \"count\", \"type\": \"histogram\", \"histnorm\": \"\", \"nbinsx\": 10, \"marker\": {\"line\": {\"width\": 1.3, \"color\": \"#D9D9D9\"}, \"color\": \"rgba(62, 111, 176, 1.0)\"}, \"xaxis\": \"x6\"}, {\"yaxis\": \"y7\", \"mode\": \"markers\", \"text\": \"\", \"xaxis\": \"x7\", \"x\": [1.0667334168325768, 0.04817571551860875, -0.6353709157290994, -0.29979428249659507, 0.30291706303457033, -1.2658520234759039, 0.4984256330100474, -0.4813817437844393, 1.6528819231392327, -1.0387894611418347, -1.4866253379043493, -0.5281135473322252, -0.061645252730345844, 0.7876423965771268, 0.9285191892602837, -3.0483938246413547, -0.371184208418135, 0.11169331199774239, 0.30352330980386477, -1.1851393464396252, -0.3023997655692267, 1.4199893168847753, -0.332851303404407, 0.7955908630250091, 0.5869705278914006, -0.45090328668726354, -0.7814566611757896, -0.1261200409144497, 0.7060858452328673, -0.8894721878843294, 0.6064992291432117, -0.1963991863666514, 0.16697094643083513, -0.06591707111576753, 0.8961422265850149, 0.8939803073905991, 0.2526177880230376, -1.2523243277936627, 0.9749672569040144, 0.9687477057343876, 0.26351967435246515, -0.9517261189215155, -0.18707956459088698, -0.39391833601946274, 0.5273775265831957, -0.48180251718398176, -2.2230374431929953, 2.0999928572789828, 0.5496483529576708, 1.067298459209482, -0.3040289105606048, 0.1352094843666391, -0.9944404721270197, 2.2258275006902912, -0.11689955437978636, 0.41231462999024887, 0.7856039151273921, -0.6894731524779986, -0.8276899193670904, 0.23638272241448607, 1.3266743967632526, 0.9626096963262857, -0.28379390855690406, -0.417413711892243, -1.3341211120615861, 0.9298055489835776, 2.106720126861483, 0.23150307059926345, 0.8864836518334782, 0.4193977048083098, 0.3190869644200757, 0.9673541346062681, 0.42245148076732175, 1.0906377526894717, 1.3887188298690671, -0.19507483218944058, -0.9347090401182315, 0.30126885232107575, 0.42495072953595375, -0.9170212042816844, -1.6965969381460768, -0.011576471618042839, -1.0479065708976978, -0.4749222730814971, 0.4229046102099884, 0.08254929486846736, -0.7783883617548714, -0.17950878512595098, 0.4391940123110264, -1.9667304216807953, -1.5652802021531136, 0.8163770970520242, -0.008375093041838632, 0.5510487504106222, -0.4239325998518183, -0.1297116221823799, -0.10728910870450034, -0.12169367361116121, -0.6905111268638191, -0.2653540299125418], \"y\": [0.6887194376286498, 0.1040535242504629, 0.38792642015276635, 1.3934230260395444, -0.5375976688704683, -1.1493608786796612, 0.01342890849383506, -0.47231861415738574, 0.24793169472844812, -0.6232083144122951, -1.2121596694710122, -2.4542371001007464, 0.29855785553142483, 1.2997620162676498, 0.9168047366909585, -0.41040614900130634, 1.3147531456519106, -0.12455263569370086, 0.9366143523054554, 0.23573463729990726, -0.8244746170540388, -0.32685668230128845, 1.501781503113865, 0.9830012153240587, 0.6020112305361386, 0.3688304138086671, 1.0090827131320237, -0.5811720111587422, 0.0512884505619472, -1.6917643070157176, -0.25322144257612356, -0.2937357494665306, 0.7368726362448421, 0.5763424997076779, 0.16472110066593693, -0.374254076023172, 1.1280304809680426, 0.6455371548668151, -0.18000225503004413, -0.9128911232313937, -0.5670695205365133, 0.16138491502455474, 1.2118733837294762, 0.4444506280024997, 0.6834767601409083, 1.8020727241195935, 2.4230878273709062, 0.27701889696287213, 1.4067122280705426, -0.33728919328412016, 0.5154870435338148, 0.7751019637809062, 1.400130435077449, 0.8276591566099151, 1.1268119555303864, 0.7016118169589718, 0.476169530704683, -0.5261125753709399, -1.2129692872143456, 0.6126338497954396, 1.5825905557818922, -0.8173630045970658, 0.1075602248072928, 1.2716988894407462, -0.15615948990467535, -0.2968566839654392, 1.7204934641303604, -0.869876624137026, 0.28935077735906545, -1.2052876742800458, -0.263979336251353, -0.02815365780209253, -0.04062347728476395, 0.943760296027789, -1.7797735906553165, 0.4485755919087686, 0.14778332986993048, 0.5305019463041807, 1.6359913516932165, -0.3437427119285297, 1.9109783094330681, 0.6818924480193401, -0.42214824562337705, 0.8935317581184008, 1.2587495288352297, -0.5992845246668753, 2.7851237345776405, -1.5158096238899554, 0.04177421570103183, 0.48980398157362903, 1.063643861677667, -0.8486329162129157, -1.86936339853131, 0.24761777046722996, 1.290606988097702, 0.17046338292604407, 0.14181179559597848, 0.6505415244850333, -2.5850581533594545, -0.30813091794721653], \"type\": \"scatter\", \"line\": {\"dash\": \"solid\", \"width\": 1.3, \"color\": \"rgba(128, 128, 128, 1.0)\"}, \"marker\": {\"size\": 2, \"symbol\": \"dot\"}, \"name\": \"B\"}, {\"yaxis\": \"y8\", \"mode\": \"markers\", \"text\": \"\", \"xaxis\": \"x8\", \"x\": [0.5439560303056027, 1.8421879324257613, -0.6375584499267892, -1.113621595762316, -2.5460826344966634, -1.4694525849240658, 1.5284509091178395, -0.2389286047643509, -1.8771013496698048, 0.7967095179585106, -1.2751392945819797, -0.3919771719871495, 0.6960770780779357, 1.0829877919884603, -0.21798245190329507, 0.10031667681839129, 0.39551692710003933, 0.03022462233656908, -0.3327329523770193, -0.204819010502919, -0.498599044144297, -2.287561059130041, -0.2626249290420713, -2.7487145066091996, -0.666926270349069, -2.0379098459994895, 0.4076679798231559, 1.2245324594636484, -2.0903293143661017, 0.5730523735386692, -0.8155129116660126, -0.9572874252328925, 0.2646752398006613, -1.59152570791709, 0.0934028853207141, -2.602771223170992, 0.560010384592385, 0.449602390416327, -0.005796794476065169, 0.1829347250578045, -0.5607194705468903, -1.1999112237192675, -1.5750218946994066, 0.9111111432091317, -0.2530599561069696, -0.5460310452823662, -0.2531538203527998, 1.5968736605431069, 1.723507060923573, 0.38763182009739877, -1.5443680470309729, 1.2505835233573588, 0.0032375885699842803, 0.3870066878402003, -0.32906689091979147, 0.3856397258220775, -0.1654479720586817, 0.2232842423247386, -0.4418766853437538, -0.6751906059090874, -1.6521803078301385, 0.8305325757578166, 0.6577807720682736, -1.2851830040136305, 0.5089005765755124, 0.5962021316815027, 0.9573351203673642, -1.7458475655160375, -1.7131000048598244, 1.5732405203322046, -0.6605298861077683, -1.3437487967599893, 1.9772828633357302, -0.2856844646078326, 0.19293980157348012, 0.1628250911198371, 0.4208217295167736, 0.5627226183638288, -1.058090429960864, -1.3589615830656872, 2.138807050366944, 0.885718335515041, 0.8374040360650308, 0.49834346725709405, -1.3963572343750588, 2.2245606506923625, 0.19641383189506273, -0.3435398382353588, 0.7215114388529363, -0.8327583822270256, -2.039974975731211, 1.2859290252046311, -1.1577060578657161, 0.36795754346511866, 0.970791311065794, 0.496204293102698, -0.05627542841788665, 0.10113620396598295, 0.7547476274222054, 0.15433234934660506], \"y\": [0.6887194376286498, 0.1040535242504629, 0.38792642015276635, 1.3934230260395444, -0.5375976688704683, -1.1493608786796612, 0.01342890849383506, -0.47231861415738574, 0.24793169472844812, -0.6232083144122951, -1.2121596694710122, -2.4542371001007464, 0.29855785553142483, 1.2997620162676498, 0.9168047366909585, -0.41040614900130634, 1.3147531456519106, -0.12455263569370086, 0.9366143523054554, 0.23573463729990726, -0.8244746170540388, -0.32685668230128845, 1.501781503113865, 0.9830012153240587, 0.6020112305361386, 0.3688304138086671, 1.0090827131320237, -0.5811720111587422, 0.0512884505619472, -1.6917643070157176, -0.25322144257612356, -0.2937357494665306, 0.7368726362448421, 0.5763424997076779, 0.16472110066593693, -0.374254076023172, 1.1280304809680426, 0.6455371548668151, -0.18000225503004413, -0.9128911232313937, -0.5670695205365133, 0.16138491502455474, 1.2118733837294762, 0.4444506280024997, 0.6834767601409083, 1.8020727241195935, 2.4230878273709062, 0.27701889696287213, 1.4067122280705426, -0.33728919328412016, 0.5154870435338148, 0.7751019637809062, 1.400130435077449, 0.8276591566099151, 1.1268119555303864, 0.7016118169589718, 0.476169530704683, -0.5261125753709399, -1.2129692872143456, 0.6126338497954396, 1.5825905557818922, -0.8173630045970658, 0.1075602248072928, 1.2716988894407462, -0.15615948990467535, -0.2968566839654392, 1.7204934641303604, -0.869876624137026, 0.28935077735906545, -1.2052876742800458, -0.263979336251353, -0.02815365780209253, -0.04062347728476395, 0.943760296027789, -1.7797735906553165, 0.4485755919087686, 0.14778332986993048, 0.5305019463041807, 1.6359913516932165, -0.3437427119285297, 1.9109783094330681, 0.6818924480193401, -0.42214824562337705, 0.8935317581184008, 1.2587495288352297, -0.5992845246668753, 2.7851237345776405, -1.5158096238899554, 0.04177421570103183, 0.48980398157362903, 1.063643861677667, -0.8486329162129157, -1.86936339853131, 0.24761777046722996, 1.290606988097702, 0.17046338292604407, 0.14181179559597848, 0.6505415244850333, -2.5850581533594545, -0.30813091794721653], \"type\": \"scatter\", \"line\": {\"dash\": \"solid\", \"width\": 1.3, \"color\": \"rgba(128, 128, 128, 1.0)\"}, \"marker\": {\"size\": 2, \"symbol\": \"dot\"}, \"name\": \"B\"}, {\"yaxis\": \"y9\", \"mode\": \"markers\", \"text\": \"\", \"xaxis\": \"x9\", \"x\": [1.8787246669561561, 0.028733616663923985, -0.1587931161277573, -1.2219723462024636, 1.2531523973363488, 0.8312132082951045, 1.1740170898586173, -0.24393002059589958, -0.296966543277261, 0.7621695759158762, 0.04210347865555278, -0.7791970481917073, 0.3943032396655093, -1.0146190736152443, -0.4841710096782867, 0.5522466668361006, -2.77187556758784, -0.5181226698708166, -0.49722040792422156, -1.6534757596659548, -0.06027439377033132, 1.4769243769038323, 1.1796346669498379, -0.7816898015019265, 0.8630132212967984, 0.6590246731638996, -1.1013906677685679, -0.9446804895542242, -1.788022470413331, 0.8775002821729455, 0.3546715768521251, -0.16532125735222183, 1.8914747239632839, -1.1251772915449791, 0.8888981026894395, -0.6066117727706714, 0.8314777742724779, 0.3830457069359529, -0.937459527593053, -0.844561047334305, 1.1280232245052606, -1.640427972598561, 0.8971269652786067, 0.4848047458342485, 0.19373507090654035, -0.7387091317560727, -0.3566733282792827, -0.43158335134818315, -0.4899640124314907, 0.5488715658495908, 0.2821768987731658, -0.8832439438038343, 1.271863067044618, 0.10680856505919414, 0.8269478103679717, -0.03266751467505833, -0.34021520002722894, -0.6769186069469743, 0.7126188256918854, 1.8871150025438166, -0.06742662656190869, -1.4789736197389265, 0.346978601690099, -0.3757389938313092, 0.715285859520045, 1.5994858611908638, -0.3692558358591885, 0.13827360227735647, -0.40690530542342296, 0.636973800943974, 0.14658752987818605, -0.3949906255692418, 1.5076392623927681, -0.15486042602397807, 0.22159940179664614, -1.0878244818277978, -0.03354417910293162, 1.2258839316932069, -0.048951028800266715, -1.1089870994157809, 0.021452684803338333, 1.2548854256528554, -1.0913797662237141, -0.539059741192553, 0.6901269187662552, -1.4810451728120602, -0.8468654201203714, 0.3763927872506507, 0.8120568488462931, 0.0031767062628090745, 0.697742291538818, -0.7429703118062226, -0.842231117346612, -0.0666718362166121, 1.8829720647783421, 1.320112956074407, 0.42394324402947475, 0.466299928509142, 0.9415282138953815, -0.7707938096473991], \"y\": [1.0667334168325768, 0.04817571551860875, -0.6353709157290994, -0.29979428249659507, 0.30291706303457033, -1.2658520234759039, 0.4984256330100474, -0.4813817437844393, 1.6528819231392327, -1.0387894611418347, -1.4866253379043493, -0.5281135473322252, -0.061645252730345844, 0.7876423965771268, 0.9285191892602837, -3.0483938246413547, -0.371184208418135, 0.11169331199774239, 0.30352330980386477, -1.1851393464396252, -0.3023997655692267, 1.4199893168847753, -0.332851303404407, 0.7955908630250091, 0.5869705278914006, -0.45090328668726354, -0.7814566611757896, -0.1261200409144497, 0.7060858452328673, -0.8894721878843294, 0.6064992291432117, -0.1963991863666514, 0.16697094643083513, -0.06591707111576753, 0.8961422265850149, 0.8939803073905991, 0.2526177880230376, -1.2523243277936627, 0.9749672569040144, 0.9687477057343876, 0.26351967435246515, -0.9517261189215155, -0.18707956459088698, -0.39391833601946274, 0.5273775265831957, -0.48180251718398176, -2.2230374431929953, 2.0999928572789828, 0.5496483529576708, 1.067298459209482, -0.3040289105606048, 0.1352094843666391, -0.9944404721270197, 2.2258275006902912, -0.11689955437978636, 0.41231462999024887, 0.7856039151273921, -0.6894731524779986, -0.8276899193670904, 0.23638272241448607, 1.3266743967632526, 0.9626096963262857, -0.28379390855690406, -0.417413711892243, -1.3341211120615861, 0.9298055489835776, 2.106720126861483, 0.23150307059926345, 0.8864836518334782, 0.4193977048083098, 0.3190869644200757, 0.9673541346062681, 0.42245148076732175, 1.0906377526894717, 1.3887188298690671, -0.19507483218944058, -0.9347090401182315, 0.30126885232107575, 0.42495072953595375, -0.9170212042816844, -1.6965969381460768, -0.011576471618042839, -1.0479065708976978, -0.4749222730814971, 0.4229046102099884, 0.08254929486846736, -0.7783883617548714, -0.17950878512595098, 0.4391940123110264, -1.9667304216807953, -1.5652802021531136, 0.8163770970520242, -0.008375093041838632, 0.5510487504106222, -0.4239325998518183, -0.1297116221823799, -0.10728910870450034, -0.12169367361116121, -0.6905111268638191, -0.2653540299125418], \"type\": \"scatter\", \"line\": {\"dash\": \"solid\", \"width\": 1.3, \"color\": \"rgba(128, 128, 128, 1.0)\"}, \"marker\": {\"size\": 2, \"symbol\": \"dot\"}, \"name\": \"C\"}, {\"yaxis\": \"y10\", \"mode\": \"markers\", \"text\": \"\", \"xaxis\": \"x10\", \"x\": [0.6887194376286498, 0.1040535242504629, 0.38792642015276635, 1.3934230260395444, -0.5375976688704683, -1.1493608786796612, 0.01342890849383506, -0.47231861415738574, 0.24793169472844812, -0.6232083144122951, -1.2121596694710122, -2.4542371001007464, 0.29855785553142483, 1.2997620162676498, 0.9168047366909585, -0.41040614900130634, 1.3147531456519106, -0.12455263569370086, 0.9366143523054554, 0.23573463729990726, -0.8244746170540388, -0.32685668230128845, 1.501781503113865, 0.9830012153240587, 0.6020112305361386, 0.3688304138086671, 1.0090827131320237, -0.5811720111587422, 0.0512884505619472, -1.6917643070157176, -0.25322144257612356, -0.2937357494665306, 0.7368726362448421, 0.5763424997076779, 0.16472110066593693, -0.374254076023172, 1.1280304809680426, 0.6455371548668151, -0.18000225503004413, -0.9128911232313937, -0.5670695205365133, 0.16138491502455474, 1.2118733837294762, 0.4444506280024997, 0.6834767601409083, 1.8020727241195935, 2.4230878273709062, 0.27701889696287213, 1.4067122280705426, -0.33728919328412016, 0.5154870435338148, 0.7751019637809062, 1.400130435077449, 0.8276591566099151, 1.1268119555303864, 0.7016118169589718, 0.476169530704683, -0.5261125753709399, -1.2129692872143456, 0.6126338497954396, 1.5825905557818922, -0.8173630045970658, 0.1075602248072928, 1.2716988894407462, -0.15615948990467535, -0.2968566839654392, 1.7204934641303604, -0.869876624137026, 0.28935077735906545, -1.2052876742800458, -0.263979336251353, -0.02815365780209253, -0.04062347728476395, 0.943760296027789, -1.7797735906553165, 0.4485755919087686, 0.14778332986993048, 0.5305019463041807, 1.6359913516932165, -0.3437427119285297, 1.9109783094330681, 0.6818924480193401, -0.42214824562337705, 0.8935317581184008, 1.2587495288352297, -0.5992845246668753, 2.7851237345776405, -1.5158096238899554, 0.04177421570103183, 0.48980398157362903, 1.063643861677667, -0.8486329162129157, -1.86936339853131, 0.24761777046722996, 1.290606988097702, 0.17046338292604407, 0.14181179559597848, 0.6505415244850333, -2.5850581533594545, -0.30813091794721653], \"y\": [1.0667334168325768, 0.04817571551860875, -0.6353709157290994, -0.29979428249659507, 0.30291706303457033, -1.2658520234759039, 0.4984256330100474, -0.4813817437844393, 1.6528819231392327, -1.0387894611418347, -1.4866253379043493, -0.5281135473322252, -0.061645252730345844, 0.7876423965771268, 0.9285191892602837, -3.0483938246413547, -0.371184208418135, 0.11169331199774239, 0.30352330980386477, -1.1851393464396252, -0.3023997655692267, 1.4199893168847753, -0.332851303404407, 0.7955908630250091, 0.5869705278914006, -0.45090328668726354, -0.7814566611757896, -0.1261200409144497, 0.7060858452328673, -0.8894721878843294, 0.6064992291432117, -0.1963991863666514, 0.16697094643083513, -0.06591707111576753, 0.8961422265850149, 0.8939803073905991, 0.2526177880230376, -1.2523243277936627, 0.9749672569040144, 0.9687477057343876, 0.26351967435246515, -0.9517261189215155, -0.18707956459088698, -0.39391833601946274, 0.5273775265831957, -0.48180251718398176, -2.2230374431929953, 2.0999928572789828, 0.5496483529576708, 1.067298459209482, -0.3040289105606048, 0.1352094843666391, -0.9944404721270197, 2.2258275006902912, -0.11689955437978636, 0.41231462999024887, 0.7856039151273921, -0.6894731524779986, -0.8276899193670904, 0.23638272241448607, 1.3266743967632526, 0.9626096963262857, -0.28379390855690406, -0.417413711892243, -1.3341211120615861, 0.9298055489835776, 2.106720126861483, 0.23150307059926345, 0.8864836518334782, 0.4193977048083098, 0.3190869644200757, 0.9673541346062681, 0.42245148076732175, 1.0906377526894717, 1.3887188298690671, -0.19507483218944058, -0.9347090401182315, 0.30126885232107575, 0.42495072953595375, -0.9170212042816844, -1.6965969381460768, -0.011576471618042839, -1.0479065708976978, -0.4749222730814971, 0.4229046102099884, 0.08254929486846736, -0.7783883617548714, -0.17950878512595098, 0.4391940123110264, -1.9667304216807953, -1.5652802021531136, 0.8163770970520242, -0.008375093041838632, 0.5510487504106222, -0.4239325998518183, -0.1297116221823799, -0.10728910870450034, -0.12169367361116121, -0.6905111268638191, -0.2653540299125418], \"type\": \"scatter\", \"line\": {\"dash\": \"solid\", \"width\": 1.3, \"color\": \"rgba(128, 128, 128, 1.0)\"}, \"marker\": {\"size\": 2, \"symbol\": \"dot\"}, \"name\": \"C\"}, {\"yaxis\": \"y11\", \"x\": [1.0667334168325768, 0.04817571551860875, -0.6353709157290994, -0.29979428249659507, 0.30291706303457033, -1.2658520234759039, 0.4984256330100474, -0.4813817437844393, 1.6528819231392327, -1.0387894611418347, -1.4866253379043493, -0.5281135473322252, -0.061645252730345844, 0.7876423965771268, 0.9285191892602837, -3.0483938246413547, -0.371184208418135, 0.11169331199774239, 0.30352330980386477, -1.1851393464396252, -0.3023997655692267, 1.4199893168847753, -0.332851303404407, 0.7955908630250091, 0.5869705278914006, -0.45090328668726354, -0.7814566611757896, -0.1261200409144497, 0.7060858452328673, -0.8894721878843294, 0.6064992291432117, -0.1963991863666514, 0.16697094643083513, -0.06591707111576753, 0.8961422265850149, 0.8939803073905991, 0.2526177880230376, -1.2523243277936627, 0.9749672569040144, 0.9687477057343876, 0.26351967435246515, -0.9517261189215155, -0.18707956459088698, -0.39391833601946274, 0.5273775265831957, -0.48180251718398176, -2.2230374431929953, 2.0999928572789828, 0.5496483529576708, 1.067298459209482, -0.3040289105606048, 0.1352094843666391, -0.9944404721270197, 2.2258275006902912, -0.11689955437978636, 0.41231462999024887, 0.7856039151273921, -0.6894731524779986, -0.8276899193670904, 0.23638272241448607, 1.3266743967632526, 0.9626096963262857, -0.28379390855690406, -0.417413711892243, -1.3341211120615861, 0.9298055489835776, 2.106720126861483, 0.23150307059926345, 0.8864836518334782, 0.4193977048083098, 0.3190869644200757, 0.9673541346062681, 0.42245148076732175, 1.0906377526894717, 1.3887188298690671, -0.19507483218944058, -0.9347090401182315, 0.30126885232107575, 0.42495072953595375, -0.9170212042816844, -1.6965969381460768, -0.011576471618042839, -1.0479065708976978, -0.4749222730814971, 0.4229046102099884, 0.08254929486846736, -0.7783883617548714, -0.17950878512595098, 0.4391940123110264, -1.9667304216807953, -1.5652802021531136, 0.8163770970520242, -0.008375093041838632, 0.5510487504106222, -0.4239325998518183, -0.1297116221823799, -0.10728910870450034, -0.12169367361116121, -0.6905111268638191, -0.2653540299125418], \"orientation\": \"v\", \"name\": \"C\", \"opacity\": 0.8, \"histfunc\": \"count\", \"type\": \"histogram\", \"histnorm\": \"\", \"nbinsx\": 10, \"marker\": {\"line\": {\"width\": 1.3, \"color\": \"#D9D9D9\"}, \"color\": \"rgba(132, 118, 202, 1.0)\"}, \"xaxis\": \"x11\"}, {\"yaxis\": \"y12\", \"mode\": \"markers\", \"text\": \"\", \"xaxis\": \"x12\", \"x\": [0.5439560303056027, 1.8421879324257613, -0.6375584499267892, -1.113621595762316, -2.5460826344966634, -1.4694525849240658, 1.5284509091178395, -0.2389286047643509, -1.8771013496698048, 0.7967095179585106, -1.2751392945819797, -0.3919771719871495, 0.6960770780779357, 1.0829877919884603, -0.21798245190329507, 0.10031667681839129, 0.39551692710003933, 0.03022462233656908, -0.3327329523770193, -0.204819010502919, -0.498599044144297, -2.287561059130041, -0.2626249290420713, -2.7487145066091996, -0.666926270349069, -2.0379098459994895, 0.4076679798231559, 1.2245324594636484, -2.0903293143661017, 0.5730523735386692, -0.8155129116660126, -0.9572874252328925, 0.2646752398006613, -1.59152570791709, 0.0934028853207141, -2.602771223170992, 0.560010384592385, 0.449602390416327, -0.005796794476065169, 0.1829347250578045, -0.5607194705468903, -1.1999112237192675, -1.5750218946994066, 0.9111111432091317, -0.2530599561069696, -0.5460310452823662, -0.2531538203527998, 1.5968736605431069, 1.723507060923573, 0.38763182009739877, -1.5443680470309729, 1.2505835233573588, 0.0032375885699842803, 0.3870066878402003, -0.32906689091979147, 0.3856397258220775, -0.1654479720586817, 0.2232842423247386, -0.4418766853437538, -0.6751906059090874, -1.6521803078301385, 0.8305325757578166, 0.6577807720682736, -1.2851830040136305, 0.5089005765755124, 0.5962021316815027, 0.9573351203673642, -1.7458475655160375, -1.7131000048598244, 1.5732405203322046, -0.6605298861077683, -1.3437487967599893, 1.9772828633357302, -0.2856844646078326, 0.19293980157348012, 0.1628250911198371, 0.4208217295167736, 0.5627226183638288, -1.058090429960864, -1.3589615830656872, 2.138807050366944, 0.885718335515041, 0.8374040360650308, 0.49834346725709405, -1.3963572343750588, 2.2245606506923625, 0.19641383189506273, -0.3435398382353588, 0.7215114388529363, -0.8327583822270256, -2.039974975731211, 1.2859290252046311, -1.1577060578657161, 0.36795754346511866, 0.970791311065794, 0.496204293102698, -0.05627542841788665, 0.10113620396598295, 0.7547476274222054, 0.15433234934660506], \"y\": [1.0667334168325768, 0.04817571551860875, -0.6353709157290994, -0.29979428249659507, 0.30291706303457033, -1.2658520234759039, 0.4984256330100474, -0.4813817437844393, 1.6528819231392327, -1.0387894611418347, -1.4866253379043493, -0.5281135473322252, -0.061645252730345844, 0.7876423965771268, 0.9285191892602837, -3.0483938246413547, -0.371184208418135, 0.11169331199774239, 0.30352330980386477, -1.1851393464396252, -0.3023997655692267, 1.4199893168847753, -0.332851303404407, 0.7955908630250091, 0.5869705278914006, -0.45090328668726354, -0.7814566611757896, -0.1261200409144497, 0.7060858452328673, -0.8894721878843294, 0.6064992291432117, -0.1963991863666514, 0.16697094643083513, -0.06591707111576753, 0.8961422265850149, 0.8939803073905991, 0.2526177880230376, -1.2523243277936627, 0.9749672569040144, 0.9687477057343876, 0.26351967435246515, -0.9517261189215155, -0.18707956459088698, -0.39391833601946274, 0.5273775265831957, -0.48180251718398176, -2.2230374431929953, 2.0999928572789828, 0.5496483529576708, 1.067298459209482, -0.3040289105606048, 0.1352094843666391, -0.9944404721270197, 2.2258275006902912, -0.11689955437978636, 0.41231462999024887, 0.7856039151273921, -0.6894731524779986, -0.8276899193670904, 0.23638272241448607, 1.3266743967632526, 0.9626096963262857, -0.28379390855690406, -0.417413711892243, -1.3341211120615861, 0.9298055489835776, 2.106720126861483, 0.23150307059926345, 0.8864836518334782, 0.4193977048083098, 0.3190869644200757, 0.9673541346062681, 0.42245148076732175, 1.0906377526894717, 1.3887188298690671, -0.19507483218944058, -0.9347090401182315, 0.30126885232107575, 0.42495072953595375, -0.9170212042816844, -1.6965969381460768, -0.011576471618042839, -1.0479065708976978, -0.4749222730814971, 0.4229046102099884, 0.08254929486846736, -0.7783883617548714, -0.17950878512595098, 0.4391940123110264, -1.9667304216807953, -1.5652802021531136, 0.8163770970520242, -0.008375093041838632, 0.5510487504106222, -0.4239325998518183, -0.1297116221823799, -0.10728910870450034, -0.12169367361116121, -0.6905111268638191, -0.2653540299125418], \"type\": \"scatter\", \"line\": {\"dash\": \"solid\", \"width\": 1.3, \"color\": \"rgba(128, 128, 128, 1.0)\"}, \"marker\": {\"size\": 2, \"symbol\": \"dot\"}, \"name\": \"C\"}, {\"yaxis\": \"y13\", \"mode\": \"markers\", \"text\": \"\", \"xaxis\": \"x13\", \"x\": [1.8787246669561561, 0.028733616663923985, -0.1587931161277573, -1.2219723462024636, 1.2531523973363488, 0.8312132082951045, 1.1740170898586173, -0.24393002059589958, -0.296966543277261, 0.7621695759158762, 0.04210347865555278, -0.7791970481917073, 0.3943032396655093, -1.0146190736152443, -0.4841710096782867, 0.5522466668361006, -2.77187556758784, -0.5181226698708166, -0.49722040792422156, -1.6534757596659548, -0.06027439377033132, 1.4769243769038323, 1.1796346669498379, -0.7816898015019265, 0.8630132212967984, 0.6590246731638996, -1.1013906677685679, -0.9446804895542242, -1.788022470413331, 0.8775002821729455, 0.3546715768521251, -0.16532125735222183, 1.8914747239632839, -1.1251772915449791, 0.8888981026894395, -0.6066117727706714, 0.8314777742724779, 0.3830457069359529, -0.937459527593053, -0.844561047334305, 1.1280232245052606, -1.640427972598561, 0.8971269652786067, 0.4848047458342485, 0.19373507090654035, -0.7387091317560727, -0.3566733282792827, -0.43158335134818315, -0.4899640124314907, 0.5488715658495908, 0.2821768987731658, -0.8832439438038343, 1.271863067044618, 0.10680856505919414, 0.8269478103679717, -0.03266751467505833, -0.34021520002722894, -0.6769186069469743, 0.7126188256918854, 1.8871150025438166, -0.06742662656190869, -1.4789736197389265, 0.346978601690099, -0.3757389938313092, 0.715285859520045, 1.5994858611908638, -0.3692558358591885, 0.13827360227735647, -0.40690530542342296, 0.636973800943974, 0.14658752987818605, -0.3949906255692418, 1.5076392623927681, -0.15486042602397807, 0.22159940179664614, -1.0878244818277978, -0.03354417910293162, 1.2258839316932069, -0.048951028800266715, -1.1089870994157809, 0.021452684803338333, 1.2548854256528554, -1.0913797662237141, -0.539059741192553, 0.6901269187662552, -1.4810451728120602, -0.8468654201203714, 0.3763927872506507, 0.8120568488462931, 0.0031767062628090745, 0.697742291538818, -0.7429703118062226, -0.842231117346612, -0.0666718362166121, 1.8829720647783421, 1.320112956074407, 0.42394324402947475, 0.466299928509142, 0.9415282138953815, -0.7707938096473991], \"y\": [0.5439560303056027, 1.8421879324257613, -0.6375584499267892, -1.113621595762316, -2.5460826344966634, -1.4694525849240658, 1.5284509091178395, -0.2389286047643509, -1.8771013496698048, 0.7967095179585106, -1.2751392945819797, -0.3919771719871495, 0.6960770780779357, 1.0829877919884603, -0.21798245190329507, 0.10031667681839129, 0.39551692710003933, 0.03022462233656908, -0.3327329523770193, -0.204819010502919, -0.498599044144297, -2.287561059130041, -0.2626249290420713, -2.7487145066091996, -0.666926270349069, -2.0379098459994895, 0.4076679798231559, 1.2245324594636484, -2.0903293143661017, 0.5730523735386692, -0.8155129116660126, -0.9572874252328925, 0.2646752398006613, -1.59152570791709, 0.0934028853207141, -2.602771223170992, 0.560010384592385, 0.449602390416327, -0.005796794476065169, 0.1829347250578045, -0.5607194705468903, -1.1999112237192675, -1.5750218946994066, 0.9111111432091317, -0.2530599561069696, -0.5460310452823662, -0.2531538203527998, 1.5968736605431069, 1.723507060923573, 0.38763182009739877, -1.5443680470309729, 1.2505835233573588, 0.0032375885699842803, 0.3870066878402003, -0.32906689091979147, 0.3856397258220775, -0.1654479720586817, 0.2232842423247386, -0.4418766853437538, -0.6751906059090874, -1.6521803078301385, 0.8305325757578166, 0.6577807720682736, -1.2851830040136305, 0.5089005765755124, 0.5962021316815027, 0.9573351203673642, -1.7458475655160375, -1.7131000048598244, 1.5732405203322046, -0.6605298861077683, -1.3437487967599893, 1.9772828633357302, -0.2856844646078326, 0.19293980157348012, 0.1628250911198371, 0.4208217295167736, 0.5627226183638288, -1.058090429960864, -1.3589615830656872, 2.138807050366944, 0.885718335515041, 0.8374040360650308, 0.49834346725709405, -1.3963572343750588, 2.2245606506923625, 0.19641383189506273, -0.3435398382353588, 0.7215114388529363, -0.8327583822270256, -2.039974975731211, 1.2859290252046311, -1.1577060578657161, 0.36795754346511866, 0.970791311065794, 0.496204293102698, -0.05627542841788665, 0.10113620396598295, 0.7547476274222054, 0.15433234934660506], \"type\": \"scatter\", \"line\": {\"dash\": \"solid\", \"width\": 1.3, \"color\": \"rgba(128, 128, 128, 1.0)\"}, \"marker\": {\"size\": 2, \"symbol\": \"dot\"}, \"name\": \"D\"}, {\"yaxis\": \"y14\", \"mode\": \"markers\", \"text\": \"\", \"xaxis\": \"x14\", \"x\": [0.6887194376286498, 0.1040535242504629, 0.38792642015276635, 1.3934230260395444, -0.5375976688704683, -1.1493608786796612, 0.01342890849383506, -0.47231861415738574, 0.24793169472844812, -0.6232083144122951, -1.2121596694710122, -2.4542371001007464, 0.29855785553142483, 1.2997620162676498, 0.9168047366909585, -0.41040614900130634, 1.3147531456519106, -0.12455263569370086, 0.9366143523054554, 0.23573463729990726, -0.8244746170540388, -0.32685668230128845, 1.501781503113865, 0.9830012153240587, 0.6020112305361386, 0.3688304138086671, 1.0090827131320237, -0.5811720111587422, 0.0512884505619472, -1.6917643070157176, -0.25322144257612356, -0.2937357494665306, 0.7368726362448421, 0.5763424997076779, 0.16472110066593693, -0.374254076023172, 1.1280304809680426, 0.6455371548668151, -0.18000225503004413, -0.9128911232313937, -0.5670695205365133, 0.16138491502455474, 1.2118733837294762, 0.4444506280024997, 0.6834767601409083, 1.8020727241195935, 2.4230878273709062, 0.27701889696287213, 1.4067122280705426, -0.33728919328412016, 0.5154870435338148, 0.7751019637809062, 1.400130435077449, 0.8276591566099151, 1.1268119555303864, 0.7016118169589718, 0.476169530704683, -0.5261125753709399, -1.2129692872143456, 0.6126338497954396, 1.5825905557818922, -0.8173630045970658, 0.1075602248072928, 1.2716988894407462, -0.15615948990467535, -0.2968566839654392, 1.7204934641303604, -0.869876624137026, 0.28935077735906545, -1.2052876742800458, -0.263979336251353, -0.02815365780209253, -0.04062347728476395, 0.943760296027789, -1.7797735906553165, 0.4485755919087686, 0.14778332986993048, 0.5305019463041807, 1.6359913516932165, -0.3437427119285297, 1.9109783094330681, 0.6818924480193401, -0.42214824562337705, 0.8935317581184008, 1.2587495288352297, -0.5992845246668753, 2.7851237345776405, -1.5158096238899554, 0.04177421570103183, 0.48980398157362903, 1.063643861677667, -0.8486329162129157, -1.86936339853131, 0.24761777046722996, 1.290606988097702, 0.17046338292604407, 0.14181179559597848, 0.6505415244850333, -2.5850581533594545, -0.30813091794721653], \"y\": [0.5439560303056027, 1.8421879324257613, -0.6375584499267892, -1.113621595762316, -2.5460826344966634, -1.4694525849240658, 1.5284509091178395, -0.2389286047643509, -1.8771013496698048, 0.7967095179585106, -1.2751392945819797, -0.3919771719871495, 0.6960770780779357, 1.0829877919884603, -0.21798245190329507, 0.10031667681839129, 0.39551692710003933, 0.03022462233656908, -0.3327329523770193, -0.204819010502919, -0.498599044144297, -2.287561059130041, -0.2626249290420713, -2.7487145066091996, -0.666926270349069, -2.0379098459994895, 0.4076679798231559, 1.2245324594636484, -2.0903293143661017, 0.5730523735386692, -0.8155129116660126, -0.9572874252328925, 0.2646752398006613, -1.59152570791709, 0.0934028853207141, -2.602771223170992, 0.560010384592385, 0.449602390416327, -0.005796794476065169, 0.1829347250578045, -0.5607194705468903, -1.1999112237192675, -1.5750218946994066, 0.9111111432091317, -0.2530599561069696, -0.5460310452823662, -0.2531538203527998, 1.5968736605431069, 1.723507060923573, 0.38763182009739877, -1.5443680470309729, 1.2505835233573588, 0.0032375885699842803, 0.3870066878402003, -0.32906689091979147, 0.3856397258220775, -0.1654479720586817, 0.2232842423247386, -0.4418766853437538, -0.6751906059090874, -1.6521803078301385, 0.8305325757578166, 0.6577807720682736, -1.2851830040136305, 0.5089005765755124, 0.5962021316815027, 0.9573351203673642, -1.7458475655160375, -1.7131000048598244, 1.5732405203322046, -0.6605298861077683, -1.3437487967599893, 1.9772828633357302, -0.2856844646078326, 0.19293980157348012, 0.1628250911198371, 0.4208217295167736, 0.5627226183638288, -1.058090429960864, -1.3589615830656872, 2.138807050366944, 0.885718335515041, 0.8374040360650308, 0.49834346725709405, -1.3963572343750588, 2.2245606506923625, 0.19641383189506273, -0.3435398382353588, 0.7215114388529363, -0.8327583822270256, -2.039974975731211, 1.2859290252046311, -1.1577060578657161, 0.36795754346511866, 0.970791311065794, 0.496204293102698, -0.05627542841788665, 0.10113620396598295, 0.7547476274222054, 0.15433234934660506], \"type\": \"scatter\", \"line\": {\"dash\": \"solid\", \"width\": 1.3, \"color\": \"rgba(128, 128, 128, 1.0)\"}, \"marker\": {\"size\": 2, \"symbol\": \"dot\"}, \"name\": \"D\"}, {\"yaxis\": \"y15\", \"mode\": \"markers\", \"text\": \"\", \"xaxis\": \"x15\", \"x\": [1.0667334168325768, 0.04817571551860875, -0.6353709157290994, -0.29979428249659507, 0.30291706303457033, -1.2658520234759039, 0.4984256330100474, -0.4813817437844393, 1.6528819231392327, -1.0387894611418347, -1.4866253379043493, -0.5281135473322252, -0.061645252730345844, 0.7876423965771268, 0.9285191892602837, -3.0483938246413547, -0.371184208418135, 0.11169331199774239, 0.30352330980386477, -1.1851393464396252, -0.3023997655692267, 1.4199893168847753, -0.332851303404407, 0.7955908630250091, 0.5869705278914006, -0.45090328668726354, -0.7814566611757896, -0.1261200409144497, 0.7060858452328673, -0.8894721878843294, 0.6064992291432117, -0.1963991863666514, 0.16697094643083513, -0.06591707111576753, 0.8961422265850149, 0.8939803073905991, 0.2526177880230376, -1.2523243277936627, 0.9749672569040144, 0.9687477057343876, 0.26351967435246515, -0.9517261189215155, -0.18707956459088698, -0.39391833601946274, 0.5273775265831957, -0.48180251718398176, -2.2230374431929953, 2.0999928572789828, 0.5496483529576708, 1.067298459209482, -0.3040289105606048, 0.1352094843666391, -0.9944404721270197, 2.2258275006902912, -0.11689955437978636, 0.41231462999024887, 0.7856039151273921, -0.6894731524779986, -0.8276899193670904, 0.23638272241448607, 1.3266743967632526, 0.9626096963262857, -0.28379390855690406, -0.417413711892243, -1.3341211120615861, 0.9298055489835776, 2.106720126861483, 0.23150307059926345, 0.8864836518334782, 0.4193977048083098, 0.3190869644200757, 0.9673541346062681, 0.42245148076732175, 1.0906377526894717, 1.3887188298690671, -0.19507483218944058, -0.9347090401182315, 0.30126885232107575, 0.42495072953595375, -0.9170212042816844, -1.6965969381460768, -0.011576471618042839, -1.0479065708976978, -0.4749222730814971, 0.4229046102099884, 0.08254929486846736, -0.7783883617548714, -0.17950878512595098, 0.4391940123110264, -1.9667304216807953, -1.5652802021531136, 0.8163770970520242, -0.008375093041838632, 0.5510487504106222, -0.4239325998518183, -0.1297116221823799, -0.10728910870450034, -0.12169367361116121, -0.6905111268638191, -0.2653540299125418], \"y\": [0.5439560303056027, 1.8421879324257613, -0.6375584499267892, -1.113621595762316, -2.5460826344966634, -1.4694525849240658, 1.5284509091178395, -0.2389286047643509, -1.8771013496698048, 0.7967095179585106, -1.2751392945819797, -0.3919771719871495, 0.6960770780779357, 1.0829877919884603, -0.21798245190329507, 0.10031667681839129, 0.39551692710003933, 0.03022462233656908, -0.3327329523770193, -0.204819010502919, -0.498599044144297, -2.287561059130041, -0.2626249290420713, -2.7487145066091996, -0.666926270349069, -2.0379098459994895, 0.4076679798231559, 1.2245324594636484, -2.0903293143661017, 0.5730523735386692, -0.8155129116660126, -0.9572874252328925, 0.2646752398006613, -1.59152570791709, 0.0934028853207141, -2.602771223170992, 0.560010384592385, 0.449602390416327, -0.005796794476065169, 0.1829347250578045, -0.5607194705468903, -1.1999112237192675, -1.5750218946994066, 0.9111111432091317, -0.2530599561069696, -0.5460310452823662, -0.2531538203527998, 1.5968736605431069, 1.723507060923573, 0.38763182009739877, -1.5443680470309729, 1.2505835233573588, 0.0032375885699842803, 0.3870066878402003, -0.32906689091979147, 0.3856397258220775, -0.1654479720586817, 0.2232842423247386, -0.4418766853437538, -0.6751906059090874, -1.6521803078301385, 0.8305325757578166, 0.6577807720682736, -1.2851830040136305, 0.5089005765755124, 0.5962021316815027, 0.9573351203673642, -1.7458475655160375, -1.7131000048598244, 1.5732405203322046, -0.6605298861077683, -1.3437487967599893, 1.9772828633357302, -0.2856844646078326, 0.19293980157348012, 0.1628250911198371, 0.4208217295167736, 0.5627226183638288, -1.058090429960864, -1.3589615830656872, 2.138807050366944, 0.885718335515041, 0.8374040360650308, 0.49834346725709405, -1.3963572343750588, 2.2245606506923625, 0.19641383189506273, -0.3435398382353588, 0.7215114388529363, -0.8327583822270256, -2.039974975731211, 1.2859290252046311, -1.1577060578657161, 0.36795754346511866, 0.970791311065794, 0.496204293102698, -0.05627542841788665, 0.10113620396598295, 0.7547476274222054, 0.15433234934660506], \"type\": \"scatter\", \"line\": {\"dash\": \"solid\", \"width\": 1.3, \"color\": \"rgba(128, 128, 128, 1.0)\"}, \"marker\": {\"size\": 2, \"symbol\": \"dot\"}, \"name\": \"D\"}, {\"yaxis\": \"y16\", \"x\": [0.5439560303056027, 1.8421879324257613, -0.6375584499267892, -1.113621595762316, -2.5460826344966634, -1.4694525849240658, 1.5284509091178395, -0.2389286047643509, -1.8771013496698048, 0.7967095179585106, -1.2751392945819797, -0.3919771719871495, 0.6960770780779357, 1.0829877919884603, -0.21798245190329507, 0.10031667681839129, 0.39551692710003933, 0.03022462233656908, -0.3327329523770193, -0.204819010502919, -0.498599044144297, -2.287561059130041, -0.2626249290420713, -2.7487145066091996, -0.666926270349069, -2.0379098459994895, 0.4076679798231559, 1.2245324594636484, -2.0903293143661017, 0.5730523735386692, -0.8155129116660126, -0.9572874252328925, 0.2646752398006613, -1.59152570791709, 0.0934028853207141, -2.602771223170992, 0.560010384592385, 0.449602390416327, -0.005796794476065169, 0.1829347250578045, -0.5607194705468903, -1.1999112237192675, -1.5750218946994066, 0.9111111432091317, -0.2530599561069696, -0.5460310452823662, -0.2531538203527998, 1.5968736605431069, 1.723507060923573, 0.38763182009739877, -1.5443680470309729, 1.2505835233573588, 0.0032375885699842803, 0.3870066878402003, -0.32906689091979147, 0.3856397258220775, -0.1654479720586817, 0.2232842423247386, -0.4418766853437538, -0.6751906059090874, -1.6521803078301385, 0.8305325757578166, 0.6577807720682736, -1.2851830040136305, 0.5089005765755124, 0.5962021316815027, 0.9573351203673642, -1.7458475655160375, -1.7131000048598244, 1.5732405203322046, -0.6605298861077683, -1.3437487967599893, 1.9772828633357302, -0.2856844646078326, 0.19293980157348012, 0.1628250911198371, 0.4208217295167736, 0.5627226183638288, -1.058090429960864, -1.3589615830656872, 2.138807050366944, 0.885718335515041, 0.8374040360650308, 0.49834346725709405, -1.3963572343750588, 2.2245606506923625, 0.19641383189506273, -0.3435398382353588, 0.7215114388529363, -0.8327583822270256, -2.039974975731211, 1.2859290252046311, -1.1577060578657161, 0.36795754346511866, 0.970791311065794, 0.496204293102698, -0.05627542841788665, 0.10113620396598295, 0.7547476274222054, 0.15433234934660506], \"orientation\": \"v\", \"name\": \"D\", \"opacity\": 0.8, \"histfunc\": \"count\", \"type\": \"histogram\", \"histnorm\": \"\", \"nbinsx\": 10, \"marker\": {\"line\": {\"width\": 1.3, \"color\": \"#D9D9D9\"}, \"color\": \"rgba(101, 101, 101, 1.0)\"}, \"xaxis\": \"x16\"}], {\"xaxis14\": {\"anchor\": \"y14\", \"domain\": [0.2625, 0.475]}, \"titlefont\": {\"color\": \"#151516\"}, \"xaxis16\": {\"anchor\": \"y16\", \"domain\": [0.7875000000000001, 1.0]}, \"yaxis15\": {\"anchor\": \"x15\", \"domain\": [0.0, 0.1975]}, \"yaxis16\": {\"anchor\": \"x16\", \"domain\": [0.0, 0.1975]}, \"paper_bgcolor\": \"#FFFFFF\", \"yaxis4\": {\"anchor\": \"x4\", \"domain\": [0.8025, 1.0]}, \"plot_bgcolor\": \"#E5E5E5\", \"xaxis15\": {\"anchor\": \"y15\", \"domain\": [0.525, 0.7375]}, \"xaxis2\": {\"anchor\": \"y2\", \"domain\": [0.2625, 0.475]}, \"yaxis10\": {\"anchor\": \"x10\", \"domain\": [0.2675, 0.465]}, \"yaxis11\": {\"anchor\": \"x11\", \"domain\": [0.2675, 0.465]}, \"xaxis5\": {\"anchor\": \"y5\", \"domain\": [0.0, 0.2125]}, \"xaxis1\": {\"anchor\": \"y1\", \"zerolinecolor\": \"#F6F6F6\", \"title\": \"\", \"titlefont\": {\"color\": \"#666666\"}, \"tickfont\": {\"color\": \"#666666\"}, \"showgrid\": false, \"domain\": [0.0, 0.2125], \"gridcolor\": \"#F6F6F6\"}, \"xaxis4\": {\"anchor\": \"y4\", \"domain\": [0.7875000000000001, 1.0]}, \"yaxis14\": {\"anchor\": \"x14\", \"domain\": [0.0, 0.1975]}, \"xaxis11\": {\"anchor\": \"y11\", \"domain\": [0.525, 0.7375]}, \"xaxis10\": {\"anchor\": \"y10\", \"domain\": [0.2625, 0.475]}, \"yaxis13\": {\"anchor\": \"x13\", \"domain\": [0.0, 0.1975]}, \"yaxis9\": {\"anchor\": \"x9\", \"domain\": [0.2675, 0.465]}, \"xaxis6\": {\"anchor\": \"y6\", \"domain\": [0.2625, 0.475]}, \"xaxis9\": {\"anchor\": \"y9\", \"domain\": [0.0, 0.2125]}, \"yaxis2\": {\"anchor\": \"x2\", \"domain\": [0.8025, 1.0]}, \"xaxis3\": {\"anchor\": \"y3\", \"domain\": [0.525, 0.7375]}, \"xaxis7\": {\"anchor\": \"y7\", \"domain\": [0.525, 0.7375]}, \"xaxis13\": {\"anchor\": \"y13\", \"domain\": [0.0, 0.2125]}, \"xaxis8\": {\"anchor\": \"y8\", \"domain\": [0.7875000000000001, 1.0]}, \"yaxis1\": {\"anchor\": \"x1\", \"zerolinecolor\": \"#F6F6F6\", \"title\": \"\", \"titlefont\": {\"color\": \"#666666\"}, \"tickfont\": {\"color\": \"#666666\"}, \"showgrid\": false, \"domain\": [0.8025, 1.0], \"gridcolor\": \"#F6F6F6\"}, \"legend\": {\"font\": {\"color\": \"#666666\"}, \"bgcolor\": \"#FFFFFF\"}, \"xaxis12\": {\"anchor\": \"y12\", \"domain\": [0.7875000000000001, 1.0]}, \"bargap\": 0.02, \"yaxis8\": {\"anchor\": \"x8\", \"domain\": [0.535, 0.7325]}, \"showlegend\": false, \"yaxis3\": {\"anchor\": \"x3\", \"domain\": [0.8025, 1.0]}, \"yaxis12\": {\"anchor\": \"x12\", \"domain\": [0.2675, 0.465]}, \"yaxis7\": {\"anchor\": \"x7\", \"domain\": [0.535, 0.7325]}, \"yaxis5\": {\"anchor\": \"x5\", \"domain\": [0.535, 0.7325]}, \"yaxis6\": {\"anchor\": \"x6\", \"domain\": [0.535, 0.7325]}}, {\"showLink\": true, \"linkText\": \"Export to plot.ly\"})});</script>"
      ],
      "text/plain": [
       "<IPython.core.display.HTML object>"
      ]
     },
     "metadata": {},
     "output_type": "display_data"
    }
   ],
   "source": [
    "df.scatter_matrix()"
   ]
  },
  {
   "cell_type": "markdown",
   "metadata": {
    "collapsed": true
   },
   "source": [
    "# Great Job!"
   ]
  }
 ],
 "metadata": {
  "kernelspec": {
   "display_name": "Python 3",
   "language": "python",
   "name": "python3"
  },
  "language_info": {
   "codemirror_mode": {
    "name": "ipython",
    "version": 3
   },
   "file_extension": ".py",
   "mimetype": "text/x-python",
   "name": "python",
   "nbconvert_exporter": "python",
   "pygments_lexer": "ipython3",
   "version": "3.7.4"
  }
 },
 "nbformat": 4,
 "nbformat_minor": 1
}
